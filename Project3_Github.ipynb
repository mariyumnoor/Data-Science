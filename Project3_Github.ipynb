{
  "nbformat": 4,
  "nbformat_minor": 0,
  "metadata": {
    "colab": {
      "name": "Project3.ipynb",
      "provenance": [],
      "collapsed_sections": []
    },
    "kernelspec": {
      "name": "python3",
      "display_name": "Python 3"
    },
    "language_info": {
      "name": "python"
    }
  },
  "cells": [
    {
      "cell_type": "markdown",
      "source": [
        "## **Importing Packages**"
      ],
      "metadata": {
        "id": "G_F69ExTq4wD"
      }
    },
    {
      "cell_type": "code",
      "source": [
        "!pip install beautifulsoup4 wikipedia"
      ],
      "metadata": {
        "colab": {
          "base_uri": "https://localhost:8080/"
        },
        "id": "5K_WS89qzMjE",
        "outputId": "45aa4545-3e3e-4e86-d8e3-1f5b07e15b2f"
      },
      "execution_count": null,
      "outputs": [
        {
          "output_type": "stream",
          "name": "stdout",
          "text": [
            "Requirement already satisfied: beautifulsoup4 in /usr/local/lib/python3.7/dist-packages (4.6.3)\n",
            "Requirement already satisfied: wikipedia in /usr/local/lib/python3.7/dist-packages (1.4.0)\n",
            "Requirement already satisfied: requests<3.0.0,>=2.0.0 in /usr/local/lib/python3.7/dist-packages (from wikipedia) (2.23.0)\n",
            "Requirement already satisfied: idna<3,>=2.5 in /usr/local/lib/python3.7/dist-packages (from requests<3.0.0,>=2.0.0->wikipedia) (2.10)\n",
            "Requirement already satisfied: chardet<4,>=3.0.2 in /usr/local/lib/python3.7/dist-packages (from requests<3.0.0,>=2.0.0->wikipedia) (3.0.4)\n",
            "Requirement already satisfied: certifi>=2017.4.17 in /usr/local/lib/python3.7/dist-packages (from requests<3.0.0,>=2.0.0->wikipedia) (2021.10.8)\n",
            "Requirement already satisfied: urllib3!=1.25.0,!=1.25.1,<1.26,>=1.21.1 in /usr/local/lib/python3.7/dist-packages (from requests<3.0.0,>=2.0.0->wikipedia) (1.24.3)\n"
          ]
        }
      ]
    },
    {
      "cell_type": "code",
      "source": [
        "#Importing relevant packages\n",
        "\n",
        "import pandas as pd\n",
        "import seaborn as sns\n",
        "import matplotlib.pyplot as plt\n",
        "from scipy import stats\n",
        "from bs4 import BeautifulSoup\n",
        "import wikipedia\n",
        "import requests"
      ],
      "metadata": {
        "id": "6L7CuhIXcpaN"
      },
      "execution_count": null,
      "outputs": []
    },
    {
      "cell_type": "markdown",
      "source": [
        "## **Gathering Wikipedia Data**"
      ],
      "metadata": {
        "id": "IaxjvP3hTr9q"
      }
    },
    {
      "cell_type": "markdown",
      "source": [
        "### List of U.S. states and territories by GDP"
      ],
      "metadata": {
        "id": "n_d-zMGiqMnK"
      }
    },
    {
      "cell_type": "code",
      "source": [
        "state_gdp_json = {}\n",
        "\n",
        "page = wikipedia.page(\"List of U.S. states and territories by GDP\")\n",
        "soup = BeautifulSoup(page.html(), 'html5lib')\n",
        "\n",
        "table = soup(\"table\")[0]\n",
        "table = table(\"tbody\")[0]\n",
        "rows = table(\"tr\")\n",
        "\n",
        "for row in rows[3:-1]:\n",
        "    state = row(\"td\")[0]\n",
        "    state = state(\"a\")[0].text\n",
        "    state = state.rstrip(\"\\u202f*\")\n",
        "\n",
        "    gdp = row(\"td\")[7].text\n",
        "    gdp = gdp.lstrip(\"$\")\n",
        "    gdp = gdp.rstrip()\n",
        "    gdp = gdp.replace(\",\", \"\")\n",
        "    gdp = int(gdp)\n",
        "\n",
        "    state_gdp_json[state] = gdp"
      ],
      "metadata": {
        "id": "nGtWX1h1z3dX"
      },
      "execution_count": null,
      "outputs": []
    },
    {
      "cell_type": "markdown",
      "source": [
        "### List of U.S. states and territories by poverty rate"
      ],
      "metadata": {
        "id": "Jai9yJN_qQk1"
      }
    },
    {
      "cell_type": "code",
      "source": [
        "poverty_rate_json = {}\n",
        "\n",
        "page = wikipedia.page(\"List of U.S. states and territories by poverty rate\")\n",
        "soup = BeautifulSoup(page.html(), 'html5lib')\n",
        "\n",
        "table = soup(\"table\")[1]\n",
        "table = table(\"tbody\")[0]\n",
        "rows = table(\"tr\")\n",
        "# row\n",
        "\n",
        "for row in rows[3:-2]:\n",
        "  state = row(\"td\")[1]\n",
        "  state = state(\"a\")[0].text\n",
        "  \n",
        "  poverty_rate = row(\"td\")[2].text\n",
        "  poverty_rate = poverty_rate.rstrip(\"%\")\n",
        "  poverty_rate = float(poverty_rate)\n",
        "\n",
        "  poverty_rate_json[state] = poverty_rate\n",
        "  \n",
        "print(poverty_rate_json)\n",
        "\n",
        "\n"
      ],
      "metadata": {
        "colab": {
          "base_uri": "https://localhost:8080/"
        },
        "id": "JplW3Tc4liXr",
        "outputId": "5dd7cdd5-4752-42e8-b380-b9689539d381"
      },
      "execution_count": null,
      "outputs": [
        {
          "output_type": "stream",
          "name": "stdout",
          "text": [
            "{'Utah': 8.9, 'Maryland': 9.0, 'Minnesota': 9.0, 'New Jersey': 9.2, 'Colorado': 9.3, 'Hawaii': 9.3, 'Massachusetts': 9.4, 'Washington': 9.8, 'Virginia': 9.9, 'Nebraska': 9.9, 'Connecticut': 10.0, 'Alaska': 10.1, 'Wyoming': 10.1, 'Vermont': 10.2, 'Wisconsin': 10.4, 'North Dakota': 10.6, 'Rhode Island': 10.8, 'Maine': 10.9, 'Idaho': 11.2, 'Iowa': 11.2, 'Delaware': 11.3, 'Kansas': 11.4, 'Oregon': 11.4, 'Illinois': 11.5, 'California': 11.8, 'Indiana': 11.9, 'South Dakota': 11.9, 'Pennsylvania': 12.0, 'Nevada': 12.5, 'Montana': 12.6, 'Florida': 12.7, 'Missouri': 12.9, 'Michigan': 13.0, 'New York': 13.0, 'Ohio': 13.1, 'Arizona': 13.5, '': 13.3, 'District of Columbia': 13.5, 'North Carolina': 13.6, 'Texas': 13.6, 'South Carolina': 13.8, 'Tennessee': 13.9, 'Oklahoma': 15.2, 'Alabama': 15.5, 'West Virginia': 16.0, 'Arkansas': 16.2, 'Kentucky': 16.3, 'New Mexico': 18.2, 'Louisiana': 19.0, 'Mississippi': 20.3}\n"
          ]
        }
      ]
    },
    {
      "cell_type": "markdown",
      "source": [
        "### List of U.S. states and territories by population"
      ],
      "metadata": {
        "id": "HMQKarf1qY7v"
      }
    },
    {
      "cell_type": "code",
      "source": [
        "population_json = {}\n",
        "\n",
        "page = wikipedia.page(\"List of U.S. states and territories by population\")\n",
        "soup = BeautifulSoup(page.html(), 'html5lib')\n",
        "\n",
        "table = soup(\"table\")[0]\n",
        "table = table(\"tbody\")[0]\n",
        "rows = table(\"tr\")\n",
        "\n",
        "for row in rows[2:-8]:\n",
        "    state = row(\"th\")[0]\n",
        "    state = state(\"a\")[0].text\n",
        "    \n",
        "\n",
        "    population = row(\"td\")[2].text\n",
        "    population = population.rstrip(\"\\n\")\n",
        "    population = population.replace(\",\", \"\")\n",
        "    population = int(population)\n",
        "\n",
        "    population_json[state] = population"
      ],
      "metadata": {
        "id": "1WmIXDVx7d4o"
      },
      "execution_count": null,
      "outputs": []
    },
    {
      "cell_type": "markdown",
      "source": [
        "### List of U.S. states and territories by median age"
      ],
      "metadata": {
        "id": "qJccB2apqcHw"
      }
    },
    {
      "cell_type": "code",
      "source": [
        "median_age_json = {}\n",
        "\n",
        "page = wikipedia.page(\"List of U.S. states and territories by median age\")\n",
        "soup = BeautifulSoup(page.html(), 'html5lib')\n",
        "\n",
        "table = soup (\"table\")[0]\n",
        "table = table(\"tbody\")[0]\n",
        "rows = table(\"tr\")\n",
        "\n",
        "for row in rows[2:-2]:\n",
        "    state = row(\"td\")[1]\n",
        "    state = state(\"a\")[0].text\n",
        "\n",
        "    MedianAge = row(\"td\")[2].text\n",
        "    MedianAge = MedianAge.rstrip(\"\\n\")\n",
        "    MedianAge = float(MedianAge)\n",
        "\n",
        "    median_age_json[state] = MedianAge"
      ],
      "metadata": {
        "id": "-yOdp_8DE59z"
      },
      "execution_count": null,
      "outputs": []
    },
    {
      "cell_type": "markdown",
      "source": [
        "### Suicide in the United States"
      ],
      "metadata": {
        "id": "WoCNLsrjqew6"
      }
    },
    {
      "cell_type": "code",
      "source": [
        "suicide_rates_json = []\n",
        "\n",
        "page = wikipedia.page(\"Suicide in the United States\")\n",
        "soup = BeautifulSoup(page.html(), 'html5lib')\n",
        "\n",
        "table = soup (\"table\")[0]\n",
        "table = table(\"tbody\")[0]\n",
        "rows = table(\"tr\")\n",
        "\n",
        "males = rows[1](\"td\")\n",
        "females = rows[2](\"td\")\n",
        "\n",
        "suicide_rates_json.append([\"Males\"] + [int(males[i].text) for i in range(8)])\n",
        "suicide_rates_json.append([\"Females\"] + [int(females[i].text) for i in range(8)])\n",
        "\n",
        "suicide_rates = pd.DataFrame(suicide_rates_json, columns=[\n",
        "    \"Sex\", \"10-14\", \"15-24\", \"25-34\", \"35-44\", \"45-54\", \"55-64\", \"65-74\", \"75+\"\n",
        "])\n",
        "suicide_rates = suicide_rates.set_index(\"Sex\")"
      ],
      "metadata": {
        "id": "mdqYOc3-VSKf"
      },
      "execution_count": null,
      "outputs": []
    },
    {
      "cell_type": "markdown",
      "source": [
        "### List of U.S. states and territories by unemployment rate"
      ],
      "metadata": {
        "id": "VwQBID_UqhjE"
      }
    },
    {
      "cell_type": "code",
      "source": [
        "unemployment_rate_json = {}\n",
        "\n",
        "page = wikipedia.page(\"List of U.S. states and territories by unemployment rate\")\n",
        "soup = BeautifulSoup(page.html(), 'html5lib')\n",
        "\n",
        "table = soup(\"table\")[0]\n",
        "table = table(\"tbody\")[0]\n",
        "# print(table)\n",
        "rows = table(\"tr\")\n",
        "\n",
        "for row in rows[2:-3]:\n",
        "  state = row(\"td\")[2]\n",
        "  state = state(\"a\")[0].text\n",
        "  # print(state)\n",
        "\n",
        "  unemployment = row(\"td\")[3].text\n",
        "  # print(unemployment)\n",
        "  unemployment = unemployment.rstrip(\"%\\n\")\n",
        "  unemployment = float(unemployment)\n",
        "\n",
        "  unemployment_rate_json[state] = unemployment\n",
        "\n",
        "\n",
        "\n",
        "\n"
      ],
      "metadata": {
        "id": "fMPzA1xmcrIq"
      },
      "execution_count": null,
      "outputs": []
    },
    {
      "cell_type": "code",
      "source": [
        "# https://en.wikipedia.org/wiki/List_of_U.S._states_and_territories_by_GDP\n",
        "state_gdp_json = {\"District of Columbia\":202455,\"New York\":91459,\"Massachusetts\":86449,\"Washington\":82101,\"North Dakota\":74032,\"California\":80727,\"Connecticut\":80888,\"Delaware\":78924,\"Nebraska\":68642,\"Alaska\":72263,\"Illinois\":69800,\"New Jersey\":72243,\"Wyoming\":66832,\"Maryland\":71426,\"Colorado\":69475,\"Minnesota\":68185,\"Iowa\":62283,\"Virginia\":65930,\"South Dakota\":63382,\"Texas\":62712,\"New Hampshire\":64846,\"Kansas\":61076,\"Pennsylvania\":63193,\"Utah\":61027,\"Hawaii\":67395,\"Georgia\":59465,\"Oregon\":61106,\"Ohio\":59566,\"Wicsonsin\":59807,\"North Carolina\":57268,\"Idiana\":56729,\"Nevada\":58452,\"Tennessee\":55532,\"Rhode Island\":58502,\"Missouri\":53818,\"Vermont\":54515,\"Michigan\":53590,\"Florida\":52217,\"Arizona\":51865,\"Louisiana\":53996,\"Maine\":50832,\"Montana\":49856,\"Kentucky\":48484,\"Oklahoma\":49445,\"New Mexico\":49838,\"South Carolina\":48138,\"West Virginia\":42614,\"Idaho\":48033,\"Alabama\":46875,\"Arkansas\":43691,\"Mississippi\":39347}\n",
        "\n",
        "# https://en.wikipedia.org/wiki/List_of_U.S._states_and_territories_by_population\n",
        "population_json = {\"Alabama\":5024279,\"Alaska\":733391,\"Arizona\":7151502,\"Arkansas\":3011524,\"California\":39538223,\"Colorado\":5773714,\"Connecticut\":3605944,\"Delaware\":989948,\"District of Columbia\":689545,\"Florida\":21538187,\"Georgia\":10711908,\"Hawaii\":1455271,\"Idaho\":1839106,\"Illinois\":12812508,\"Indiana\":6785528,\"Iowa\":3190369,\"Kansas\":2937880,\"Kentucky\":4505836,\"Louisiana\":4657757,\"Maine\":1362359,\"Maryland\":6177224,\"Massachusetts\":7029917,\"Michigan\":10077331,\"Minnesota\":5706494,\"Mississippi\":2961279,\"Missouri\":6154913,\"Montana\":1084225,\"Nebraska\":1961504,\"Nevada\":3104614,\"New Hampshire\":1377529,\"New Jersey\":9288994,\"New Mexico\":2117522,\"New York\":20201249,\"North Carolina\":10439388,\"North Dakota\":779094,\"Ohio\":11799448,\"Oklahoma\":3959353,\"Oregon\":4237256,\"Pennsylvania\":13002700,\"Rhode Island\":1097379,\"South Carolina\":5118425,\"South Dakota\":886667,\"Tennessee\":6910840,\"Texas\":29145505,\"Utah\":3271616,\"Vermont\":643077,\"Virginia\":8631393,\"Washington\":7705281,\"West Virginia\":1793716,\"Wisconsin\":5893718,\"Wyoming\":576851}\n",
        "\n",
        "# https://en.wikipedia.org/wiki/List_of_U.S._states_and_territories_by_median_age\n",
        "median_age_json = {\"Maine\":45,\"New Hampshire\":43.1,\"Vermont\":43,\"West Virginia\":42.9,\"Florida\":42.5,\"Connecticut\":41.1,\"Delaware\":41.1,\"Pennsylvania\":40.8,\"Rhode Island\":40.1,\"New Jersey\":40.1,\"Montana\":40.1,\"Michigan\":39.9,\"South Carolina\":39.9,\"Wisconsin\":39.8,\"Massachusetts\":39.6,\"Oregon\":39.6,\"Hawaii\":39.6,\"Ohio\":39.5,\"Alabama\":39.4,\"New York\":39.2,\"Kentucky\":39.1,\"North Carolina\":39.1,\"Maryland\":39.1,\"Tennessee\":39,\"Missouri\":38.9,\"Virginia\":38.6,\"Illinois\":38.6,\"Arkansas\":38.5,\"Iowa\":38.5,\"New Mexico\":38.4,\"Wyoming\":38.4,\"Minnesota\":38.3,\"Nevada\":38.3,\"Arizona\":38.2,\"Mississippi\":38,\"Indiana\":37.9,\"Washington\":37.8,\"Louisiana\":37.5,\"South Dakota\":37.4,\"Colorado\":37.1,\"Georgia\":37.1,\"Kansas\":37.1,\"California\":37,\"Oklahoma\":36.9,\"Idaho\":36.9,\"Nebraska\":36.8,\"North Dakota\":35.3,\"Texas\":35,\"Alaska\":35,\"District of Columbia\":34.2,\"Utah\":31.3}\n",
        "\n"
      ],
      "metadata": {
        "id": "VMQSOENGWqZk"
      },
      "execution_count": null,
      "outputs": []
    },
    {
      "cell_type": "markdown",
      "source": [
        "### JSON for Birth Rate"
      ],
      "metadata": {
        "id": "_L06PohmT6tT"
      }
    },
    {
      "cell_type": "code",
      "source": [
        "# https://www.cdc.gov/nchs/pressroom/sosmap/fertility_rate/fertility_rates.htm\n",
        "birth_rates_json = {\n",
        "    \"North Dakota\": 67.4,\n",
        "    \"South Dakota\": 66.7,\n",
        "    \"Alaska\": 65.7,\n",
        "    \"Nebraska\": 64.7,\n",
        "    \"Utah\": 64.1,\n",
        "    \"Louisiana\": 62.2,\n",
        "    \"Kansas\": 61.1,\n",
        "    \"Hawaii\": 61.1,\n",
        "    \"Oklahoma\": 61.0,\n",
        "    \"Mississippi\": 61.0,\n",
        "    \"Idaho\": 60.9,\n",
        "    \"Kentucky\": 60.8,\n",
        "    \"Arkansas\": 60.7,\n",
        "    \"Alabama\": 60.6,\n",
        "    \"Iowa\": 60.4,\n",
        "    \"Texas\": 60.2,\n",
        "    \"Indiana\": 59.8,\n",
        "    \"Missouri\": 58.7,\n",
        "    \"New Jersey\": 58.6,\n",
        "    \"Tennessee\": 58.5,\n",
        "    \"Ohio\": 58.3,\n",
        "    \"Minnesota\": 58.3,\n",
        "    \"Maryland\": 57.7,\n",
        "    \"Delaware\": 57.0,\n",
        "    \"Wyoming\": 56.4,\n",
        "    \"North Carolina\": 56.2,\n",
        "    \"South Carolina\": 55.9,\n",
        "    \"Virginia\": 55.8,\n",
        "    \"Georgia\": 55.7,\n",
        "    \"Michigan\": 55.6,\n",
        "    \"Wisconsin\": 55.4,\n",
        "    \"West Virginia\": 55.3,\n",
        "    \"Pennsylvania\": 54.9,\n",
        "    \"Nevada\": 54.8,\n",
        "    \"New York\": 54.6,\n",
        "    \"Montana\": 54.3,\n",
        "    \"Washington\": 54.0,\n",
        "    \"Arizona\": 54.0,\n",
        "    \"Illinois\": 53.8,\n",
        "    \"Florida\": 53.4,\n",
        "    \"California\": 52.4,\n",
        "    \"Colorado\": 51.5,\n",
        "    \"Connecticut\": 49.9,\n",
        "    \"Maine\": 49.2,\n",
        "    \"Rhode Island\": 48.7,\n",
        "    \"Oregon\": 47.8,\n",
        "    \"New Hampshire\": 47.7,\n",
        "    \"Massachusetts\": 47.6,\n",
        "    \"Vermont\": 44.7\n",
        "}"
      ],
      "metadata": {
        "id": "CScbPz71XayB"
      },
      "execution_count": null,
      "outputs": []
    },
    {
      "cell_type": "markdown",
      "source": [
        "### JSON for depression rate"
      ],
      "metadata": {
        "id": "y_lYmM-QqwFC"
      }
    },
    {
      "cell_type": "code",
      "source": [
        "# https://www.americashealthrankings.org/explore/annual/measure/Depression_a/state/ALL\n",
        "depression_rates_json = {\n",
        "    \"Hawaii\": 12.7,\n",
        "    \"California\": 14.1,\n",
        "    \"Florida\": 14.7,\n",
        "    \"Illinois\": 14.7,\n",
        "    \"New Jersey\": 15.2,\n",
        "    \"Delaware\": 15.6,\n",
        "    \"Maryland\": 15.7,\n",
        "    \"Alaska\": 15.9,\n",
        "    \"South Dakota\": 16.1,\n",
        "    \"Nebraska\": 16.8,\n",
        "    \"New York\": 16.8,\n",
        "    \"Georgia\": 17.2,\n",
        "    \"Virginia\": 17.2,\n",
        "    \"Arizona\": 17.4,\n",
        "    \"Iowa\": 17.4,\n",
        "    \"Nevada\": 17.6,\n",
        "    \"New Mexico\": 17.6,\n",
        "    \"Connecticut\": 17.7,\n",
        "    \"Texas\": 17.7,\n",
        "    \"Massachusetts\": 17.9,\n",
        "    \"Wyoming\": 18.3,\n",
        "    \"Colorado\": 18.5,\n",
        "    \"Idaho\": 18.9,\n",
        "    \"Kansas\": 19.2,\n",
        "    \"North Dakota\": 19.2,\n",
        "    \"Michigan\": 19.5,\n",
        "    \"Minnesota\": 19.8,\n",
        "    \"Wisconsin\": 19.8,\n",
        "    \"Pennsylvania\": 20.2,\n",
        "    \"North Carolina\": 20.8,\n",
        "    \"Mississippi\": 20.9,\n",
        "    \"Rhode Island\": 21.1,\n",
        "    \"Oregon\": 21.2,\n",
        "    \"South Carolina\": 21.4,\n",
        "    \"New Hampshire\": 21.5,\n",
        "    \"Indiana\": 21.9,\n",
        "    \"Ohio\": 22.0,\n",
        "    \"Maine\": 22.1,\n",
        "    \"Montana\": 22.6,\n",
        "    \"Missouri\": 22.8,\n",
        "    \"Oklahoma\": 22.9,\n",
        "    \"Utah\": 23.1,\n",
        "    \"Vermont\": 23.3,\n",
        "    \"Washington\": 23.4,\n",
        "    \"Alabama\": 23.5,\n",
        "    \"Arkansas\": 23.5,\n",
        "    \"Louisiana\": 23.5,\n",
        "    \"Tennessee\": 24.1,\n",
        "    \"Kentucky\": 24.2,\n",
        "    \"West Virginia\": 26.4,\n",
        "    \"District of Columbia\": 19.8,\n",
        "}"
      ],
      "metadata": {
        "id": "c_9iHAcvgOxJ"
      },
      "execution_count": null,
      "outputs": []
    },
    {
      "cell_type": "markdown",
      "source": [
        "### JSON for Adult Obesity "
      ],
      "metadata": {
        "id": "8phYCNC3qzOc"
      }
    },
    {
      "cell_type": "code",
      "source": [
        "# https://stateofchildhoodobesity.org/adult-obesity/\n",
        "obesity_rates_json = {\n",
        "    \"Mississippi\": 39.7,\n",
        "    \"West Virginia\": 39.1,\n",
        "    \"Alabama\": 39.0,\n",
        "    \"Louisiana\": 38.1,\n",
        "    \"Indiana\": 36.8,\n",
        "    \"Kentucky\": 36.6,\n",
        "    \"Delaware\": 36.5,\n",
        "    \"Iowa\": 36.5,\n",
        "    \"Arkansas\": 36.4,\n",
        "    \"Oklahoma\": 36.4,\n",
        "    \"South Carolina\": 36.2,\n",
        "    \"Texas\": 35.8,\n",
        "    \"Tennessee\": 35.6,\n",
        "    \"Ohio\": 35.5,\n",
        "    \"Kansas\": 35.3,\n",
        "    \"Michigan\": 35.2,\n",
        "    \"Georgia\": 34.3,\n",
        "    \"Missouri\": 34.0,\n",
        "    \"Nebraska\": 34.0,\n",
        "    \"North Carolina\": 33.6,\n",
        "    \"South Dakota\": 33.2,\n",
        "    \"North Dakota\": 33.1,\n",
        "    \"Illinois\": 32.4,\n",
        "    \"Wisconsin\": 32.3,\n",
        "    \"Virginia\": 32.2,\n",
        "    \"Alaska\": 31.9,\n",
        "    \"Pennsylvania\": 31.5,\n",
        "    \"Idaho\": 31.1,\n",
        "    \"Maine\": 31.0,\n",
        "    \"Maryland\": 31.0,\n",
        "    \"Arizona\": 30.9,\n",
        "    \"New Mexico\": 30.9,\n",
        "    \"Minnesota\": 30.7,\n",
        "    \"Wyoming\": 30.7,\n",
        "    \"California\": 30.3,\n",
        "    \"Rhode Island\": 30.1,\n",
        "    \"New Hampshire\": 29.9,\n",
        "    \"Connecticut\": 29.2,\n",
        "    \"Nevada\": 28.7,\n",
        "    \"Utah\": 28.6,\n",
        "    \"Montana\": 28.5,\n",
        "    \"Florida\": 28.4,\n",
        "    \"Oregon\": 28.1,\n",
        "    \"Washington\": 28.0,\n",
        "    \"New Jersey\": 27.7,\n",
        "    \"New York\": 26.3,\n",
        "    \"Vermont\": 26.3,\n",
        "    \"Hawaii\": 24.5,\n",
        "    \"Massachusetts\": 24.4,\n",
        "    \"District of Columbia\": 24.3,\n",
        "    \"Colorado\": 24.2\n",
        "}"
      ],
      "metadata": {
        "id": "wt5TyiBFCzIr"
      },
      "execution_count": null,
      "outputs": []
    },
    {
      "cell_type": "markdown",
      "source": [
        "## **Combining Datasets**"
      ],
      "metadata": {
        "id": "hXPS3n5CT86m"
      }
    },
    {
      "cell_type": "code",
      "source": [
        "def json_to_dataframe(json, column_name):\n",
        "    df = pd.DataFrame.from_dict(json, orient=\"index\", columns=[column_name])\n",
        "    df.index.name = \"State\"\n",
        "    return df.reset_index()\n",
        "\n",
        "#Creating dataframe from JSON\n",
        "state_gdp = json_to_dataframe(state_gdp_json, \"GDP\")\n",
        "birth_rates = json_to_dataframe(birth_rates_json, \"FertilityRate\")\n",
        "depression_rates = json_to_dataframe(depression_rates_json, \"DepressionRate\")\n",
        "state_population = json_to_dataframe(population_json, \"Population\")\n",
        "state_median_age = json_to_dataframe(median_age_json, \"MedianAge\")\n",
        "obesity_rates = json_to_dataframe(obesity_rates_json, \"ObesityRate\")\n",
        "unemployment_rate = json_to_dataframe(unemployment_rate_json, \"Unemployment\")\n",
        "poverty_rate = json_to_dataframe(poverty_rate_json, \"PovertyRate\")\n",
        "\n",
        "#Merging datasets on \"State\"\n",
        "merged = state_gdp.merge(birth_rates, on=\"State\")\n",
        "merged = merged.merge(depression_rates, on=\"State\")\n",
        "merged = merged.merge(state_population, on= \"State\")\n",
        "merged = merged.merge(state_median_age, on= \"State\")\n",
        "merged = merged.merge(obesity_rates, on= \"State\")\n",
        "merged = merged.merge(unemployment_rate, on= \"State\")\n",
        "merged = merged.merge(poverty_rate, on =\"State\")\n",
        "\n",
        "merged.head(5)\n"
      ],
      "metadata": {
        "colab": {
          "base_uri": "https://localhost:8080/",
          "height": 206
        },
        "id": "hEnmm5mHctO2",
        "outputId": "e5772592-97eb-402a-ac52-6eba14987372"
      },
      "execution_count": null,
      "outputs": [
        {
          "output_type": "execute_result",
          "data": {
            "text/html": [
              "\n",
              "  <div id=\"df-f27f23cd-8dac-4aae-a951-ff06187e164d\">\n",
              "    <div class=\"colab-df-container\">\n",
              "      <div>\n",
              "<style scoped>\n",
              "    .dataframe tbody tr th:only-of-type {\n",
              "        vertical-align: middle;\n",
              "    }\n",
              "\n",
              "    .dataframe tbody tr th {\n",
              "        vertical-align: top;\n",
              "    }\n",
              "\n",
              "    .dataframe thead th {\n",
              "        text-align: right;\n",
              "    }\n",
              "</style>\n",
              "<table border=\"1\" class=\"dataframe\">\n",
              "  <thead>\n",
              "    <tr style=\"text-align: right;\">\n",
              "      <th></th>\n",
              "      <th>State</th>\n",
              "      <th>GDP</th>\n",
              "      <th>FertilityRate</th>\n",
              "      <th>DepressionRate</th>\n",
              "      <th>Population</th>\n",
              "      <th>MedianAge</th>\n",
              "      <th>ObesityRate</th>\n",
              "      <th>Unemployment</th>\n",
              "      <th>PovertyRate</th>\n",
              "    </tr>\n",
              "  </thead>\n",
              "  <tbody>\n",
              "    <tr>\n",
              "      <th>0</th>\n",
              "      <td>New York</td>\n",
              "      <td>91459</td>\n",
              "      <td>54.6</td>\n",
              "      <td>16.8</td>\n",
              "      <td>20201249</td>\n",
              "      <td>39.2</td>\n",
              "      <td>26.3</td>\n",
              "      <td>7.1</td>\n",
              "      <td>13.0</td>\n",
              "    </tr>\n",
              "    <tr>\n",
              "      <th>1</th>\n",
              "      <td>Massachusetts</td>\n",
              "      <td>86449</td>\n",
              "      <td>47.6</td>\n",
              "      <td>17.9</td>\n",
              "      <td>7029917</td>\n",
              "      <td>39.6</td>\n",
              "      <td>24.4</td>\n",
              "      <td>5.2</td>\n",
              "      <td>9.4</td>\n",
              "    </tr>\n",
              "    <tr>\n",
              "      <th>2</th>\n",
              "      <td>Washington</td>\n",
              "      <td>82101</td>\n",
              "      <td>54.0</td>\n",
              "      <td>23.4</td>\n",
              "      <td>7705281</td>\n",
              "      <td>37.8</td>\n",
              "      <td>28.0</td>\n",
              "      <td>4.9</td>\n",
              "      <td>9.8</td>\n",
              "    </tr>\n",
              "    <tr>\n",
              "      <th>3</th>\n",
              "      <td>North Dakota</td>\n",
              "      <td>74032</td>\n",
              "      <td>67.4</td>\n",
              "      <td>19.2</td>\n",
              "      <td>779094</td>\n",
              "      <td>35.3</td>\n",
              "      <td>33.1</td>\n",
              "      <td>3.5</td>\n",
              "      <td>10.6</td>\n",
              "    </tr>\n",
              "    <tr>\n",
              "      <th>4</th>\n",
              "      <td>California</td>\n",
              "      <td>80727</td>\n",
              "      <td>52.4</td>\n",
              "      <td>14.1</td>\n",
              "      <td>39538223</td>\n",
              "      <td>37.0</td>\n",
              "      <td>30.3</td>\n",
              "      <td>7.5</td>\n",
              "      <td>11.8</td>\n",
              "    </tr>\n",
              "  </tbody>\n",
              "</table>\n",
              "</div>\n",
              "      <button class=\"colab-df-convert\" onclick=\"convertToInteractive('df-f27f23cd-8dac-4aae-a951-ff06187e164d')\"\n",
              "              title=\"Convert this dataframe to an interactive table.\"\n",
              "              style=\"display:none;\">\n",
              "        \n",
              "  <svg xmlns=\"http://www.w3.org/2000/svg\" height=\"24px\"viewBox=\"0 0 24 24\"\n",
              "       width=\"24px\">\n",
              "    <path d=\"M0 0h24v24H0V0z\" fill=\"none\"/>\n",
              "    <path d=\"M18.56 5.44l.94 2.06.94-2.06 2.06-.94-2.06-.94-.94-2.06-.94 2.06-2.06.94zm-11 1L8.5 8.5l.94-2.06 2.06-.94-2.06-.94L8.5 2.5l-.94 2.06-2.06.94zm10 10l.94 2.06.94-2.06 2.06-.94-2.06-.94-.94-2.06-.94 2.06-2.06.94z\"/><path d=\"M17.41 7.96l-1.37-1.37c-.4-.4-.92-.59-1.43-.59-.52 0-1.04.2-1.43.59L10.3 9.45l-7.72 7.72c-.78.78-.78 2.05 0 2.83L4 21.41c.39.39.9.59 1.41.59.51 0 1.02-.2 1.41-.59l7.78-7.78 2.81-2.81c.8-.78.8-2.07 0-2.86zM5.41 20L4 18.59l7.72-7.72 1.47 1.35L5.41 20z\"/>\n",
              "  </svg>\n",
              "      </button>\n",
              "      \n",
              "  <style>\n",
              "    .colab-df-container {\n",
              "      display:flex;\n",
              "      flex-wrap:wrap;\n",
              "      gap: 12px;\n",
              "    }\n",
              "\n",
              "    .colab-df-convert {\n",
              "      background-color: #E8F0FE;\n",
              "      border: none;\n",
              "      border-radius: 50%;\n",
              "      cursor: pointer;\n",
              "      display: none;\n",
              "      fill: #1967D2;\n",
              "      height: 32px;\n",
              "      padding: 0 0 0 0;\n",
              "      width: 32px;\n",
              "    }\n",
              "\n",
              "    .colab-df-convert:hover {\n",
              "      background-color: #E2EBFA;\n",
              "      box-shadow: 0px 1px 2px rgba(60, 64, 67, 0.3), 0px 1px 3px 1px rgba(60, 64, 67, 0.15);\n",
              "      fill: #174EA6;\n",
              "    }\n",
              "\n",
              "    [theme=dark] .colab-df-convert {\n",
              "      background-color: #3B4455;\n",
              "      fill: #D2E3FC;\n",
              "    }\n",
              "\n",
              "    [theme=dark] .colab-df-convert:hover {\n",
              "      background-color: #434B5C;\n",
              "      box-shadow: 0px 1px 3px 1px rgba(0, 0, 0, 0.15);\n",
              "      filter: drop-shadow(0px 1px 2px rgba(0, 0, 0, 0.3));\n",
              "      fill: #FFFFFF;\n",
              "    }\n",
              "  </style>\n",
              "\n",
              "      <script>\n",
              "        const buttonEl =\n",
              "          document.querySelector('#df-f27f23cd-8dac-4aae-a951-ff06187e164d button.colab-df-convert');\n",
              "        buttonEl.style.display =\n",
              "          google.colab.kernel.accessAllowed ? 'block' : 'none';\n",
              "\n",
              "        async function convertToInteractive(key) {\n",
              "          const element = document.querySelector('#df-f27f23cd-8dac-4aae-a951-ff06187e164d');\n",
              "          const dataTable =\n",
              "            await google.colab.kernel.invokeFunction('convertToInteractive',\n",
              "                                                     [key], {});\n",
              "          if (!dataTable) return;\n",
              "\n",
              "          const docLinkHtml = 'Like what you see? Visit the ' +\n",
              "            '<a target=\"_blank\" href=https://colab.research.google.com/notebooks/data_table.ipynb>data table notebook</a>'\n",
              "            + ' to learn more about interactive tables.';\n",
              "          element.innerHTML = '';\n",
              "          dataTable['output_type'] = 'display_data';\n",
              "          await google.colab.output.renderOutput(dataTable, element);\n",
              "          const docLink = document.createElement('div');\n",
              "          docLink.innerHTML = docLinkHtml;\n",
              "          element.appendChild(docLink);\n",
              "        }\n",
              "      </script>\n",
              "    </div>\n",
              "  </div>\n",
              "  "
            ],
            "text/plain": [
              "           State    GDP  FertilityRate  ...  ObesityRate  Unemployment  PovertyRate\n",
              "0       New York  91459           54.6  ...         26.3           7.1         13.0\n",
              "1  Massachusetts  86449           47.6  ...         24.4           5.2          9.4\n",
              "2     Washington  82101           54.0  ...         28.0           4.9          9.8\n",
              "3   North Dakota  74032           67.4  ...         33.1           3.5         10.6\n",
              "4     California  80727           52.4  ...         30.3           7.5         11.8\n",
              "\n",
              "[5 rows x 9 columns]"
            ]
          },
          "metadata": {},
          "execution_count": 43
        }
      ]
    },
    {
      "cell_type": "markdown",
      "source": [
        "## **Analysis**"
      ],
      "metadata": {
        "id": "tYEmctohUP11"
      }
    },
    {
      "cell_type": "markdown",
      "source": [
        "#### **Is there any relationship between PovertyRate and GDP?**"
      ],
      "metadata": {
        "id": "M9HEen_QrHPy"
      }
    },
    {
      "cell_type": "code",
      "source": [
        "sns.regplot(data=merged, x= \"GDP\" , y=\"PovertyRate\")\n",
        "plt.title(\"Is there any relationship between PovertyRate and GDP?\") \n",
        "plt.show()\n",
        "\n",
        "results, p_value = stats.pearsonr(merged.GDP , merged.PovertyRate)\n",
        "print(f\"GDP and PovertyRate: {results}, p-value: {p_value}\")"
      ],
      "metadata": {
        "colab": {
          "base_uri": "https://localhost:8080/",
          "height": 313
        },
        "id": "hPiZLJ8nrifj",
        "outputId": "811ea967-6810-41ae-cc19-d38b47eb9127"
      },
      "execution_count": null,
      "outputs": [
        {
          "output_type": "display_data",
          "data": {
            "image/png": "[encoded data removed]",
            "text/plain": [
              "<Figure size 432x288 with 1 Axes>"
            ]
          },
          "metadata": {
            "needs_background": "light"
          }
        },
        {
          "output_type": "stream",
          "name": "stdout",
          "text": [
            "GDP and PovertyRate: -0.6543341644002855, p-value: 2.6007222789951558e-06\n"
          ]
        }
      ]
    },
    {
      "cell_type": "markdown",
      "source": [
        "#### **Does Population Affect Unemployment Rate?**\n"
      ],
      "metadata": {
        "id": "drC88VX4rhd8"
      }
    },
    {
      "cell_type": "code",
      "source": [
        "sns.regplot(data=merged, x= \"Unemployment\" , y=\"Population\")\n",
        "plt.title(\"Does Population Affect Unemployment Rate?\")\n",
        "plt.show()\n",
        "\n",
        "results, p_value = stats.pearsonr(merged.Unemployment , merged.Population)\n",
        "print(f\"UnemploymentRate and Population: {results}, p-value: {p_value}\")"
      ],
      "metadata": {
        "colab": {
          "base_uri": "https://localhost:8080/",
          "height": 313
        },
        "id": "EN4DL_8RsjQW",
        "outputId": "34fbc713-0c82-4234-e757-a291224dfac4"
      },
      "execution_count": null,
      "outputs": [
        {
          "output_type": "display_data",
          "data": {
            "image/png": "[encoded data removed]",
            "text/plain": [
              "<Figure size 432x288 with 1 Axes>"
            ]
          },
          "metadata": {
            "needs_background": "light"
          }
        },
        {
          "output_type": "stream",
          "name": "stdout",
          "text": [
            "UnemploymentRate and Population: 0.4274555843380923, p-value: 0.00474984433934654\n"
          ]
        }
      ]
    },
    {
      "cell_type": "markdown",
      "source": [
        "**Calculating the mean and standard deviation for GDP and unemployment:**"
      ],
      "metadata": {
        "id": "s1LcCWnasdIt"
      }
    },
    {
      "cell_type": "code",
      "source": [
        "print(merged.GDP.mean())\n",
        "print(merged.Unemployment.mean())\n",
        "\n",
        "print(merged.GDP.std())\n",
        "print(merged.Unemployment.std())"
      ],
      "metadata": {
        "colab": {
          "base_uri": "https://localhost:8080/"
        },
        "id": "r-mQBWUMjFcb",
        "outputId": "ba774b5b-6223-472f-8493-ed4641af79b9"
      },
      "execution_count": null,
      "outputs": [
        {
          "output_type": "stream",
          "name": "stdout",
          "text": [
            "61550.833333333336\n",
            "4.957142857142859\n",
            "12619.485504020317\n",
            "1.315969985783992\n"
          ]
        }
      ]
    },
    {
      "cell_type": "markdown",
      "source": [
        "#### **Does Having a Higher GDP Fix Unemployment Rate?**"
      ],
      "metadata": {
        "id": "FRycmgarskGF"
      }
    },
    {
      "cell_type": "code",
      "source": [
        "results, p_value = stats.pearsonr(merged.GDP , merged.Unemployment)\n",
        "print(f\"GDP and Unemployment: {results}, p-value: {p_value}\")\n",
        "\n",
        "sns.regplot(data=merged, x= \"GDP\" , y=\"Unemployment\")\n",
        "plt.title(\"Does Having a Higher GDP Fix Unemployment Rate?\")\n",
        "plt.show()"
      ],
      "metadata": {
        "colab": {
          "base_uri": "https://localhost:8080/",
          "height": 313
        },
        "id": "aU3-kGKPhml0",
        "outputId": "8598776f-35b9-42dd-99bf-58d9aad6d57a"
      },
      "execution_count": null,
      "outputs": [
        {
          "output_type": "stream",
          "name": "stdout",
          "text": [
            "GDP and Unemployment: 0.5120063264574659, p-value: 0.0005281900578990873\n"
          ]
        },
        {
          "output_type": "display_data",
          "data": {
            "image/png": "[encoded data removed]",
            "text/plain": [
              "<Figure size 432x288 with 1 Axes>"
            ]
          },
          "metadata": {
            "needs_background": "light"
          }
        }
      ]
    },
    {
      "cell_type": "markdown",
      "source": [
        "#### **Depression Rate and GDP**"
      ],
      "metadata": {
        "id": "EIbwUeyFswDH"
      }
    },
    {
      "cell_type": "code",
      "source": [
        "results, p_value = stats.pearsonr(merged.GDP , merged.DepressionRate)\n",
        "print(f\"GDP and DepressionRate: {results}, p-value: {p_value}\")\n",
        "\n",
        "sns.regplot(data=merged, x=\"GDP\", y=\"DepressionRate\")\n",
        "plt.title(\"Does having less money make you sad?\")\n",
        "plt.show()"
      ],
      "metadata": {
        "colab": {
          "base_uri": "https://localhost:8080/",
          "height": 313
        },
        "id": "f5HyI3THdJZG",
        "outputId": "baa145bf-da2e-4399-ce25-dc787152aec3"
      },
      "execution_count": null,
      "outputs": [
        {
          "output_type": "stream",
          "name": "stdout",
          "text": [
            "GDP and DepressionRate: -0.5902675127042628, p-value: 3.880933211281247e-05\n"
          ]
        },
        {
          "output_type": "display_data",
          "data": {
            "image/png": "[encoded data removed]",
            "text/plain": [
              "<Figure size 432x288 with 1 Axes>"
            ]
          },
          "metadata": {
            "needs_background": "light"
          }
        }
      ]
    },
    {
      "cell_type": "markdown",
      "source": [
        "#### **GDP & Population**"
      ],
      "metadata": {
        "id": "mzxukRF8tP6l"
      }
    },
    {
      "cell_type": "code",
      "source": [
        "sns.regplot(data=merged, x=\"GDP\", y=\"Population\")\n",
        "plt.title(\"Correlation between GDP and population\")\n",
        "plt.show()"
      ],
      "metadata": {
        "colab": {
          "base_uri": "https://localhost:8080/",
          "height": 295
        },
        "id": "nkBohCWJmCF1",
        "outputId": "f1510416-b2d4-45d3-a155-9310b98284d0"
      },
      "execution_count": null,
      "outputs": [
        {
          "output_type": "display_data",
          "data": {
            "image/png": "[encoded data removed]",
            "text/plain": [
              "<Figure size 432x288 with 1 Axes>"
            ]
          },
          "metadata": {
            "needs_background": "light"
          }
        }
      ]
    },
    {
      "cell_type": "markdown",
      "source": [
        "#### **How's the Fertility Rate for Median Age?**\n"
      ],
      "metadata": {
        "id": "AMeDyyXct576"
      }
    },
    {
      "cell_type": "code",
      "source": [
        "sns.jointplot(data=merged, x=\"FertilityRate\", y=\"MedianAge\", kind=\"hex\")\n",
        "plt.title(\"Fertility Rate vs Median Age\", pad=80)\n",
        "plt.show()"
      ],
      "metadata": {
        "colab": {
          "base_uri": "https://localhost:8080/",
          "height": 466
        },
        "id": "_INWuwDe4gDY",
        "outputId": "b8f2dd2e-be1d-4a1d-a28a-fafd9e0d1bd3"
      },
      "execution_count": null,
      "outputs": [
        {
          "output_type": "display_data",
          "data": {
            "image/png": "[encoded data removed]",
            "text/plain": [
              "<Figure size 432x432 with 3 Axes>"
            ]
          },
          "metadata": {
            "needs_background": "light"
          }
        }
      ]
    },
    {
      "cell_type": "markdown",
      "source": [
        "#### **Does having more money mean you're healthy?**"
      ],
      "metadata": {
        "id": "VHYs5ctauXqM"
      }
    },
    {
      "cell_type": "code",
      "source": [
        "sns.regplot(data=merged, x=\"ObesityRate\", y=\"GDP\")\n",
        "plt.title(\"Does having more money mean you're healthy?\")\n",
        "plt.show()"
      ],
      "metadata": {
        "colab": {
          "base_uri": "https://localhost:8080/",
          "height": 295
        },
        "id": "6ylt08-wF_Ul",
        "outputId": "752fb00e-e304-469b-cbeb-7a7e2fce1bfa"
      },
      "execution_count": null,
      "outputs": [
        {
          "output_type": "display_data",
          "data": {
            "image/png": "[encoded data removed]",
            "text/plain": [
              "<Figure size 432x288 with 1 Axes>"
            ]
          },
          "metadata": {
            "needs_background": "light"
          }
        }
      ]
    },
    {
      "cell_type": "code",
      "source": [
        "sns.jointplot(y='GDP', x= 'ObesityRate',data=merged, kind='hex')"
      ],
      "metadata": {
        "colab": {
          "base_uri": "https://localhost:8080/",
          "height": 459
        },
        "id": "jeMGyZSw-Cfk",
        "outputId": "de0c044d-dfdf-4190-ecbb-e4ed93f0899d"
      },
      "execution_count": null,
      "outputs": [
        {
          "output_type": "execute_result",
          "data": {
            "text/plain": [
              "<seaborn.axisgrid.JointGrid at 0x7f019980cc50>"
            ]
          },
          "metadata": {},
          "execution_count": 52
        },
        {
          "output_type": "display_data",
          "data": {
            "image/png": "[encoded data removed]",
            "text/plain": [
              "<Figure size 432x432 with 3 Axes>"
            ]
          },
          "metadata": {
            "needs_background": "light"
          }
        }
      ]
    },
    {
      "cell_type": "markdown",
      "source": [
        "#### **Do men commit suicide more often than women?**"
      ],
      "metadata": {
        "id": "efl2maU6qAz_"
      }
    },
    {
      "cell_type": "code",
      "source": [
        "\n",
        "stat, p_value = stats.ttest_ind(suicide_rates.iloc[0].values, suicide_rates.iloc[1].values)\n",
        "print(f\"Men are {stat:.2f}x more likely to commit suicide than women. P-value: {p_value:.5f}\")\n",
        "\n",
        "df = pd.DataFrame(\n",
        "    {'labels': [\"10-14\", \"15-24\", \"25-34\", \"35-44\", \"45-54\", \"55-64\", \"65-74\", \"75+\"],\n",
        "     'men_means': suicide_rates.iloc[0].values,\n",
        "     'women_means': suicide_rates.iloc[1].values\n",
        "    })\n",
        "\n",
        "df.plot(x=\"labels\", y=[\"men_means\", \"women_means\"], kind=\"bar\")\n",
        "\n",
        "plt.title(\"Suicides by Gender and Age Group\")\n",
        "plt.xlabel(\"Age Group\")\n",
        "plt.ylabel(\"Suicides\")\n",
        "plt.show()"
      ],
      "metadata": {
        "colab": {
          "base_uri": "https://localhost:8080/",
          "height": 332
        },
        "id": "NQsY-edQ4lHc",
        "outputId": "56144164-20f5-45d1-e2e6-a8a431bd5eb5"
      },
      "execution_count": null,
      "outputs": [
        {
          "output_type": "stream",
          "name": "stdout",
          "text": [
            "Men are 4.12x more likely to commit suicide than women. P-value: 0.00104\n"
          ]
        },
        {
          "output_type": "display_data",
          "data": {
            "image/png": "[encoded data removed]",
            "text/plain": [
              "<Figure size 432x288 with 1 Axes>"
            ]
          },
          "metadata": {
            "needs_background": "light"
          }
        }
      ]
    },
    {
      "cell_type": "markdown",
      "source": [
        "####  **Suicides by Gender (Box Plot)**"
      ],
      "metadata": {
        "id": "zRPnBLctp4r6"
      }
    },
    {
      "cell_type": "code",
      "source": [
        "df.plot(x=\"labels\", y=[\"men_means\", \"women_means\"], kind=\"box\", grid = False, color = \"Black\", labels=None)\n",
        "\n",
        "plt.title(\"Suicides by Gender\")\n",
        "plt.xlabel(\"Gender\")\n",
        "plt.ylabel(\"Total Deaths by Suicide\")"
      ],
      "metadata": {
        "colab": {
          "base_uri": "https://localhost:8080/",
          "height": 313
        },
        "id": "fLzp2PDlpQ-0",
        "outputId": "4b6c22bd-10d8-415e-a93f-aec40d3d64ed"
      },
      "execution_count": null,
      "outputs": [
        {
          "output_type": "execute_result",
          "data": {
            "text/plain": [
              "Text(0, 0.5, 'Total Deaths by Suicide')"
            ]
          },
          "metadata": {},
          "execution_count": 54
        },
        {
          "output_type": "display_data",
          "data": {
            "image/png": "[encoded data removed]",
            "text/plain": [
              "<Figure size 432x288 with 1 Axes>"
            ]
          },
          "metadata": {
            "needs_background": "light"
          }
        }
      ]
    },
    {
      "cell_type": "markdown",
      "source": [
        "## --- **More Analysis** ---"
      ],
      "metadata": {
        "id": "gYsfZyGEooFU"
      }
    },
    {
      "cell_type": "markdown",
      "source": [
        "#### **Pie Chart for Top 5 Highest GDP States**\n",
        "\n",
        "\n"
      ],
      "metadata": {
        "id": "r-963k1enF0v"
      }
    },
    {
      "cell_type": "code",
      "source": [
        "# Creating a variable of Top and sorting values by descending order.\n",
        "highestGDP = merged.sort_values(by='GDP',ascending=False).head(5)\n",
        "\n",
        "#Resetting index for decending values \n",
        "highestGDP.reset_index(drop=True, inplace=True )\n",
        "\n",
        "#Sorting values with \"total GDP\"\n",
        "highestGDP=highestGDP.sort_values(by='GDP')\n",
        "\n",
        "x = highestGDP['State']\n",
        "y = highestGDP['GDP']\n",
        "\n",
        "forPieChart = highestGDP['GDP']\n",
        "\n",
        "highestGDP[['State', 'GDP']]"
      ],
      "metadata": {
        "colab": {
          "base_uri": "https://localhost:8080/",
          "height": 206
        },
        "id": "yZiYWpPhm5uk",
        "outputId": "00a243d0-ed28-425b-c579-c765e3e0bdac"
      },
      "execution_count": null,
      "outputs": [
        {
          "output_type": "execute_result",
          "data": {
            "text/html": [
              "\n",
              "  <div id=\"df-6d62a151-05b4-46ad-920d-36b7a2941d51\">\n",
              "    <div class=\"colab-df-container\">\n",
              "      <div>\n",
              "<style scoped>\n",
              "    .dataframe tbody tr th:only-of-type {\n",
              "        vertical-align: middle;\n",
              "    }\n",
              "\n",
              "    .dataframe tbody tr th {\n",
              "        vertical-align: top;\n",
              "    }\n",
              "\n",
              "    .dataframe thead th {\n",
              "        text-align: right;\n",
              "    }\n",
              "</style>\n",
              "<table border=\"1\" class=\"dataframe\">\n",
              "  <thead>\n",
              "    <tr style=\"text-align: right;\">\n",
              "      <th></th>\n",
              "      <th>State</th>\n",
              "      <th>GDP</th>\n",
              "    </tr>\n",
              "  </thead>\n",
              "  <tbody>\n",
              "    <tr>\n",
              "      <th>4</th>\n",
              "      <td>California</td>\n",
              "      <td>80727</td>\n",
              "    </tr>\n",
              "    <tr>\n",
              "      <th>3</th>\n",
              "      <td>Connecticut</td>\n",
              "      <td>80888</td>\n",
              "    </tr>\n",
              "    <tr>\n",
              "      <th>2</th>\n",
              "      <td>Washington</td>\n",
              "      <td>82101</td>\n",
              "    </tr>\n",
              "    <tr>\n",
              "      <th>1</th>\n",
              "      <td>Massachusetts</td>\n",
              "      <td>86449</td>\n",
              "    </tr>\n",
              "    <tr>\n",
              "      <th>0</th>\n",
              "      <td>New York</td>\n",
              "      <td>91459</td>\n",
              "    </tr>\n",
              "  </tbody>\n",
              "</table>\n",
              "</div>\n",
              "      <button class=\"colab-df-convert\" onclick=\"convertToInteractive('df-6d62a151-05b4-46ad-920d-36b7a2941d51')\"\n",
              "              title=\"Convert this dataframe to an interactive table.\"\n",
              "              style=\"display:none;\">\n",
              "        \n",
              "  <svg xmlns=\"http://www.w3.org/2000/svg\" height=\"24px\"viewBox=\"0 0 24 24\"\n",
              "       width=\"24px\">\n",
              "    <path d=\"M0 0h24v24H0V0z\" fill=\"none\"/>\n",
              "    <path d=\"M18.56 5.44l.94 2.06.94-2.06 2.06-.94-2.06-.94-.94-2.06-.94 2.06-2.06.94zm-11 1L8.5 8.5l.94-2.06 2.06-.94-2.06-.94L8.5 2.5l-.94 2.06-2.06.94zm10 10l.94 2.06.94-2.06 2.06-.94-2.06-.94-.94-2.06-.94 2.06-2.06.94z\"/><path d=\"M17.41 7.96l-1.37-1.37c-.4-.4-.92-.59-1.43-.59-.52 0-1.04.2-1.43.59L10.3 9.45l-7.72 7.72c-.78.78-.78 2.05 0 2.83L4 21.41c.39.39.9.59 1.41.59.51 0 1.02-.2 1.41-.59l7.78-7.78 2.81-2.81c.8-.78.8-2.07 0-2.86zM5.41 20L4 18.59l7.72-7.72 1.47 1.35L5.41 20z\"/>\n",
              "  </svg>\n",
              "      </button>\n",
              "      \n",
              "  <style>\n",
              "    .colab-df-container {\n",
              "      display:flex;\n",
              "      flex-wrap:wrap;\n",
              "      gap: 12px;\n",
              "    }\n",
              "\n",
              "    .colab-df-convert {\n",
              "      background-color: #E8F0FE;\n",
              "      border: none;\n",
              "      border-radius: 50%;\n",
              "      cursor: pointer;\n",
              "      display: none;\n",
              "      fill: #1967D2;\n",
              "      height: 32px;\n",
              "      padding: 0 0 0 0;\n",
              "      width: 32px;\n",
              "    }\n",
              "\n",
              "    .colab-df-convert:hover {\n",
              "      background-color: #E2EBFA;\n",
              "      box-shadow: 0px 1px 2px rgba(60, 64, 67, 0.3), 0px 1px 3px 1px rgba(60, 64, 67, 0.15);\n",
              "      fill: #174EA6;\n",
              "    }\n",
              "\n",
              "    [theme=dark] .colab-df-convert {\n",
              "      background-color: #3B4455;\n",
              "      fill: #D2E3FC;\n",
              "    }\n",
              "\n",
              "    [theme=dark] .colab-df-convert:hover {\n",
              "      background-color: #434B5C;\n",
              "      box-shadow: 0px 1px 3px 1px rgba(0, 0, 0, 0.15);\n",
              "      filter: drop-shadow(0px 1px 2px rgba(0, 0, 0, 0.3));\n",
              "      fill: #FFFFFF;\n",
              "    }\n",
              "  </style>\n",
              "\n",
              "      <script>\n",
              "        const buttonEl =\n",
              "          document.querySelector('#df-6d62a151-05b4-46ad-920d-36b7a2941d51 button.colab-df-convert');\n",
              "        buttonEl.style.display =\n",
              "          google.colab.kernel.accessAllowed ? 'block' : 'none';\n",
              "\n",
              "        async function convertToInteractive(key) {\n",
              "          const element = document.querySelector('#df-6d62a151-05b4-46ad-920d-36b7a2941d51');\n",
              "          const dataTable =\n",
              "            await google.colab.kernel.invokeFunction('convertToInteractive',\n",
              "                                                     [key], {});\n",
              "          if (!dataTable) return;\n",
              "\n",
              "          const docLinkHtml = 'Like what you see? Visit the ' +\n",
              "            '<a target=\"_blank\" href=https://colab.research.google.com/notebooks/data_table.ipynb>data table notebook</a>'\n",
              "            + ' to learn more about interactive tables.';\n",
              "          element.innerHTML = '';\n",
              "          dataTable['output_type'] = 'display_data';\n",
              "          await google.colab.output.renderOutput(dataTable, element);\n",
              "          const docLink = document.createElement('div');\n",
              "          docLink.innerHTML = docLinkHtml;\n",
              "          element.appendChild(docLink);\n",
              "        }\n",
              "      </script>\n",
              "    </div>\n",
              "  </div>\n",
              "  "
            ],
            "text/plain": [
              "           State    GDP\n",
              "4     California  80727\n",
              "3    Connecticut  80888\n",
              "2     Washington  82101\n",
              "1  Massachusetts  86449\n",
              "0       New York  91459"
            ]
          },
          "metadata": {},
          "execution_count": 55
        }
      ]
    },
    {
      "cell_type": "code",
      "source": [
        "colors = sns.color_palette('pastel')[0:5]\n",
        "labels = highestGDP['State']\n",
        "\n",
        "plt.pie(forPieChart, labels = labels, colors = colors, autopct='%.0f%%')\n",
        "plt.title(\"Distribution of GDP in the Top 5 States\", bbox={'facecolor':'0.9', 'pad':7})\n",
        "plt.show()"
      ],
      "metadata": {
        "colab": {
          "base_uri": "https://localhost:8080/",
          "height": 264
        },
        "id": "ov4sDtjBnD9w",
        "outputId": "483ce22d-672a-41d8-8927-a55c66deb9a8"
      },
      "execution_count": null,
      "outputs": [
        {
          "output_type": "display_data",
          "data": {
            "image/png": "[encoded data removed]",
            "text/plain": [
              "<Figure size 432x288 with 1 Axes>"
            ]
          },
          "metadata": {}
        }
      ]
    },
    {
      "cell_type": "markdown",
      "source": [
        "#### **Top 5 Happiest States in USA**"
      ],
      "metadata": {
        "id": "fZ7gYaM_nfAC"
      }
    },
    {
      "cell_type": "code",
      "source": [
        "# Creating a variable of Happiest States and sorting values by descending order.\n",
        "gdpStates = merged.sort_values(by='DepressionRate',ascending=True).head(5)\n",
        "\n",
        "#Resetting index for decending values \n",
        "gdpStates.reset_index(drop=True, inplace=True )\n",
        "\n",
        "#Sorting values with \"total death\"\n",
        "gdpStates=gdpStates.sort_values(by='DepressionRate')\n",
        "\n",
        "x = gdpStates['State']\n",
        "y = gdpStates['DepressionRate']\n",
        "\n",
        "#Visualization\n",
        "\n",
        "fig, ax = plt.subplots(figsize=(10,6))\n",
        "sns.barplot(x='State',y='DepressionRate',data=gdpStates, palette='Set3')\n",
        "ax.set_xlabel (\" \")\n",
        "ax.set_ylabel (\"Depression Rate %\",labelpad=15)\n",
        "ax.set_title(\"Happiest States in USA\")\n",
        "ax.xaxis.label.set_fontsize(13)\n",
        "ax.yaxis.label.set_fontsize(13)\n",
        "# plt.xticks(rotation=90)\n",
        "plt.show()"
      ],
      "metadata": {
        "colab": {
          "base_uri": "https://localhost:8080/",
          "height": 407
        },
        "id": "Z6GCA2EtnesL",
        "outputId": "0e8b914b-8e58-494c-8c29-22f93a1e6333"
      },
      "execution_count": null,
      "outputs": [
        {
          "output_type": "display_data",
          "data": {
            "image/png": "[encoded data removed]",
            "text/plain": [
              "<Figure size 720x432 with 1 Axes>"
            ]
          },
          "metadata": {
            "needs_background": "light"
          }
        }
      ]
    },
    {
      "cell_type": "markdown",
      "source": [
        "#### **Saddest States in USA**"
      ],
      "metadata": {
        "id": "U6E89Xhpn3KA"
      }
    },
    {
      "cell_type": "code",
      "source": [
        "gdpStates = merged.sort_values(by='DepressionRate',ascending=False).head(5)\n",
        "\n",
        "#Resetting index for decending values \n",
        "gdpStates.reset_index(drop=True, inplace=True )\n",
        "\n",
        "gdpStates=gdpStates.sort_values(by='DepressionRate')\n",
        "\n",
        "x = gdpStates['State']\n",
        "y = gdpStates['DepressionRate']\n",
        "\n",
        "#Visualization\n",
        "fig, ax = plt.subplots(figsize=(10,6))\n",
        "sns.barplot(x='State',y='DepressionRate',data=gdpStates, palette='Set3')\n",
        "ax.set_xlabel (\" \")\n",
        "ax.set_ylabel (\"Depression Rate %\",labelpad=15)\n",
        "ax.set_title(\"Saddest States in USA\")\n",
        "ax.xaxis.label.set_fontsize(13)\n",
        "ax.yaxis.label.set_fontsize(13)\n",
        "# plt.xticks(rotation=90)\n",
        "plt.show()"
      ],
      "metadata": {
        "colab": {
          "base_uri": "https://localhost:8080/",
          "height": 407
        },
        "id": "_bRM_6Isn7Ap",
        "outputId": "41f6553e-f41e-4f4e-fd96-de318f317fd7"
      },
      "execution_count": null,
      "outputs": [
        {
          "output_type": "display_data",
          "data": {
            "image/png": "[encoded data removed]",
            "text/plain": [
              "<Figure size 720x432 with 1 Axes>"
            ]
          },
          "metadata": {
            "needs_background": "light"
          }
        }
      ]
    }
  ]
}