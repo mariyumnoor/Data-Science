{
  "nbformat": 4,
  "nbformat_minor": 0,
  "metadata": {
    "colab": {
      "name": "KNN_Github.ipynb",
      "provenance": [],
      "collapsed_sections": []
    },
    "kernelspec": {
      "name": "python3",
      "display_name": "Python 3"
    },
    "language_info": {
      "name": "python"
    }
  },
  "cells": [
    {
      "cell_type": "markdown",
      "source": [
        "## **K-nearest Neighbor: Part I**\n"
      ],
      "metadata": {
        "id": "zHFWk95a_Wgs"
      }
    },
    {
      "cell_type": "markdown",
      "source": [
        "#### **Importing packages**"
      ],
      "metadata": {
        "id": "_K_SvJjN_p1k"
      }
    },
    {
      "cell_type": "code",
      "source": [
        "import pandas as pd\n",
        "import numpy as np\n",
        "from sklearn.neighbors import NearestNeighbors\n",
        "import random\n",
        "import sklearn.cluster \n",
        "from sklearn.metrics import precision_recall_fscore_support\n",
        "import sklearn.model_selection\n",
        "from sklearn.model_selection import GridSearchCV\n",
        "from sklearn.model_selection import train_test_split\n",
        "import matplotlib.pyplot as plt\n",
        "from statistics import mean\n",
        "from itertools import combinations\n"
      ],
      "metadata": {
        "id": "pheb3eX2_khy"
      },
      "execution_count": null,
      "outputs": []
    },
    {
      "cell_type": "markdown",
      "source": [
        "#### Reading CSV File"
      ],
      "metadata": {
        "id": "MQ67eXohEP6x"
      }
    },
    {
      "cell_type": "code",
      "source": [
        "# Comma-separated values\n",
        "data = pd.read_csv('cleveland.csv')"
      ],
      "metadata": {
        "id": "rZHxthsoCQwb"
      },
      "execution_count": null,
      "outputs": []
    },
    {
      "cell_type": "code",
      "source": [
        "# Rename 'num' column to 'disease' and change 1,2,3,4 to 1\n",
        "data = data.rename({'num':'disease'}, axis=1)\n",
        "data['disease'] = data.disease.apply(lambda x: min(x, 1))\n",
        "display(data.head(5))"
      ],
      "metadata": {
        "colab": {
          "base_uri": "https://localhost:8080/",
          "height": 206
        },
        "id": "Rp3jz78IC_9n",
        "outputId": "57dea869-ebc4-4440-c7a7-016796768571"
      },
      "execution_count": null,
      "outputs": [
        {
          "output_type": "display_data",
          "data": {
            "text/html": [
              "\n",
              "  <div id=\"df-f7e52e74-170c-4227-acb4-f4ebb625edda\">\n",
              "    <div class=\"colab-df-container\">\n",
              "      <div>\n",
              "<style scoped>\n",
              "    .dataframe tbody tr th:only-of-type {\n",
              "        vertical-align: middle;\n",
              "    }\n",
              "\n",
              "    .dataframe tbody tr th {\n",
              "        vertical-align: top;\n",
              "    }\n",
              "\n",
              "    .dataframe thead th {\n",
              "        text-align: right;\n",
              "    }\n",
              "</style>\n",
              "<table border=\"1\" class=\"dataframe\">\n",
              "  <thead>\n",
              "    <tr style=\"text-align: right;\">\n",
              "      <th></th>\n",
              "      <th>age</th>\n",
              "      <th>sex</th>\n",
              "      <th>cp</th>\n",
              "      <th>trestbps</th>\n",
              "      <th>chol</th>\n",
              "      <th>fbs</th>\n",
              "      <th>restecg</th>\n",
              "      <th>thalach</th>\n",
              "      <th>exang</th>\n",
              "      <th>oldpeak</th>\n",
              "      <th>slope</th>\n",
              "      <th>ca</th>\n",
              "      <th>thal</th>\n",
              "      <th>disease</th>\n",
              "    </tr>\n",
              "  </thead>\n",
              "  <tbody>\n",
              "    <tr>\n",
              "      <th>0</th>\n",
              "      <td>63.0</td>\n",
              "      <td>1.0</td>\n",
              "      <td>1.0</td>\n",
              "      <td>145.0</td>\n",
              "      <td>233.0</td>\n",
              "      <td>1.0</td>\n",
              "      <td>2.0</td>\n",
              "      <td>150.0</td>\n",
              "      <td>0.0</td>\n",
              "      <td>2.3</td>\n",
              "      <td>3.0</td>\n",
              "      <td>0.0</td>\n",
              "      <td>6.0</td>\n",
              "      <td>0</td>\n",
              "    </tr>\n",
              "    <tr>\n",
              "      <th>1</th>\n",
              "      <td>67.0</td>\n",
              "      <td>1.0</td>\n",
              "      <td>4.0</td>\n",
              "      <td>160.0</td>\n",
              "      <td>286.0</td>\n",
              "      <td>0.0</td>\n",
              "      <td>2.0</td>\n",
              "      <td>108.0</td>\n",
              "      <td>1.0</td>\n",
              "      <td>1.5</td>\n",
              "      <td>2.0</td>\n",
              "      <td>3.0</td>\n",
              "      <td>3.0</td>\n",
              "      <td>1</td>\n",
              "    </tr>\n",
              "    <tr>\n",
              "      <th>2</th>\n",
              "      <td>67.0</td>\n",
              "      <td>1.0</td>\n",
              "      <td>4.0</td>\n",
              "      <td>120.0</td>\n",
              "      <td>229.0</td>\n",
              "      <td>0.0</td>\n",
              "      <td>2.0</td>\n",
              "      <td>129.0</td>\n",
              "      <td>1.0</td>\n",
              "      <td>2.6</td>\n",
              "      <td>2.0</td>\n",
              "      <td>2.0</td>\n",
              "      <td>7.0</td>\n",
              "      <td>1</td>\n",
              "    </tr>\n",
              "    <tr>\n",
              "      <th>3</th>\n",
              "      <td>37.0</td>\n",
              "      <td>1.0</td>\n",
              "      <td>3.0</td>\n",
              "      <td>130.0</td>\n",
              "      <td>250.0</td>\n",
              "      <td>0.0</td>\n",
              "      <td>0.0</td>\n",
              "      <td>187.0</td>\n",
              "      <td>0.0</td>\n",
              "      <td>3.5</td>\n",
              "      <td>3.0</td>\n",
              "      <td>0.0</td>\n",
              "      <td>3.0</td>\n",
              "      <td>0</td>\n",
              "    </tr>\n",
              "    <tr>\n",
              "      <th>4</th>\n",
              "      <td>41.0</td>\n",
              "      <td>0.0</td>\n",
              "      <td>2.0</td>\n",
              "      <td>130.0</td>\n",
              "      <td>204.0</td>\n",
              "      <td>0.0</td>\n",
              "      <td>2.0</td>\n",
              "      <td>172.0</td>\n",
              "      <td>0.0</td>\n",
              "      <td>1.4</td>\n",
              "      <td>1.0</td>\n",
              "      <td>0.0</td>\n",
              "      <td>3.0</td>\n",
              "      <td>0</td>\n",
              "    </tr>\n",
              "  </tbody>\n",
              "</table>\n",
              "</div>\n",
              "      <button class=\"colab-df-convert\" onclick=\"convertToInteractive('df-f7e52e74-170c-4227-acb4-f4ebb625edda')\"\n",
              "              title=\"Convert this dataframe to an interactive table.\"\n",
              "              style=\"display:none;\">\n",
              "        \n",
              "  <svg xmlns=\"http://www.w3.org/2000/svg\" height=\"24px\"viewBox=\"0 0 24 24\"\n",
              "       width=\"24px\">\n",
              "    <path d=\"M0 0h24v24H0V0z\" fill=\"none\"/>\n",
              "    <path d=\"M18.56 5.44l.94 2.06.94-2.06 2.06-.94-2.06-.94-.94-2.06-.94 2.06-2.06.94zm-11 1L8.5 8.5l.94-2.06 2.06-.94-2.06-.94L8.5 2.5l-.94 2.06-2.06.94zm10 10l.94 2.06.94-2.06 2.06-.94-2.06-.94-.94-2.06-.94 2.06-2.06.94z\"/><path d=\"M17.41 7.96l-1.37-1.37c-.4-.4-.92-.59-1.43-.59-.52 0-1.04.2-1.43.59L10.3 9.45l-7.72 7.72c-.78.78-.78 2.05 0 2.83L4 21.41c.39.39.9.59 1.41.59.51 0 1.02-.2 1.41-.59l7.78-7.78 2.81-2.81c.8-.78.8-2.07 0-2.86zM5.41 20L4 18.59l7.72-7.72 1.47 1.35L5.41 20z\"/>\n",
              "  </svg>\n",
              "      </button>\n",
              "      \n",
              "  <style>\n",
              "    .colab-df-container {\n",
              "      display:flex;\n",
              "      flex-wrap:wrap;\n",
              "      gap: 12px;\n",
              "    }\n",
              "\n",
              "    .colab-df-convert {\n",
              "      background-color: #E8F0FE;\n",
              "      border: none;\n",
              "      border-radius: 50%;\n",
              "      cursor: pointer;\n",
              "      display: none;\n",
              "      fill: #1967D2;\n",
              "      height: 32px;\n",
              "      padding: 0 0 0 0;\n",
              "      width: 32px;\n",
              "    }\n",
              "\n",
              "    .colab-df-convert:hover {\n",
              "      background-color: #E2EBFA;\n",
              "      box-shadow: 0px 1px 2px rgba(60, 64, 67, 0.3), 0px 1px 3px 1px rgba(60, 64, 67, 0.15);\n",
              "      fill: #174EA6;\n",
              "    }\n",
              "\n",
              "    [theme=dark] .colab-df-convert {\n",
              "      background-color: #3B4455;\n",
              "      fill: #D2E3FC;\n",
              "    }\n",
              "\n",
              "    [theme=dark] .colab-df-convert:hover {\n",
              "      background-color: #434B5C;\n",
              "      box-shadow: 0px 1px 3px 1px rgba(0, 0, 0, 0.15);\n",
              "      filter: drop-shadow(0px 1px 2px rgba(0, 0, 0, 0.3));\n",
              "      fill: #FFFFFF;\n",
              "    }\n",
              "  </style>\n",
              "\n",
              "      <script>\n",
              "        const buttonEl =\n",
              "          document.querySelector('#df-f7e52e74-170c-4227-acb4-f4ebb625edda button.colab-df-convert');\n",
              "        buttonEl.style.display =\n",
              "          google.colab.kernel.accessAllowed ? 'block' : 'none';\n",
              "\n",
              "        async function convertToInteractive(key) {\n",
              "          const element = document.querySelector('#df-f7e52e74-170c-4227-acb4-f4ebb625edda');\n",
              "          const dataTable =\n",
              "            await google.colab.kernel.invokeFunction('convertToInteractive',\n",
              "                                                     [key], {});\n",
              "          if (!dataTable) return;\n",
              "\n",
              "          const docLinkHtml = 'Like what you see? Visit the ' +\n",
              "            '<a target=\"_blank\" href=https://colab.research.google.com/notebooks/data_table.ipynb>data table notebook</a>'\n",
              "            + ' to learn more about interactive tables.';\n",
              "          element.innerHTML = '';\n",
              "          dataTable['output_type'] = 'display_data';\n",
              "          await google.colab.output.renderOutput(dataTable, element);\n",
              "          const docLink = document.createElement('div');\n",
              "          docLink.innerHTML = docLinkHtml;\n",
              "          element.appendChild(docLink);\n",
              "        }\n",
              "      </script>\n",
              "    </div>\n",
              "  </div>\n",
              "  "
            ],
            "text/plain": [
              "    age  sex   cp  trestbps   chol  ...  oldpeak  slope   ca  thal  disease\n",
              "0  63.0  1.0  1.0     145.0  233.0  ...      2.3    3.0  0.0   6.0        0\n",
              "1  67.0  1.0  4.0     160.0  286.0  ...      1.5    2.0  3.0   3.0        1\n",
              "2  67.0  1.0  4.0     120.0  229.0  ...      2.6    2.0  2.0   7.0        1\n",
              "3  37.0  1.0  3.0     130.0  250.0  ...      3.5    3.0  0.0   3.0        0\n",
              "4  41.0  0.0  2.0     130.0  204.0  ...      1.4    1.0  0.0   3.0        0\n",
              "\n",
              "[5 rows x 14 columns]"
            ]
          },
          "metadata": {}
        }
      ]
    },
    {
      "cell_type": "code",
      "source": [
        "# # Comma-separated values\n",
        "# testing = pd.read_csv('cleveland.csv')\n",
        "\n",
        "# testing['num'] = testing.num.apply(lambda x: min(x, 1))\n",
        "# testing['num'].unique()"
      ],
      "metadata": {
        "id": "MZu_M0bUeRwf"
      },
      "execution_count": null,
      "outputs": []
    },
    {
      "cell_type": "code",
      "source": [
        "data.hist(figsize=(14,14))\n",
        "plt.show()"
      ],
      "metadata": {
        "colab": {
          "base_uri": "https://localhost:8080/",
          "height": 825
        },
        "id": "yEAfAyjynIPw",
        "outputId": "06f102b2-9f76-4bb3-922f-2e4f8d3a9669"
      },
      "execution_count": null,
      "outputs": [
        {
          "output_type": "display_data",
          "data": {
            "image/png": "[encoded data removed]",
            "text/plain": [
              "<Figure size 1008x1008 with 12 Axes>"
            ]
          },
          "metadata": {
            "needs_background": "light"
          }
        }
      ]
    },
    {
      "cell_type": "code",
      "source": [
        "# data['disease'].unique()\n",
        "df = data.copy()"
      ],
      "metadata": {
        "id": "qflTBA2FHp-9"
      },
      "execution_count": null,
      "outputs": []
    },
    {
      "cell_type": "code",
      "source": [
        "# import seaborn as sns\n",
        "\n",
        "# corr_matrix = data.corr()\n",
        "# top_correlation = corr_matrix.index\n",
        "# plt.figure(figsize=(20,20))\n",
        "# #plotting heat map\n",
        "# sns.heatmap(data[top_correlation].corr(),annot=True,cmap='RdYlGn')\n",
        "# plt.show()"
      ],
      "metadata": {
        "id": "Tur0KNIgocUf"
      },
      "execution_count": null,
      "outputs": []
    },
    {
      "cell_type": "code",
      "source": [
        "df"
      ],
      "metadata": {
        "colab": {
          "base_uri": "https://localhost:8080/",
          "height": 423
        },
        "id": "om5FOrmBp5nV",
        "outputId": "25795d63-faa9-4129-99b9-99f4f632f7f6"
      },
      "execution_count": null,
      "outputs": [
        {
          "output_type": "execute_result",
          "data": {
            "text/html": [
              "\n",
              "  <div id=\"df-6cc99d57-2bc4-4a6b-9cb5-03472f8f4209\">\n",
              "    <div class=\"colab-df-container\">\n",
              "      <div>\n",
              "<style scoped>\n",
              "    .dataframe tbody tr th:only-of-type {\n",
              "        vertical-align: middle;\n",
              "    }\n",
              "\n",
              "    .dataframe tbody tr th {\n",
              "        vertical-align: top;\n",
              "    }\n",
              "\n",
              "    .dataframe thead th {\n",
              "        text-align: right;\n",
              "    }\n",
              "</style>\n",
              "<table border=\"1\" class=\"dataframe\">\n",
              "  <thead>\n",
              "    <tr style=\"text-align: right;\">\n",
              "      <th></th>\n",
              "      <th>age</th>\n",
              "      <th>sex</th>\n",
              "      <th>cp</th>\n",
              "      <th>trestbps</th>\n",
              "      <th>chol</th>\n",
              "      <th>fbs</th>\n",
              "      <th>restecg</th>\n",
              "      <th>thalach</th>\n",
              "      <th>exang</th>\n",
              "      <th>oldpeak</th>\n",
              "      <th>slope</th>\n",
              "      <th>ca</th>\n",
              "      <th>thal</th>\n",
              "      <th>disease</th>\n",
              "    </tr>\n",
              "  </thead>\n",
              "  <tbody>\n",
              "    <tr>\n",
              "      <th>0</th>\n",
              "      <td>63.0</td>\n",
              "      <td>1.0</td>\n",
              "      <td>1.0</td>\n",
              "      <td>145.0</td>\n",
              "      <td>233.0</td>\n",
              "      <td>1.0</td>\n",
              "      <td>2.0</td>\n",
              "      <td>150.0</td>\n",
              "      <td>0.0</td>\n",
              "      <td>2.3</td>\n",
              "      <td>3.0</td>\n",
              "      <td>0.0</td>\n",
              "      <td>6.0</td>\n",
              "      <td>0</td>\n",
              "    </tr>\n",
              "    <tr>\n",
              "      <th>1</th>\n",
              "      <td>67.0</td>\n",
              "      <td>1.0</td>\n",
              "      <td>4.0</td>\n",
              "      <td>160.0</td>\n",
              "      <td>286.0</td>\n",
              "      <td>0.0</td>\n",
              "      <td>2.0</td>\n",
              "      <td>108.0</td>\n",
              "      <td>1.0</td>\n",
              "      <td>1.5</td>\n",
              "      <td>2.0</td>\n",
              "      <td>3.0</td>\n",
              "      <td>3.0</td>\n",
              "      <td>1</td>\n",
              "    </tr>\n",
              "    <tr>\n",
              "      <th>2</th>\n",
              "      <td>67.0</td>\n",
              "      <td>1.0</td>\n",
              "      <td>4.0</td>\n",
              "      <td>120.0</td>\n",
              "      <td>229.0</td>\n",
              "      <td>0.0</td>\n",
              "      <td>2.0</td>\n",
              "      <td>129.0</td>\n",
              "      <td>1.0</td>\n",
              "      <td>2.6</td>\n",
              "      <td>2.0</td>\n",
              "      <td>2.0</td>\n",
              "      <td>7.0</td>\n",
              "      <td>1</td>\n",
              "    </tr>\n",
              "    <tr>\n",
              "      <th>3</th>\n",
              "      <td>37.0</td>\n",
              "      <td>1.0</td>\n",
              "      <td>3.0</td>\n",
              "      <td>130.0</td>\n",
              "      <td>250.0</td>\n",
              "      <td>0.0</td>\n",
              "      <td>0.0</td>\n",
              "      <td>187.0</td>\n",
              "      <td>0.0</td>\n",
              "      <td>3.5</td>\n",
              "      <td>3.0</td>\n",
              "      <td>0.0</td>\n",
              "      <td>3.0</td>\n",
              "      <td>0</td>\n",
              "    </tr>\n",
              "    <tr>\n",
              "      <th>4</th>\n",
              "      <td>41.0</td>\n",
              "      <td>0.0</td>\n",
              "      <td>2.0</td>\n",
              "      <td>130.0</td>\n",
              "      <td>204.0</td>\n",
              "      <td>0.0</td>\n",
              "      <td>2.0</td>\n",
              "      <td>172.0</td>\n",
              "      <td>0.0</td>\n",
              "      <td>1.4</td>\n",
              "      <td>1.0</td>\n",
              "      <td>0.0</td>\n",
              "      <td>3.0</td>\n",
              "      <td>0</td>\n",
              "    </tr>\n",
              "    <tr>\n",
              "      <th>...</th>\n",
              "      <td>...</td>\n",
              "      <td>...</td>\n",
              "      <td>...</td>\n",
              "      <td>...</td>\n",
              "      <td>...</td>\n",
              "      <td>...</td>\n",
              "      <td>...</td>\n",
              "      <td>...</td>\n",
              "      <td>...</td>\n",
              "      <td>...</td>\n",
              "      <td>...</td>\n",
              "      <td>...</td>\n",
              "      <td>...</td>\n",
              "      <td>...</td>\n",
              "    </tr>\n",
              "    <tr>\n",
              "      <th>298</th>\n",
              "      <td>45.0</td>\n",
              "      <td>1.0</td>\n",
              "      <td>1.0</td>\n",
              "      <td>110.0</td>\n",
              "      <td>264.0</td>\n",
              "      <td>0.0</td>\n",
              "      <td>0.0</td>\n",
              "      <td>132.0</td>\n",
              "      <td>0.0</td>\n",
              "      <td>1.2</td>\n",
              "      <td>2.0</td>\n",
              "      <td>0.0</td>\n",
              "      <td>7.0</td>\n",
              "      <td>1</td>\n",
              "    </tr>\n",
              "    <tr>\n",
              "      <th>299</th>\n",
              "      <td>68.0</td>\n",
              "      <td>1.0</td>\n",
              "      <td>4.0</td>\n",
              "      <td>144.0</td>\n",
              "      <td>193.0</td>\n",
              "      <td>1.0</td>\n",
              "      <td>0.0</td>\n",
              "      <td>141.0</td>\n",
              "      <td>0.0</td>\n",
              "      <td>3.4</td>\n",
              "      <td>2.0</td>\n",
              "      <td>2.0</td>\n",
              "      <td>7.0</td>\n",
              "      <td>1</td>\n",
              "    </tr>\n",
              "    <tr>\n",
              "      <th>300</th>\n",
              "      <td>57.0</td>\n",
              "      <td>1.0</td>\n",
              "      <td>4.0</td>\n",
              "      <td>130.0</td>\n",
              "      <td>131.0</td>\n",
              "      <td>0.0</td>\n",
              "      <td>0.0</td>\n",
              "      <td>115.0</td>\n",
              "      <td>1.0</td>\n",
              "      <td>1.2</td>\n",
              "      <td>2.0</td>\n",
              "      <td>1.0</td>\n",
              "      <td>7.0</td>\n",
              "      <td>1</td>\n",
              "    </tr>\n",
              "    <tr>\n",
              "      <th>301</th>\n",
              "      <td>57.0</td>\n",
              "      <td>0.0</td>\n",
              "      <td>2.0</td>\n",
              "      <td>130.0</td>\n",
              "      <td>236.0</td>\n",
              "      <td>0.0</td>\n",
              "      <td>2.0</td>\n",
              "      <td>174.0</td>\n",
              "      <td>0.0</td>\n",
              "      <td>0.0</td>\n",
              "      <td>2.0</td>\n",
              "      <td>1.0</td>\n",
              "      <td>3.0</td>\n",
              "      <td>1</td>\n",
              "    </tr>\n",
              "    <tr>\n",
              "      <th>302</th>\n",
              "      <td>38.0</td>\n",
              "      <td>1.0</td>\n",
              "      <td>3.0</td>\n",
              "      <td>138.0</td>\n",
              "      <td>175.0</td>\n",
              "      <td>0.0</td>\n",
              "      <td>0.0</td>\n",
              "      <td>173.0</td>\n",
              "      <td>0.0</td>\n",
              "      <td>0.0</td>\n",
              "      <td>1.0</td>\n",
              "      <td>?</td>\n",
              "      <td>3.0</td>\n",
              "      <td>0</td>\n",
              "    </tr>\n",
              "  </tbody>\n",
              "</table>\n",
              "<p>303 rows × 14 columns</p>\n",
              "</div>\n",
              "      <button class=\"colab-df-convert\" onclick=\"convertToInteractive('df-6cc99d57-2bc4-4a6b-9cb5-03472f8f4209')\"\n",
              "              title=\"Convert this dataframe to an interactive table.\"\n",
              "              style=\"display:none;\">\n",
              "        \n",
              "  <svg xmlns=\"http://www.w3.org/2000/svg\" height=\"24px\"viewBox=\"0 0 24 24\"\n",
              "       width=\"24px\">\n",
              "    <path d=\"M0 0h24v24H0V0z\" fill=\"none\"/>\n",
              "    <path d=\"M18.56 5.44l.94 2.06.94-2.06 2.06-.94-2.06-.94-.94-2.06-.94 2.06-2.06.94zm-11 1L8.5 8.5l.94-2.06 2.06-.94-2.06-.94L8.5 2.5l-.94 2.06-2.06.94zm10 10l.94 2.06.94-2.06 2.06-.94-2.06-.94-.94-2.06-.94 2.06-2.06.94z\"/><path d=\"M17.41 7.96l-1.37-1.37c-.4-.4-.92-.59-1.43-.59-.52 0-1.04.2-1.43.59L10.3 9.45l-7.72 7.72c-.78.78-.78 2.05 0 2.83L4 21.41c.39.39.9.59 1.41.59.51 0 1.02-.2 1.41-.59l7.78-7.78 2.81-2.81c.8-.78.8-2.07 0-2.86zM5.41 20L4 18.59l7.72-7.72 1.47 1.35L5.41 20z\"/>\n",
              "  </svg>\n",
              "      </button>\n",
              "      \n",
              "  <style>\n",
              "    .colab-df-container {\n",
              "      display:flex;\n",
              "      flex-wrap:wrap;\n",
              "      gap: 12px;\n",
              "    }\n",
              "\n",
              "    .colab-df-convert {\n",
              "      background-color: #E8F0FE;\n",
              "      border: none;\n",
              "      border-radius: 50%;\n",
              "      cursor: pointer;\n",
              "      display: none;\n",
              "      fill: #1967D2;\n",
              "      height: 32px;\n",
              "      padding: 0 0 0 0;\n",
              "      width: 32px;\n",
              "    }\n",
              "\n",
              "    .colab-df-convert:hover {\n",
              "      background-color: #E2EBFA;\n",
              "      box-shadow: 0px 1px 2px rgba(60, 64, 67, 0.3), 0px 1px 3px 1px rgba(60, 64, 67, 0.15);\n",
              "      fill: #174EA6;\n",
              "    }\n",
              "\n",
              "    [theme=dark] .colab-df-convert {\n",
              "      background-color: #3B4455;\n",
              "      fill: #D2E3FC;\n",
              "    }\n",
              "\n",
              "    [theme=dark] .colab-df-convert:hover {\n",
              "      background-color: #434B5C;\n",
              "      box-shadow: 0px 1px 3px 1px rgba(0, 0, 0, 0.15);\n",
              "      filter: drop-shadow(0px 1px 2px rgba(0, 0, 0, 0.3));\n",
              "      fill: #FFFFFF;\n",
              "    }\n",
              "  </style>\n",
              "\n",
              "      <script>\n",
              "        const buttonEl =\n",
              "          document.querySelector('#df-6cc99d57-2bc4-4a6b-9cb5-03472f8f4209 button.colab-df-convert');\n",
              "        buttonEl.style.display =\n",
              "          google.colab.kernel.accessAllowed ? 'block' : 'none';\n",
              "\n",
              "        async function convertToInteractive(key) {\n",
              "          const element = document.querySelector('#df-6cc99d57-2bc4-4a6b-9cb5-03472f8f4209');\n",
              "          const dataTable =\n",
              "            await google.colab.kernel.invokeFunction('convertToInteractive',\n",
              "                                                     [key], {});\n",
              "          if (!dataTable) return;\n",
              "\n",
              "          const docLinkHtml = 'Like what you see? Visit the ' +\n",
              "            '<a target=\"_blank\" href=https://colab.research.google.com/notebooks/data_table.ipynb>data table notebook</a>'\n",
              "            + ' to learn more about interactive tables.';\n",
              "          element.innerHTML = '';\n",
              "          dataTable['output_type'] = 'display_data';\n",
              "          await google.colab.output.renderOutput(dataTable, element);\n",
              "          const docLink = document.createElement('div');\n",
              "          docLink.innerHTML = docLinkHtml;\n",
              "          element.appendChild(docLink);\n",
              "        }\n",
              "      </script>\n",
              "    </div>\n",
              "  </div>\n",
              "  "
            ],
            "text/plain": [
              "      age  sex   cp  trestbps   chol  ...  oldpeak  slope   ca  thal  disease\n",
              "0    63.0  1.0  1.0     145.0  233.0  ...      2.3    3.0  0.0   6.0        0\n",
              "1    67.0  1.0  4.0     160.0  286.0  ...      1.5    2.0  3.0   3.0        1\n",
              "2    67.0  1.0  4.0     120.0  229.0  ...      2.6    2.0  2.0   7.0        1\n",
              "3    37.0  1.0  3.0     130.0  250.0  ...      3.5    3.0  0.0   3.0        0\n",
              "4    41.0  0.0  2.0     130.0  204.0  ...      1.4    1.0  0.0   3.0        0\n",
              "..    ...  ...  ...       ...    ...  ...      ...    ...  ...   ...      ...\n",
              "298  45.0  1.0  1.0     110.0  264.0  ...      1.2    2.0  0.0   7.0        1\n",
              "299  68.0  1.0  4.0     144.0  193.0  ...      3.4    2.0  2.0   7.0        1\n",
              "300  57.0  1.0  4.0     130.0  131.0  ...      1.2    2.0  1.0   7.0        1\n",
              "301  57.0  0.0  2.0     130.0  236.0  ...      0.0    2.0  1.0   3.0        1\n",
              "302  38.0  1.0  3.0     138.0  175.0  ...      0.0    1.0    ?   3.0        0\n",
              "\n",
              "[303 rows x 14 columns]"
            ]
          },
          "metadata": {},
          "execution_count": 135
        }
      ]
    },
    {
      "cell_type": "markdown",
      "source": [
        "#### Standardizing the data\n"
      ],
      "metadata": {
        "id": "EYtgR_ZLD88j"
      }
    },
    {
      "cell_type": "markdown",
      "source": [
        "We are choosing four variables:\n",
        "\n",
        "* **Variable 1:**\n",
        "cp: chest pain type\n",
        "\n",
        "-- Value 1: typical angina\n",
        "-- Value 2: atypical angina\n",
        "-- Value 3: non-anginal pain\n",
        "-- Value 4: asymptomatic\n",
        "\n",
        "* **Variable 2:**\n",
        "age\n",
        "\n",
        "* **Variable 3:**\n",
        "trestbps \n",
        "\n",
        "* **Variable 4:**\n",
        "chol: serum cholestoral in mg/dl \n"
      ],
      "metadata": {
        "id": "1iu8-bquEb8e"
      }
    },
    {
      "cell_type": "markdown",
      "source": [
        "#### Standardizing the data"
      ],
      "metadata": {
        "id": "C2hjExd0hquj"
      }
    },
    {
      "cell_type": "code",
      "source": [
        "df[['cp', 'age', 'trestbps', 'chol']].values\n",
        "\n",
        "# standardize the data\n",
        "df['cp_s'] = (df.cp-df.cp.mean())/df.cp.std()\n",
        "df['age_s'] = (df.age-df.age.mean())/df.age.std()\n",
        "df['trestbps_s'] = (df.trestbps-df.trestbps.mean())/df.trestbps.std()\n",
        "df['chol_s'] = (df.chol-df.chol.mean())/df.chol.std()"
      ],
      "metadata": {
        "id": "Iv7VNM-qEAXz"
      },
      "execution_count": null,
      "outputs": []
    },
    {
      "cell_type": "code",
      "source": [
        "df['cp_s'].unique()"
      ],
      "metadata": {
        "colab": {
          "base_uri": "https://localhost:8080/"
        },
        "id": "GerO5M6Wn3Fv",
        "outputId": "78d64d2c-6d07-4ac6-c3ee-f23c0fcc632b"
      },
      "execution_count": null,
      "outputs": [
        {
          "output_type": "execute_result",
          "data": {
            "text/plain": [
              "array([-2.24805569,  0.87653547, -0.16499491, -1.2065253 ])"
            ]
          },
          "metadata": {},
          "execution_count": 137
        }
      ]
    },
    {
      "cell_type": "code",
      "source": [
        "df.head(5)"
      ],
      "metadata": {
        "colab": {
          "base_uri": "https://localhost:8080/",
          "height": 206
        },
        "id": "RGR0pjviEVtp",
        "outputId": "a2a947a0-aea2-464f-ef6c-dfe0418fa6b2"
      },
      "execution_count": null,
      "outputs": [
        {
          "output_type": "execute_result",
          "data": {
            "text/html": [
              "\n",
              "  <div id=\"df-ae27da32-cb71-41f1-a993-6cfe6add69d1\">\n",
              "    <div class=\"colab-df-container\">\n",
              "      <div>\n",
              "<style scoped>\n",
              "    .dataframe tbody tr th:only-of-type {\n",
              "        vertical-align: middle;\n",
              "    }\n",
              "\n",
              "    .dataframe tbody tr th {\n",
              "        vertical-align: top;\n",
              "    }\n",
              "\n",
              "    .dataframe thead th {\n",
              "        text-align: right;\n",
              "    }\n",
              "</style>\n",
              "<table border=\"1\" class=\"dataframe\">\n",
              "  <thead>\n",
              "    <tr style=\"text-align: right;\">\n",
              "      <th></th>\n",
              "      <th>age</th>\n",
              "      <th>sex</th>\n",
              "      <th>cp</th>\n",
              "      <th>trestbps</th>\n",
              "      <th>chol</th>\n",
              "      <th>fbs</th>\n",
              "      <th>restecg</th>\n",
              "      <th>thalach</th>\n",
              "      <th>exang</th>\n",
              "      <th>oldpeak</th>\n",
              "      <th>slope</th>\n",
              "      <th>ca</th>\n",
              "      <th>thal</th>\n",
              "      <th>disease</th>\n",
              "      <th>cp_s</th>\n",
              "      <th>age_s</th>\n",
              "      <th>trestbps_s</th>\n",
              "      <th>chol_s</th>\n",
              "    </tr>\n",
              "  </thead>\n",
              "  <tbody>\n",
              "    <tr>\n",
              "      <th>0</th>\n",
              "      <td>63.0</td>\n",
              "      <td>1.0</td>\n",
              "      <td>1.0</td>\n",
              "      <td>145.0</td>\n",
              "      <td>233.0</td>\n",
              "      <td>1.0</td>\n",
              "      <td>2.0</td>\n",
              "      <td>150.0</td>\n",
              "      <td>0.0</td>\n",
              "      <td>2.3</td>\n",
              "      <td>3.0</td>\n",
              "      <td>0.0</td>\n",
              "      <td>6.0</td>\n",
              "      <td>0</td>\n",
              "      <td>-2.248056</td>\n",
              "      <td>0.947160</td>\n",
              "      <td>0.756274</td>\n",
              "      <td>-0.264463</td>\n",
              "    </tr>\n",
              "    <tr>\n",
              "      <th>1</th>\n",
              "      <td>67.0</td>\n",
              "      <td>1.0</td>\n",
              "      <td>4.0</td>\n",
              "      <td>160.0</td>\n",
              "      <td>286.0</td>\n",
              "      <td>0.0</td>\n",
              "      <td>2.0</td>\n",
              "      <td>108.0</td>\n",
              "      <td>1.0</td>\n",
              "      <td>1.5</td>\n",
              "      <td>2.0</td>\n",
              "      <td>3.0</td>\n",
              "      <td>3.0</td>\n",
              "      <td>1</td>\n",
              "      <td>0.876535</td>\n",
              "      <td>1.389703</td>\n",
              "      <td>1.608559</td>\n",
              "      <td>0.759159</td>\n",
              "    </tr>\n",
              "    <tr>\n",
              "      <th>2</th>\n",
              "      <td>67.0</td>\n",
              "      <td>1.0</td>\n",
              "      <td>4.0</td>\n",
              "      <td>120.0</td>\n",
              "      <td>229.0</td>\n",
              "      <td>0.0</td>\n",
              "      <td>2.0</td>\n",
              "      <td>129.0</td>\n",
              "      <td>1.0</td>\n",
              "      <td>2.6</td>\n",
              "      <td>2.0</td>\n",
              "      <td>2.0</td>\n",
              "      <td>7.0</td>\n",
              "      <td>1</td>\n",
              "      <td>0.876535</td>\n",
              "      <td>1.389703</td>\n",
              "      <td>-0.664201</td>\n",
              "      <td>-0.341717</td>\n",
              "    </tr>\n",
              "    <tr>\n",
              "      <th>3</th>\n",
              "      <td>37.0</td>\n",
              "      <td>1.0</td>\n",
              "      <td>3.0</td>\n",
              "      <td>130.0</td>\n",
              "      <td>250.0</td>\n",
              "      <td>0.0</td>\n",
              "      <td>0.0</td>\n",
              "      <td>187.0</td>\n",
              "      <td>0.0</td>\n",
              "      <td>3.5</td>\n",
              "      <td>3.0</td>\n",
              "      <td>0.0</td>\n",
              "      <td>3.0</td>\n",
              "      <td>0</td>\n",
              "      <td>-0.164995</td>\n",
              "      <td>-1.929372</td>\n",
              "      <td>-0.096011</td>\n",
              "      <td>0.063869</td>\n",
              "    </tr>\n",
              "    <tr>\n",
              "      <th>4</th>\n",
              "      <td>41.0</td>\n",
              "      <td>0.0</td>\n",
              "      <td>2.0</td>\n",
              "      <td>130.0</td>\n",
              "      <td>204.0</td>\n",
              "      <td>0.0</td>\n",
              "      <td>2.0</td>\n",
              "      <td>172.0</td>\n",
              "      <td>0.0</td>\n",
              "      <td>1.4</td>\n",
              "      <td>1.0</td>\n",
              "      <td>0.0</td>\n",
              "      <td>3.0</td>\n",
              "      <td>0</td>\n",
              "      <td>-1.206525</td>\n",
              "      <td>-1.486829</td>\n",
              "      <td>-0.096011</td>\n",
              "      <td>-0.824558</td>\n",
              "    </tr>\n",
              "  </tbody>\n",
              "</table>\n",
              "</div>\n",
              "      <button class=\"colab-df-convert\" onclick=\"convertToInteractive('df-ae27da32-cb71-41f1-a993-6cfe6add69d1')\"\n",
              "              title=\"Convert this dataframe to an interactive table.\"\n",
              "              style=\"display:none;\">\n",
              "        \n",
              "  <svg xmlns=\"http://www.w3.org/2000/svg\" height=\"24px\"viewBox=\"0 0 24 24\"\n",
              "       width=\"24px\">\n",
              "    <path d=\"M0 0h24v24H0V0z\" fill=\"none\"/>\n",
              "    <path d=\"M18.56 5.44l.94 2.06.94-2.06 2.06-.94-2.06-.94-.94-2.06-.94 2.06-2.06.94zm-11 1L8.5 8.5l.94-2.06 2.06-.94-2.06-.94L8.5 2.5l-.94 2.06-2.06.94zm10 10l.94 2.06.94-2.06 2.06-.94-2.06-.94-.94-2.06-.94 2.06-2.06.94z\"/><path d=\"M17.41 7.96l-1.37-1.37c-.4-.4-.92-.59-1.43-.59-.52 0-1.04.2-1.43.59L10.3 9.45l-7.72 7.72c-.78.78-.78 2.05 0 2.83L4 21.41c.39.39.9.59 1.41.59.51 0 1.02-.2 1.41-.59l7.78-7.78 2.81-2.81c.8-.78.8-2.07 0-2.86zM5.41 20L4 18.59l7.72-7.72 1.47 1.35L5.41 20z\"/>\n",
              "  </svg>\n",
              "      </button>\n",
              "      \n",
              "  <style>\n",
              "    .colab-df-container {\n",
              "      display:flex;\n",
              "      flex-wrap:wrap;\n",
              "      gap: 12px;\n",
              "    }\n",
              "\n",
              "    .colab-df-convert {\n",
              "      background-color: #E8F0FE;\n",
              "      border: none;\n",
              "      border-radius: 50%;\n",
              "      cursor: pointer;\n",
              "      display: none;\n",
              "      fill: #1967D2;\n",
              "      height: 32px;\n",
              "      padding: 0 0 0 0;\n",
              "      width: 32px;\n",
              "    }\n",
              "\n",
              "    .colab-df-convert:hover {\n",
              "      background-color: #E2EBFA;\n",
              "      box-shadow: 0px 1px 2px rgba(60, 64, 67, 0.3), 0px 1px 3px 1px rgba(60, 64, 67, 0.15);\n",
              "      fill: #174EA6;\n",
              "    }\n",
              "\n",
              "    [theme=dark] .colab-df-convert {\n",
              "      background-color: #3B4455;\n",
              "      fill: #D2E3FC;\n",
              "    }\n",
              "\n",
              "    [theme=dark] .colab-df-convert:hover {\n",
              "      background-color: #434B5C;\n",
              "      box-shadow: 0px 1px 3px 1px rgba(0, 0, 0, 0.15);\n",
              "      filter: drop-shadow(0px 1px 2px rgba(0, 0, 0, 0.3));\n",
              "      fill: #FFFFFF;\n",
              "    }\n",
              "  </style>\n",
              "\n",
              "      <script>\n",
              "        const buttonEl =\n",
              "          document.querySelector('#df-ae27da32-cb71-41f1-a993-6cfe6add69d1 button.colab-df-convert');\n",
              "        buttonEl.style.display =\n",
              "          google.colab.kernel.accessAllowed ? 'block' : 'none';\n",
              "\n",
              "        async function convertToInteractive(key) {\n",
              "          const element = document.querySelector('#df-ae27da32-cb71-41f1-a993-6cfe6add69d1');\n",
              "          const dataTable =\n",
              "            await google.colab.kernel.invokeFunction('convertToInteractive',\n",
              "                                                     [key], {});\n",
              "          if (!dataTable) return;\n",
              "\n",
              "          const docLinkHtml = 'Like what you see? Visit the ' +\n",
              "            '<a target=\"_blank\" href=https://colab.research.google.com/notebooks/data_table.ipynb>data table notebook</a>'\n",
              "            + ' to learn more about interactive tables.';\n",
              "          element.innerHTML = '';\n",
              "          dataTable['output_type'] = 'display_data';\n",
              "          await google.colab.output.renderOutput(dataTable, element);\n",
              "          const docLink = document.createElement('div');\n",
              "          docLink.innerHTML = docLinkHtml;\n",
              "          element.appendChild(docLink);\n",
              "        }\n",
              "      </script>\n",
              "    </div>\n",
              "  </div>\n",
              "  "
            ],
            "text/plain": [
              "    age  sex   cp  trestbps  ...      cp_s     age_s  trestbps_s    chol_s\n",
              "0  63.0  1.0  1.0     145.0  ... -2.248056  0.947160    0.756274 -0.264463\n",
              "1  67.0  1.0  4.0     160.0  ...  0.876535  1.389703    1.608559  0.759159\n",
              "2  67.0  1.0  4.0     120.0  ...  0.876535  1.389703   -0.664201 -0.341717\n",
              "3  37.0  1.0  3.0     130.0  ... -0.164995 -1.929372   -0.096011  0.063869\n",
              "4  41.0  0.0  2.0     130.0  ... -1.206525 -1.486829   -0.096011 -0.824558\n",
              "\n",
              "[5 rows x 18 columns]"
            ]
          },
          "metadata": {},
          "execution_count": 138
        }
      ]
    },
    {
      "cell_type": "markdown",
      "source": [
        "When k is 10: \n",
        "**This code simply looks for the 10 patients with ages and attributes closest to a given attributes, then prints how many of those patients are healthy and how many have heart disease.**\n",
        "\n",
        "Testing it on 1 patient."
      ],
      "metadata": {
        "id": "OuLMvpLrKU6E"
      }
    },
    {
      "cell_type": "code",
      "source": [
        "nn = NearestNeighbors(n_neighbors=10, metric='euclidean', algorithm='auto')\n",
        "\n",
        "X = df[['age_s','cp_s', 'trestbps_s', 'chol_s']].values\n",
        "fit = nn.fit(X)\n",
        "\n",
        "patient = df.sample(1)\n",
        "patientX = patient[['age_s','cp_s', 'trestbps_s', 'chol_s']].values[0]\n",
        "patienty = patient[['disease']].values[0]\n",
        "display(patient)\n",
        "\n",
        "# Find the k nearest neighbors\n",
        "distances, indices = fit.kneighbors([patientX])\n",
        "nbrs = df.iloc[indices[0]]\n",
        "display(nbrs)\n",
        "\n",
        "healthy = len(nbrs[nbrs.disease==0])\n",
        "sick = len(nbrs[nbrs.disease==1])\n",
        "print(f'healthy: {healthy}, sick: {sick}')\n",
        "predict = 0 if healthy > sick else 1\n",
        "actual = patienty\n",
        "\n",
        "success = predict == actual\n",
        "success"
      ],
      "metadata": {
        "colab": {
          "base_uri": "https://localhost:8080/",
          "height": 462
        },
        "id": "95sF-1ZvIXB0",
        "outputId": "9f1e55f5-98e6-4297-e001-0974b20329ec"
      },
      "execution_count": null,
      "outputs": [
        {
          "output_type": "display_data",
          "data": {
            "text/html": [
              "\n",
              "  <div id=\"df-2ba16690-656d-448c-a139-fb3c450bc8cd\">\n",
              "    <div class=\"colab-df-container\">\n",
              "      <div>\n",
              "<style scoped>\n",
              "    .dataframe tbody tr th:only-of-type {\n",
              "        vertical-align: middle;\n",
              "    }\n",
              "\n",
              "    .dataframe tbody tr th {\n",
              "        vertical-align: top;\n",
              "    }\n",
              "\n",
              "    .dataframe thead th {\n",
              "        text-align: right;\n",
              "    }\n",
              "</style>\n",
              "<table border=\"1\" class=\"dataframe\">\n",
              "  <thead>\n",
              "    <tr style=\"text-align: right;\">\n",
              "      <th></th>\n",
              "      <th>age</th>\n",
              "      <th>sex</th>\n",
              "      <th>cp</th>\n",
              "      <th>trestbps</th>\n",
              "      <th>chol</th>\n",
              "      <th>fbs</th>\n",
              "      <th>restecg</th>\n",
              "      <th>thalach</th>\n",
              "      <th>exang</th>\n",
              "      <th>oldpeak</th>\n",
              "      <th>slope</th>\n",
              "      <th>ca</th>\n",
              "      <th>thal</th>\n",
              "      <th>disease</th>\n",
              "      <th>cp_s</th>\n",
              "      <th>age_s</th>\n",
              "      <th>trestbps_s</th>\n",
              "      <th>chol_s</th>\n",
              "    </tr>\n",
              "  </thead>\n",
              "  <tbody>\n",
              "    <tr>\n",
              "      <th>48</th>\n",
              "      <td>65.0</td>\n",
              "      <td>0.0</td>\n",
              "      <td>3.0</td>\n",
              "      <td>140.0</td>\n",
              "      <td>417.0</td>\n",
              "      <td>1.0</td>\n",
              "      <td>2.0</td>\n",
              "      <td>157.0</td>\n",
              "      <td>0.0</td>\n",
              "      <td>0.8</td>\n",
              "      <td>1.0</td>\n",
              "      <td>1.0</td>\n",
              "      <td>3.0</td>\n",
              "      <td>0</td>\n",
              "      <td>-0.164995</td>\n",
              "      <td>1.168431</td>\n",
              "      <td>0.472179</td>\n",
              "      <td>3.289244</td>\n",
              "    </tr>\n",
              "  </tbody>\n",
              "</table>\n",
              "</div>\n",
              "      <button class=\"colab-df-convert\" onclick=\"convertToInteractive('df-2ba16690-656d-448c-a139-fb3c450bc8cd')\"\n",
              "              title=\"Convert this dataframe to an interactive table.\"\n",
              "              style=\"display:none;\">\n",
              "        \n",
              "  <svg xmlns=\"http://www.w3.org/2000/svg\" height=\"24px\"viewBox=\"0 0 24 24\"\n",
              "       width=\"24px\">\n",
              "    <path d=\"M0 0h24v24H0V0z\" fill=\"none\"/>\n",
              "    <path d=\"M18.56 5.44l.94 2.06.94-2.06 2.06-.94-2.06-.94-.94-2.06-.94 2.06-2.06.94zm-11 1L8.5 8.5l.94-2.06 2.06-.94-2.06-.94L8.5 2.5l-.94 2.06-2.06.94zm10 10l.94 2.06.94-2.06 2.06-.94-2.06-.94-.94-2.06-.94 2.06-2.06.94z\"/><path d=\"M17.41 7.96l-1.37-1.37c-.4-.4-.92-.59-1.43-.59-.52 0-1.04.2-1.43.59L10.3 9.45l-7.72 7.72c-.78.78-.78 2.05 0 2.83L4 21.41c.39.39.9.59 1.41.59.51 0 1.02-.2 1.41-.59l7.78-7.78 2.81-2.81c.8-.78.8-2.07 0-2.86zM5.41 20L4 18.59l7.72-7.72 1.47 1.35L5.41 20z\"/>\n",
              "  </svg>\n",
              "      </button>\n",
              "      \n",
              "  <style>\n",
              "    .colab-df-container {\n",
              "      display:flex;\n",
              "      flex-wrap:wrap;\n",
              "      gap: 12px;\n",
              "    }\n",
              "\n",
              "    .colab-df-convert {\n",
              "      background-color: #E8F0FE;\n",
              "      border: none;\n",
              "      border-radius: 50%;\n",
              "      cursor: pointer;\n",
              "      display: none;\n",
              "      fill: #1967D2;\n",
              "      height: 32px;\n",
              "      padding: 0 0 0 0;\n",
              "      width: 32px;\n",
              "    }\n",
              "\n",
              "    .colab-df-convert:hover {\n",
              "      background-color: #E2EBFA;\n",
              "      box-shadow: 0px 1px 2px rgba(60, 64, 67, 0.3), 0px 1px 3px 1px rgba(60, 64, 67, 0.15);\n",
              "      fill: #174EA6;\n",
              "    }\n",
              "\n",
              "    [theme=dark] .colab-df-convert {\n",
              "      background-color: #3B4455;\n",
              "      fill: #D2E3FC;\n",
              "    }\n",
              "\n",
              "    [theme=dark] .colab-df-convert:hover {\n",
              "      background-color: #434B5C;\n",
              "      box-shadow: 0px 1px 3px 1px rgba(0, 0, 0, 0.15);\n",
              "      filter: drop-shadow(0px 1px 2px rgba(0, 0, 0, 0.3));\n",
              "      fill: #FFFFFF;\n",
              "    }\n",
              "  </style>\n",
              "\n",
              "      <script>\n",
              "        const buttonEl =\n",
              "          document.querySelector('#df-2ba16690-656d-448c-a139-fb3c450bc8cd button.colab-df-convert');\n",
              "        buttonEl.style.display =\n",
              "          google.colab.kernel.accessAllowed ? 'block' : 'none';\n",
              "\n",
              "        async function convertToInteractive(key) {\n",
              "          const element = document.querySelector('#df-2ba16690-656d-448c-a139-fb3c450bc8cd');\n",
              "          const dataTable =\n",
              "            await google.colab.kernel.invokeFunction('convertToInteractive',\n",
              "                                                     [key], {});\n",
              "          if (!dataTable) return;\n",
              "\n",
              "          const docLinkHtml = 'Like what you see? Visit the ' +\n",
              "            '<a target=\"_blank\" href=https://colab.research.google.com/notebooks/data_table.ipynb>data table notebook</a>'\n",
              "            + ' to learn more about interactive tables.';\n",
              "          element.innerHTML = '';\n",
              "          dataTable['output_type'] = 'display_data';\n",
              "          await google.colab.output.renderOutput(dataTable, element);\n",
              "          const docLink = document.createElement('div');\n",
              "          docLink.innerHTML = docLinkHtml;\n",
              "          element.appendChild(docLink);\n",
              "        }\n",
              "      </script>\n",
              "    </div>\n",
              "  </div>\n",
              "  "
            ],
            "text/plain": [
              "     age  sex   cp  trestbps  ...      cp_s     age_s  trestbps_s    chol_s\n",
              "48  65.0  0.0  3.0     140.0  ... -0.164995  1.168431    0.472179  3.289244\n",
              "\n",
              "[1 rows x 18 columns]"
            ]
          },
          "metadata": {}
        },
        {
          "output_type": "display_data",
          "data": {
            "text/html": [
              "\n",
              "  <div id=\"df-166c5456-a1dd-4026-aee9-58e35f19a141\">\n",
              "    <div class=\"colab-df-container\">\n",
              "      <div>\n",
              "<style scoped>\n",
              "    .dataframe tbody tr th:only-of-type {\n",
              "        vertical-align: middle;\n",
              "    }\n",
              "\n",
              "    .dataframe tbody tr th {\n",
              "        vertical-align: top;\n",
              "    }\n",
              "\n",
              "    .dataframe thead th {\n",
              "        text-align: right;\n",
              "    }\n",
              "</style>\n",
              "<table border=\"1\" class=\"dataframe\">\n",
              "  <thead>\n",
              "    <tr style=\"text-align: right;\">\n",
              "      <th></th>\n",
              "      <th>age</th>\n",
              "      <th>sex</th>\n",
              "      <th>cp</th>\n",
              "      <th>trestbps</th>\n",
              "      <th>chol</th>\n",
              "      <th>fbs</th>\n",
              "      <th>restecg</th>\n",
              "      <th>thalach</th>\n",
              "      <th>exang</th>\n",
              "      <th>oldpeak</th>\n",
              "      <th>slope</th>\n",
              "      <th>ca</th>\n",
              "      <th>thal</th>\n",
              "      <th>disease</th>\n",
              "      <th>cp_s</th>\n",
              "      <th>age_s</th>\n",
              "      <th>trestbps_s</th>\n",
              "      <th>chol_s</th>\n",
              "    </tr>\n",
              "  </thead>\n",
              "  <tbody>\n",
              "    <tr>\n",
              "      <th>48</th>\n",
              "      <td>65.0</td>\n",
              "      <td>0.0</td>\n",
              "      <td>3.0</td>\n",
              "      <td>140.0</td>\n",
              "      <td>417.0</td>\n",
              "      <td>1.0</td>\n",
              "      <td>2.0</td>\n",
              "      <td>157.0</td>\n",
              "      <td>0.0</td>\n",
              "      <td>0.8</td>\n",
              "      <td>1.0</td>\n",
              "      <td>1.0</td>\n",
              "      <td>3.0</td>\n",
              "      <td>0</td>\n",
              "      <td>-0.164995</td>\n",
              "      <td>1.168431</td>\n",
              "      <td>0.472179</td>\n",
              "      <td>3.289244</td>\n",
              "    </tr>\n",
              "    <tr>\n",
              "      <th>173</th>\n",
              "      <td>62.0</td>\n",
              "      <td>0.0</td>\n",
              "      <td>4.0</td>\n",
              "      <td>140.0</td>\n",
              "      <td>394.0</td>\n",
              "      <td>0.0</td>\n",
              "      <td>2.0</td>\n",
              "      <td>157.0</td>\n",
              "      <td>0.0</td>\n",
              "      <td>1.2</td>\n",
              "      <td>2.0</td>\n",
              "      <td>0.0</td>\n",
              "      <td>3.0</td>\n",
              "      <td>0</td>\n",
              "      <td>0.876535</td>\n",
              "      <td>0.836524</td>\n",
              "      <td>0.472179</td>\n",
              "      <td>2.845031</td>\n",
              "    </tr>\n",
              "    <tr>\n",
              "      <th>121</th>\n",
              "      <td>63.0</td>\n",
              "      <td>0.0</td>\n",
              "      <td>4.0</td>\n",
              "      <td>150.0</td>\n",
              "      <td>407.0</td>\n",
              "      <td>0.0</td>\n",
              "      <td>2.0</td>\n",
              "      <td>154.0</td>\n",
              "      <td>0.0</td>\n",
              "      <td>4.0</td>\n",
              "      <td>2.0</td>\n",
              "      <td>3.0</td>\n",
              "      <td>7.0</td>\n",
              "      <td>1</td>\n",
              "      <td>0.876535</td>\n",
              "      <td>0.947160</td>\n",
              "      <td>1.040369</td>\n",
              "      <td>3.096108</td>\n",
              "    </tr>\n",
              "    <tr>\n",
              "      <th>181</th>\n",
              "      <td>56.0</td>\n",
              "      <td>0.0</td>\n",
              "      <td>4.0</td>\n",
              "      <td>134.0</td>\n",
              "      <td>409.0</td>\n",
              "      <td>0.0</td>\n",
              "      <td>2.0</td>\n",
              "      <td>150.0</td>\n",
              "      <td>1.0</td>\n",
              "      <td>1.9</td>\n",
              "      <td>2.0</td>\n",
              "      <td>2.0</td>\n",
              "      <td>7.0</td>\n",
              "      <td>1</td>\n",
              "      <td>0.876535</td>\n",
              "      <td>0.172709</td>\n",
              "      <td>0.131265</td>\n",
              "      <td>3.134735</td>\n",
              "    </tr>\n",
              "    <tr>\n",
              "      <th>75</th>\n",
              "      <td>65.0</td>\n",
              "      <td>0.0</td>\n",
              "      <td>3.0</td>\n",
              "      <td>160.0</td>\n",
              "      <td>360.0</td>\n",
              "      <td>0.0</td>\n",
              "      <td>2.0</td>\n",
              "      <td>151.0</td>\n",
              "      <td>0.0</td>\n",
              "      <td>0.8</td>\n",
              "      <td>1.0</td>\n",
              "      <td>0.0</td>\n",
              "      <td>3.0</td>\n",
              "      <td>0</td>\n",
              "      <td>-0.164995</td>\n",
              "      <td>1.168431</td>\n",
              "      <td>1.608559</td>\n",
              "      <td>2.188368</td>\n",
              "    </tr>\n",
              "    <tr>\n",
              "      <th>32</th>\n",
              "      <td>64.0</td>\n",
              "      <td>1.0</td>\n",
              "      <td>3.0</td>\n",
              "      <td>140.0</td>\n",
              "      <td>335.0</td>\n",
              "      <td>0.0</td>\n",
              "      <td>0.0</td>\n",
              "      <td>158.0</td>\n",
              "      <td>0.0</td>\n",
              "      <td>0.0</td>\n",
              "      <td>1.0</td>\n",
              "      <td>0.0</td>\n",
              "      <td>3.0</td>\n",
              "      <td>1</td>\n",
              "      <td>-0.164995</td>\n",
              "      <td>1.057795</td>\n",
              "      <td>0.472179</td>\n",
              "      <td>1.705527</td>\n",
              "    </tr>\n",
              "    <tr>\n",
              "      <th>38</th>\n",
              "      <td>55.0</td>\n",
              "      <td>1.0</td>\n",
              "      <td>4.0</td>\n",
              "      <td>132.0</td>\n",
              "      <td>353.0</td>\n",
              "      <td>0.0</td>\n",
              "      <td>0.0</td>\n",
              "      <td>132.0</td>\n",
              "      <td>1.0</td>\n",
              "      <td>1.2</td>\n",
              "      <td>2.0</td>\n",
              "      <td>1.0</td>\n",
              "      <td>7.0</td>\n",
              "      <td>1</td>\n",
              "      <td>0.876535</td>\n",
              "      <td>0.062073</td>\n",
              "      <td>0.017627</td>\n",
              "      <td>2.053172</td>\n",
              "    </tr>\n",
              "    <tr>\n",
              "      <th>203</th>\n",
              "      <td>64.0</td>\n",
              "      <td>0.0</td>\n",
              "      <td>3.0</td>\n",
              "      <td>140.0</td>\n",
              "      <td>313.0</td>\n",
              "      <td>0.0</td>\n",
              "      <td>0.0</td>\n",
              "      <td>133.0</td>\n",
              "      <td>0.0</td>\n",
              "      <td>0.2</td>\n",
              "      <td>1.0</td>\n",
              "      <td>0.0</td>\n",
              "      <td>7.0</td>\n",
              "      <td>0</td>\n",
              "      <td>-0.164995</td>\n",
              "      <td>1.057795</td>\n",
              "      <td>0.472179</td>\n",
              "      <td>1.280627</td>\n",
              "    </tr>\n",
              "    <tr>\n",
              "      <th>26</th>\n",
              "      <td>58.0</td>\n",
              "      <td>0.0</td>\n",
              "      <td>3.0</td>\n",
              "      <td>120.0</td>\n",
              "      <td>340.0</td>\n",
              "      <td>0.0</td>\n",
              "      <td>0.0</td>\n",
              "      <td>172.0</td>\n",
              "      <td>0.0</td>\n",
              "      <td>0.0</td>\n",
              "      <td>1.0</td>\n",
              "      <td>0.0</td>\n",
              "      <td>3.0</td>\n",
              "      <td>0</td>\n",
              "      <td>-0.164995</td>\n",
              "      <td>0.393980</td>\n",
              "      <td>-0.664201</td>\n",
              "      <td>1.802095</td>\n",
              "    </tr>\n",
              "    <tr>\n",
              "      <th>118</th>\n",
              "      <td>63.0</td>\n",
              "      <td>1.0</td>\n",
              "      <td>4.0</td>\n",
              "      <td>130.0</td>\n",
              "      <td>330.0</td>\n",
              "      <td>1.0</td>\n",
              "      <td>2.0</td>\n",
              "      <td>132.0</td>\n",
              "      <td>1.0</td>\n",
              "      <td>1.8</td>\n",
              "      <td>1.0</td>\n",
              "      <td>3.0</td>\n",
              "      <td>7.0</td>\n",
              "      <td>1</td>\n",
              "      <td>0.876535</td>\n",
              "      <td>0.947160</td>\n",
              "      <td>-0.096011</td>\n",
              "      <td>1.608959</td>\n",
              "    </tr>\n",
              "  </tbody>\n",
              "</table>\n",
              "</div>\n",
              "      <button class=\"colab-df-convert\" onclick=\"convertToInteractive('df-166c5456-a1dd-4026-aee9-58e35f19a141')\"\n",
              "              title=\"Convert this dataframe to an interactive table.\"\n",
              "              style=\"display:none;\">\n",
              "        \n",
              "  <svg xmlns=\"http://www.w3.org/2000/svg\" height=\"24px\"viewBox=\"0 0 24 24\"\n",
              "       width=\"24px\">\n",
              "    <path d=\"M0 0h24v24H0V0z\" fill=\"none\"/>\n",
              "    <path d=\"M18.56 5.44l.94 2.06.94-2.06 2.06-.94-2.06-.94-.94-2.06-.94 2.06-2.06.94zm-11 1L8.5 8.5l.94-2.06 2.06-.94-2.06-.94L8.5 2.5l-.94 2.06-2.06.94zm10 10l.94 2.06.94-2.06 2.06-.94-2.06-.94-.94-2.06-.94 2.06-2.06.94z\"/><path d=\"M17.41 7.96l-1.37-1.37c-.4-.4-.92-.59-1.43-.59-.52 0-1.04.2-1.43.59L10.3 9.45l-7.72 7.72c-.78.78-.78 2.05 0 2.83L4 21.41c.39.39.9.59 1.41.59.51 0 1.02-.2 1.41-.59l7.78-7.78 2.81-2.81c.8-.78.8-2.07 0-2.86zM5.41 20L4 18.59l7.72-7.72 1.47 1.35L5.41 20z\"/>\n",
              "  </svg>\n",
              "      </button>\n",
              "      \n",
              "  <style>\n",
              "    .colab-df-container {\n",
              "      display:flex;\n",
              "      flex-wrap:wrap;\n",
              "      gap: 12px;\n",
              "    }\n",
              "\n",
              "    .colab-df-convert {\n",
              "      background-color: #E8F0FE;\n",
              "      border: none;\n",
              "      border-radius: 50%;\n",
              "      cursor: pointer;\n",
              "      display: none;\n",
              "      fill: #1967D2;\n",
              "      height: 32px;\n",
              "      padding: 0 0 0 0;\n",
              "      width: 32px;\n",
              "    }\n",
              "\n",
              "    .colab-df-convert:hover {\n",
              "      background-color: #E2EBFA;\n",
              "      box-shadow: 0px 1px 2px rgba(60, 64, 67, 0.3), 0px 1px 3px 1px rgba(60, 64, 67, 0.15);\n",
              "      fill: #174EA6;\n",
              "    }\n",
              "\n",
              "    [theme=dark] .colab-df-convert {\n",
              "      background-color: #3B4455;\n",
              "      fill: #D2E3FC;\n",
              "    }\n",
              "\n",
              "    [theme=dark] .colab-df-convert:hover {\n",
              "      background-color: #434B5C;\n",
              "      box-shadow: 0px 1px 3px 1px rgba(0, 0, 0, 0.15);\n",
              "      filter: drop-shadow(0px 1px 2px rgba(0, 0, 0, 0.3));\n",
              "      fill: #FFFFFF;\n",
              "    }\n",
              "  </style>\n",
              "\n",
              "      <script>\n",
              "        const buttonEl =\n",
              "          document.querySelector('#df-166c5456-a1dd-4026-aee9-58e35f19a141 button.colab-df-convert');\n",
              "        buttonEl.style.display =\n",
              "          google.colab.kernel.accessAllowed ? 'block' : 'none';\n",
              "\n",
              "        async function convertToInteractive(key) {\n",
              "          const element = document.querySelector('#df-166c5456-a1dd-4026-aee9-58e35f19a141');\n",
              "          const dataTable =\n",
              "            await google.colab.kernel.invokeFunction('convertToInteractive',\n",
              "                                                     [key], {});\n",
              "          if (!dataTable) return;\n",
              "\n",
              "          const docLinkHtml = 'Like what you see? Visit the ' +\n",
              "            '<a target=\"_blank\" href=https://colab.research.google.com/notebooks/data_table.ipynb>data table notebook</a>'\n",
              "            + ' to learn more about interactive tables.';\n",
              "          element.innerHTML = '';\n",
              "          dataTable['output_type'] = 'display_data';\n",
              "          await google.colab.output.renderOutput(dataTable, element);\n",
              "          const docLink = document.createElement('div');\n",
              "          docLink.innerHTML = docLinkHtml;\n",
              "          element.appendChild(docLink);\n",
              "        }\n",
              "      </script>\n",
              "    </div>\n",
              "  </div>\n",
              "  "
            ],
            "text/plain": [
              "      age  sex   cp  trestbps  ...      cp_s     age_s  trestbps_s    chol_s\n",
              "48   65.0  0.0  3.0     140.0  ... -0.164995  1.168431    0.472179  3.289244\n",
              "173  62.0  0.0  4.0     140.0  ...  0.876535  0.836524    0.472179  2.845031\n",
              "121  63.0  0.0  4.0     150.0  ...  0.876535  0.947160    1.040369  3.096108\n",
              "181  56.0  0.0  4.0     134.0  ...  0.876535  0.172709    0.131265  3.134735\n",
              "75   65.0  0.0  3.0     160.0  ... -0.164995  1.168431    1.608559  2.188368\n",
              "32   64.0  1.0  3.0     140.0  ... -0.164995  1.057795    0.472179  1.705527\n",
              "38   55.0  1.0  4.0     132.0  ...  0.876535  0.062073    0.017627  2.053172\n",
              "203  64.0  0.0  3.0     140.0  ... -0.164995  1.057795    0.472179  1.280627\n",
              "26   58.0  0.0  3.0     120.0  ... -0.164995  0.393980   -0.664201  1.802095\n",
              "118  63.0  1.0  4.0     130.0  ...  0.876535  0.947160   -0.096011  1.608959\n",
              "\n",
              "[10 rows x 18 columns]"
            ]
          },
          "metadata": {}
        },
        {
          "output_type": "stream",
          "name": "stdout",
          "text": [
            "healthy: 5, sick: 5\n"
          ]
        },
        {
          "output_type": "execute_result",
          "data": {
            "text/plain": [
              "array([False])"
            ]
          },
          "metadata": {},
          "execution_count": 139
        }
      ]
    },
    {
      "cell_type": "markdown",
      "source": [
        "**Testing on a 100 patients sample.**"
      ],
      "metadata": {
        "id": "JvB6yuKLiIOe"
      }
    },
    {
      "cell_type": "code",
      "source": [
        "# Use knn on age. First create a nearest neighbors object.\n",
        "nn = NearestNeighbors(n_neighbors=10, metric='euclidean', algorithm='auto')\n",
        "\n",
        "X = df[['age_s','cp_s', 'trestbps_s', 'chol_s']].values\n",
        "fit = nn.fit(X)\n",
        "\n",
        "n = 100\n",
        "patients = df.sample(n)\n",
        "patientsX = patients[['age_s','cp_s', 'trestbps_s', 'chol_s']].values\n",
        "patientsy = patients[['disease']].values\n",
        "# display(patients)\n",
        "\n",
        "# Find the k nearest neighbors\n",
        "distances, indices = fit.kneighbors(patientsX)\n",
        "\n",
        "# Iterate over the patients\n",
        "y_pred = []\n",
        "for i in range(n):\n",
        "  nbrs = df.iloc[indices[i]]\n",
        "  # display(nbrs)\n",
        "\n",
        "  healthy = len(nbrs[nbrs.disease==0])\n",
        "  sick = len(nbrs[nbrs.disease==1])\n",
        "  # print(f'healthy: {healthy}, sick: {sick}')\n",
        "  predict = 0 if healthy > sick else 1\n",
        "  y_pred.append(predict)\n",
        "  # actual = patienty\n",
        "  # success = predict == actual\n",
        "  # success\n",
        "  # display(success)\n",
        "\n",
        "# print(y_pred)\n",
        "# print(patientsy)\n",
        "\n",
        "# precision = tp/(tp+fp) (\"messiness\")\n",
        "# recall = tp/(tp+fn)\n",
        "# support - how many samples are positive\n",
        "(p,r,f,s) = precision_recall_fscore_support(patientsy, y_pred, labels=[1])\n",
        "print(f'precision={p}, recall={r}, f-score={f}, support={s}')"
      ],
      "metadata": {
        "colab": {
          "base_uri": "https://localhost:8080/"
        },
        "id": "qGpu2NM_LpUf",
        "outputId": "cb29812f-a9f2-4138-85b1-da644054f90d"
      },
      "execution_count": null,
      "outputs": [
        {
          "output_type": "stream",
          "name": "stdout",
          "text": [
            "precision=[0.7173913], recall=[0.76744186], f-score=[0.74157303], support=[43]\n"
          ]
        }
      ]
    },
    {
      "cell_type": "markdown",
      "source": [
        "#### **Optimal K**\n",
        "Finding the optimal value of k"
      ],
      "metadata": {
        "id": "cmT8pMJylSzh"
      }
    },
    {
      "cell_type": "code",
      "source": [
        "df"
      ],
      "metadata": {
        "colab": {
          "base_uri": "https://localhost:8080/",
          "height": 423
        },
        "id": "fmykYnyb_9DN",
        "outputId": "8e7327ea-6c36-4529-e5db-52b5a0319402"
      },
      "execution_count": null,
      "outputs": [
        {
          "output_type": "execute_result",
          "data": {
            "text/html": [
              "\n",
              "  <div id=\"df-4f384f7a-197e-46c9-94fa-0cacb46d37c6\">\n",
              "    <div class=\"colab-df-container\">\n",
              "      <div>\n",
              "<style scoped>\n",
              "    .dataframe tbody tr th:only-of-type {\n",
              "        vertical-align: middle;\n",
              "    }\n",
              "\n",
              "    .dataframe tbody tr th {\n",
              "        vertical-align: top;\n",
              "    }\n",
              "\n",
              "    .dataframe thead th {\n",
              "        text-align: right;\n",
              "    }\n",
              "</style>\n",
              "<table border=\"1\" class=\"dataframe\">\n",
              "  <thead>\n",
              "    <tr style=\"text-align: right;\">\n",
              "      <th></th>\n",
              "      <th>age</th>\n",
              "      <th>sex</th>\n",
              "      <th>cp</th>\n",
              "      <th>trestbps</th>\n",
              "      <th>chol</th>\n",
              "      <th>fbs</th>\n",
              "      <th>restecg</th>\n",
              "      <th>thalach</th>\n",
              "      <th>exang</th>\n",
              "      <th>oldpeak</th>\n",
              "      <th>slope</th>\n",
              "      <th>ca</th>\n",
              "      <th>thal</th>\n",
              "      <th>disease</th>\n",
              "      <th>cp_s</th>\n",
              "      <th>age_s</th>\n",
              "      <th>trestbps_s</th>\n",
              "      <th>chol_s</th>\n",
              "    </tr>\n",
              "  </thead>\n",
              "  <tbody>\n",
              "    <tr>\n",
              "      <th>0</th>\n",
              "      <td>63.0</td>\n",
              "      <td>1.0</td>\n",
              "      <td>1.0</td>\n",
              "      <td>145.0</td>\n",
              "      <td>233.0</td>\n",
              "      <td>1.0</td>\n",
              "      <td>2.0</td>\n",
              "      <td>150.0</td>\n",
              "      <td>0.0</td>\n",
              "      <td>2.3</td>\n",
              "      <td>3.0</td>\n",
              "      <td>0.0</td>\n",
              "      <td>6.0</td>\n",
              "      <td>0</td>\n",
              "      <td>-2.248056</td>\n",
              "      <td>0.947160</td>\n",
              "      <td>0.756274</td>\n",
              "      <td>-0.264463</td>\n",
              "    </tr>\n",
              "    <tr>\n",
              "      <th>1</th>\n",
              "      <td>67.0</td>\n",
              "      <td>1.0</td>\n",
              "      <td>4.0</td>\n",
              "      <td>160.0</td>\n",
              "      <td>286.0</td>\n",
              "      <td>0.0</td>\n",
              "      <td>2.0</td>\n",
              "      <td>108.0</td>\n",
              "      <td>1.0</td>\n",
              "      <td>1.5</td>\n",
              "      <td>2.0</td>\n",
              "      <td>3.0</td>\n",
              "      <td>3.0</td>\n",
              "      <td>1</td>\n",
              "      <td>0.876535</td>\n",
              "      <td>1.389703</td>\n",
              "      <td>1.608559</td>\n",
              "      <td>0.759159</td>\n",
              "    </tr>\n",
              "    <tr>\n",
              "      <th>2</th>\n",
              "      <td>67.0</td>\n",
              "      <td>1.0</td>\n",
              "      <td>4.0</td>\n",
              "      <td>120.0</td>\n",
              "      <td>229.0</td>\n",
              "      <td>0.0</td>\n",
              "      <td>2.0</td>\n",
              "      <td>129.0</td>\n",
              "      <td>1.0</td>\n",
              "      <td>2.6</td>\n",
              "      <td>2.0</td>\n",
              "      <td>2.0</td>\n",
              "      <td>7.0</td>\n",
              "      <td>1</td>\n",
              "      <td>0.876535</td>\n",
              "      <td>1.389703</td>\n",
              "      <td>-0.664201</td>\n",
              "      <td>-0.341717</td>\n",
              "    </tr>\n",
              "    <tr>\n",
              "      <th>3</th>\n",
              "      <td>37.0</td>\n",
              "      <td>1.0</td>\n",
              "      <td>3.0</td>\n",
              "      <td>130.0</td>\n",
              "      <td>250.0</td>\n",
              "      <td>0.0</td>\n",
              "      <td>0.0</td>\n",
              "      <td>187.0</td>\n",
              "      <td>0.0</td>\n",
              "      <td>3.5</td>\n",
              "      <td>3.0</td>\n",
              "      <td>0.0</td>\n",
              "      <td>3.0</td>\n",
              "      <td>0</td>\n",
              "      <td>-0.164995</td>\n",
              "      <td>-1.929372</td>\n",
              "      <td>-0.096011</td>\n",
              "      <td>0.063869</td>\n",
              "    </tr>\n",
              "    <tr>\n",
              "      <th>4</th>\n",
              "      <td>41.0</td>\n",
              "      <td>0.0</td>\n",
              "      <td>2.0</td>\n",
              "      <td>130.0</td>\n",
              "      <td>204.0</td>\n",
              "      <td>0.0</td>\n",
              "      <td>2.0</td>\n",
              "      <td>172.0</td>\n",
              "      <td>0.0</td>\n",
              "      <td>1.4</td>\n",
              "      <td>1.0</td>\n",
              "      <td>0.0</td>\n",
              "      <td>3.0</td>\n",
              "      <td>0</td>\n",
              "      <td>-1.206525</td>\n",
              "      <td>-1.486829</td>\n",
              "      <td>-0.096011</td>\n",
              "      <td>-0.824558</td>\n",
              "    </tr>\n",
              "    <tr>\n",
              "      <th>...</th>\n",
              "      <td>...</td>\n",
              "      <td>...</td>\n",
              "      <td>...</td>\n",
              "      <td>...</td>\n",
              "      <td>...</td>\n",
              "      <td>...</td>\n",
              "      <td>...</td>\n",
              "      <td>...</td>\n",
              "      <td>...</td>\n",
              "      <td>...</td>\n",
              "      <td>...</td>\n",
              "      <td>...</td>\n",
              "      <td>...</td>\n",
              "      <td>...</td>\n",
              "      <td>...</td>\n",
              "      <td>...</td>\n",
              "      <td>...</td>\n",
              "      <td>...</td>\n",
              "    </tr>\n",
              "    <tr>\n",
              "      <th>298</th>\n",
              "      <td>45.0</td>\n",
              "      <td>1.0</td>\n",
              "      <td>1.0</td>\n",
              "      <td>110.0</td>\n",
              "      <td>264.0</td>\n",
              "      <td>0.0</td>\n",
              "      <td>0.0</td>\n",
              "      <td>132.0</td>\n",
              "      <td>0.0</td>\n",
              "      <td>1.2</td>\n",
              "      <td>2.0</td>\n",
              "      <td>0.0</td>\n",
              "      <td>7.0</td>\n",
              "      <td>1</td>\n",
              "      <td>-2.248056</td>\n",
              "      <td>-1.044285</td>\n",
              "      <td>-1.232391</td>\n",
              "      <td>0.334260</td>\n",
              "    </tr>\n",
              "    <tr>\n",
              "      <th>299</th>\n",
              "      <td>68.0</td>\n",
              "      <td>1.0</td>\n",
              "      <td>4.0</td>\n",
              "      <td>144.0</td>\n",
              "      <td>193.0</td>\n",
              "      <td>1.0</td>\n",
              "      <td>0.0</td>\n",
              "      <td>141.0</td>\n",
              "      <td>0.0</td>\n",
              "      <td>3.4</td>\n",
              "      <td>2.0</td>\n",
              "      <td>2.0</td>\n",
              "      <td>7.0</td>\n",
              "      <td>1</td>\n",
              "      <td>0.876535</td>\n",
              "      <td>1.500339</td>\n",
              "      <td>0.699455</td>\n",
              "      <td>-1.037008</td>\n",
              "    </tr>\n",
              "    <tr>\n",
              "      <th>300</th>\n",
              "      <td>57.0</td>\n",
              "      <td>1.0</td>\n",
              "      <td>4.0</td>\n",
              "      <td>130.0</td>\n",
              "      <td>131.0</td>\n",
              "      <td>0.0</td>\n",
              "      <td>0.0</td>\n",
              "      <td>115.0</td>\n",
              "      <td>1.0</td>\n",
              "      <td>1.2</td>\n",
              "      <td>2.0</td>\n",
              "      <td>1.0</td>\n",
              "      <td>7.0</td>\n",
              "      <td>1</td>\n",
              "      <td>0.876535</td>\n",
              "      <td>0.283345</td>\n",
              "      <td>-0.096011</td>\n",
              "      <td>-2.234453</td>\n",
              "    </tr>\n",
              "    <tr>\n",
              "      <th>301</th>\n",
              "      <td>57.0</td>\n",
              "      <td>0.0</td>\n",
              "      <td>2.0</td>\n",
              "      <td>130.0</td>\n",
              "      <td>236.0</td>\n",
              "      <td>0.0</td>\n",
              "      <td>2.0</td>\n",
              "      <td>174.0</td>\n",
              "      <td>0.0</td>\n",
              "      <td>0.0</td>\n",
              "      <td>2.0</td>\n",
              "      <td>1.0</td>\n",
              "      <td>3.0</td>\n",
              "      <td>1</td>\n",
              "      <td>-1.206525</td>\n",
              "      <td>0.283345</td>\n",
              "      <td>-0.096011</td>\n",
              "      <td>-0.206522</td>\n",
              "    </tr>\n",
              "    <tr>\n",
              "      <th>302</th>\n",
              "      <td>38.0</td>\n",
              "      <td>1.0</td>\n",
              "      <td>3.0</td>\n",
              "      <td>138.0</td>\n",
              "      <td>175.0</td>\n",
              "      <td>0.0</td>\n",
              "      <td>0.0</td>\n",
              "      <td>173.0</td>\n",
              "      <td>0.0</td>\n",
              "      <td>0.0</td>\n",
              "      <td>1.0</td>\n",
              "      <td>?</td>\n",
              "      <td>3.0</td>\n",
              "      <td>0</td>\n",
              "      <td>-0.164995</td>\n",
              "      <td>-1.818736</td>\n",
              "      <td>0.358541</td>\n",
              "      <td>-1.384653</td>\n",
              "    </tr>\n",
              "  </tbody>\n",
              "</table>\n",
              "<p>303 rows × 18 columns</p>\n",
              "</div>\n",
              "      <button class=\"colab-df-convert\" onclick=\"convertToInteractive('df-4f384f7a-197e-46c9-94fa-0cacb46d37c6')\"\n",
              "              title=\"Convert this dataframe to an interactive table.\"\n",
              "              style=\"display:none;\">\n",
              "        \n",
              "  <svg xmlns=\"http://www.w3.org/2000/svg\" height=\"24px\"viewBox=\"0 0 24 24\"\n",
              "       width=\"24px\">\n",
              "    <path d=\"M0 0h24v24H0V0z\" fill=\"none\"/>\n",
              "    <path d=\"M18.56 5.44l.94 2.06.94-2.06 2.06-.94-2.06-.94-.94-2.06-.94 2.06-2.06.94zm-11 1L8.5 8.5l.94-2.06 2.06-.94-2.06-.94L8.5 2.5l-.94 2.06-2.06.94zm10 10l.94 2.06.94-2.06 2.06-.94-2.06-.94-.94-2.06-.94 2.06-2.06.94z\"/><path d=\"M17.41 7.96l-1.37-1.37c-.4-.4-.92-.59-1.43-.59-.52 0-1.04.2-1.43.59L10.3 9.45l-7.72 7.72c-.78.78-.78 2.05 0 2.83L4 21.41c.39.39.9.59 1.41.59.51 0 1.02-.2 1.41-.59l7.78-7.78 2.81-2.81c.8-.78.8-2.07 0-2.86zM5.41 20L4 18.59l7.72-7.72 1.47 1.35L5.41 20z\"/>\n",
              "  </svg>\n",
              "      </button>\n",
              "      \n",
              "  <style>\n",
              "    .colab-df-container {\n",
              "      display:flex;\n",
              "      flex-wrap:wrap;\n",
              "      gap: 12px;\n",
              "    }\n",
              "\n",
              "    .colab-df-convert {\n",
              "      background-color: #E8F0FE;\n",
              "      border: none;\n",
              "      border-radius: 50%;\n",
              "      cursor: pointer;\n",
              "      display: none;\n",
              "      fill: #1967D2;\n",
              "      height: 32px;\n",
              "      padding: 0 0 0 0;\n",
              "      width: 32px;\n",
              "    }\n",
              "\n",
              "    .colab-df-convert:hover {\n",
              "      background-color: #E2EBFA;\n",
              "      box-shadow: 0px 1px 2px rgba(60, 64, 67, 0.3), 0px 1px 3px 1px rgba(60, 64, 67, 0.15);\n",
              "      fill: #174EA6;\n",
              "    }\n",
              "\n",
              "    [theme=dark] .colab-df-convert {\n",
              "      background-color: #3B4455;\n",
              "      fill: #D2E3FC;\n",
              "    }\n",
              "\n",
              "    [theme=dark] .colab-df-convert:hover {\n",
              "      background-color: #434B5C;\n",
              "      box-shadow: 0px 1px 3px 1px rgba(0, 0, 0, 0.15);\n",
              "      filter: drop-shadow(0px 1px 2px rgba(0, 0, 0, 0.3));\n",
              "      fill: #FFFFFF;\n",
              "    }\n",
              "  </style>\n",
              "\n",
              "      <script>\n",
              "        const buttonEl =\n",
              "          document.querySelector('#df-4f384f7a-197e-46c9-94fa-0cacb46d37c6 button.colab-df-convert');\n",
              "        buttonEl.style.display =\n",
              "          google.colab.kernel.accessAllowed ? 'block' : 'none';\n",
              "\n",
              "        async function convertToInteractive(key) {\n",
              "          const element = document.querySelector('#df-4f384f7a-197e-46c9-94fa-0cacb46d37c6');\n",
              "          const dataTable =\n",
              "            await google.colab.kernel.invokeFunction('convertToInteractive',\n",
              "                                                     [key], {});\n",
              "          if (!dataTable) return;\n",
              "\n",
              "          const docLinkHtml = 'Like what you see? Visit the ' +\n",
              "            '<a target=\"_blank\" href=https://colab.research.google.com/notebooks/data_table.ipynb>data table notebook</a>'\n",
              "            + ' to learn more about interactive tables.';\n",
              "          element.innerHTML = '';\n",
              "          dataTable['output_type'] = 'display_data';\n",
              "          await google.colab.output.renderOutput(dataTable, element);\n",
              "          const docLink = document.createElement('div');\n",
              "          docLink.innerHTML = docLinkHtml;\n",
              "          element.appendChild(docLink);\n",
              "        }\n",
              "      </script>\n",
              "    </div>\n",
              "  </div>\n",
              "  "
            ],
            "text/plain": [
              "      age  sex   cp  trestbps  ...      cp_s     age_s  trestbps_s    chol_s\n",
              "0    63.0  1.0  1.0     145.0  ... -2.248056  0.947160    0.756274 -0.264463\n",
              "1    67.0  1.0  4.0     160.0  ...  0.876535  1.389703    1.608559  0.759159\n",
              "2    67.0  1.0  4.0     120.0  ...  0.876535  1.389703   -0.664201 -0.341717\n",
              "3    37.0  1.0  3.0     130.0  ... -0.164995 -1.929372   -0.096011  0.063869\n",
              "4    41.0  0.0  2.0     130.0  ... -1.206525 -1.486829   -0.096011 -0.824558\n",
              "..    ...  ...  ...       ...  ...       ...       ...         ...       ...\n",
              "298  45.0  1.0  1.0     110.0  ... -2.248056 -1.044285   -1.232391  0.334260\n",
              "299  68.0  1.0  4.0     144.0  ...  0.876535  1.500339    0.699455 -1.037008\n",
              "300  57.0  1.0  4.0     130.0  ...  0.876535  0.283345   -0.096011 -2.234453\n",
              "301  57.0  0.0  2.0     130.0  ... -1.206525  0.283345   -0.096011 -0.206522\n",
              "302  38.0  1.0  3.0     138.0  ... -0.164995 -1.818736    0.358541 -1.384653\n",
              "\n",
              "[303 rows x 18 columns]"
            ]
          },
          "metadata": {},
          "execution_count": 141
        }
      ]
    },
    {
      "cell_type": "code",
      "source": [
        "from sklearn.metrics import precision_recall_fscore_support\n",
        "\n",
        "def get_scores(k, attrbs, y_attrb, df):\n",
        "  # Use knn on age. First create a nearest neighbors object.\n",
        "  nn = NearestNeighbors(n_neighbors=k, metric='euclidean', algorithm='auto')\n",
        "\n",
        "  # This builds an index data structure under the hood for query performance\n",
        "  X = df[attrbs].values\n",
        "  fit = nn.fit(X)\n",
        "\n",
        "  # Get random patients to test on\n",
        "  n = 100\n",
        "  patients = df.sample(n)\n",
        "  patientsX = patients[attrbs].values\n",
        "  patientsy = patients[y_attrb].values\n",
        "  # display(patients)\n",
        "\n",
        "  # Find the k nearest neighbors to the patient.\n",
        "  distances, indices = fit.kneighbors(patientsX)\n",
        "  # print('indices of k-nearest neighbors for each patient:')\n",
        "  # display(indices)\n",
        "\n",
        "  y_pred = []\n",
        "  for i in range(n):\n",
        "      # print('nearest neighbors to patient: {}:'.format(patientsX[i]))\n",
        "      nbrs = df.iloc[indices[i]]\n",
        "      # Drop the patient of interest\n",
        "      nbrs = nbrs.drop(patients.index[i], errors='ignore')\n",
        "      # display(nbrs)\n",
        "\n",
        "      healthy = nbrs[nbrs.disease == 0].count().disease\n",
        "      sick = nbrs[nbrs.disease == 1].count().disease\n",
        "      predict = 0 if (healthy > sick) else 1\n",
        "      # print(f'healthy: {healthy}, sick: {sick}, predicted: {predict}, actual: {patientsy[i][0]}')\n",
        "      y_pred.append(predict)\n",
        "\n",
        "  # This is where we would compile how many patients are predicted\n",
        "  # correctly. Remember:\n",
        "  #    precision = tp/(tp+fp)  (\"sloppiness\")\n",
        "  #    recall    = tp/(tp+fn)  (\"What percentage did we find?\")\n",
        "  #    f-score - a balance between precision and recall\n",
        "  #    support - number of positive labels\n",
        "  return precision_recall_fscore_support(patientsy, y_pred, labels=[1])"
      ],
      "metadata": {
        "id": "NcAOtqWpN4MP"
      },
      "execution_count": null,
      "outputs": []
    },
    {
      "cell_type": "markdown",
      "source": [
        "### **Determining the Optimal K**"
      ],
      "metadata": {
        "id": "Tx0XqEhm4XsM"
      }
    },
    {
      "cell_type": "code",
      "source": [
        "kvals = range(2, 100, 2)\n",
        "attrbs = ['age_s','cp_s', 'trestbps_s', 'chol_s']\n",
        "y_attrb = ['disease']\n",
        "scores = [get_scores(k, attrbs, y_attrb, df) for k in kvals]\n",
        "# print(scores)\n",
        "\n",
        "scores = [(p[0], r[0], f[0], s[0]) for (p,r,f,s) in scores]\n",
        "scores = list(zip(*scores))\n",
        "\n",
        "plt.plot(kvals, scores[2])"
      ],
      "metadata": {
        "colab": {
          "base_uri": "https://localhost:8080/",
          "height": 283
        },
        "id": "HjlmR5rpNb2j",
        "outputId": "d4650efc-454d-4b9c-9769-e5bb216dd85f"
      },
      "execution_count": null,
      "outputs": [
        {
          "output_type": "execute_result",
          "data": {
            "text/plain": [
              "[<matplotlib.lines.Line2D at 0x7f84cc73ce50>]"
            ]
          },
          "metadata": {},
          "execution_count": 143
        },
        {
          "output_type": "display_data",
          "data": {
            "image/png": "[encoded data removed]",
            "text/plain": [
              "<Figure size 432x288 with 1 Axes>"
            ]
          },
          "metadata": {
            "needs_background": "light"
          }
        }
      ]
    },
    {
      "cell_type": "markdown",
      "source": [
        "#### **Determining the optimal k value based on the best F score**\n",
        "\n",
        "\n"
      ],
      "metadata": {
        "id": "_IUveZxjjEID"
      }
    },
    {
      "cell_type": "code",
      "source": [
        "best_score = 0\n",
        "i = 2\n",
        "k = 0\n",
        "\n",
        "for score in scores[2]:\n",
        "  if score > best_score:\n",
        "    best_score = score\n",
        "    k = i\n",
        "  i += 2\n",
        "\n",
        "  #Displaying the best score and the k-value\n",
        "print(f'Score :{best_score}, k: {k}')"
      ],
      "metadata": {
        "colab": {
          "base_uri": "https://localhost:8080/"
        },
        "id": "l1UW4PihQeT2",
        "outputId": "c8217b6a-9e74-4535-82c2-f62ee5b45bb3"
      },
      "execution_count": null,
      "outputs": [
        {
          "output_type": "stream",
          "name": "stdout",
          "text": [
            "Score :0.7835051546391752, k: 14\n"
          ]
        }
      ]
    },
    {
      "cell_type": "code",
      "source": [
        "len(scores[2])"
      ],
      "metadata": {
        "colab": {
          "base_uri": "https://localhost:8080/"
        },
        "id": "IDgfhv3pS98y",
        "outputId": "e2d10a48-3875-48ef-ab1a-9038bcb7c8da"
      },
      "execution_count": null,
      "outputs": [
        {
          "output_type": "execute_result",
          "data": {
            "text/plain": [
              "49"
            ]
          },
          "metadata": {},
          "execution_count": 145
        }
      ]
    },
    {
      "cell_type": "markdown",
      "source": [
        "#### **Separation of training and test dataset**"
      ],
      "metadata": {
        "id": "wlGI1rSsvenL"
      }
    },
    {
      "cell_type": "code",
      "source": [
        "nn = NearestNeighbors(n_neighbors=k, metric='euclidean', algorithm='auto')\n",
        "\n",
        "X = df[['age_s','cp_s', 'trestbps_s', 'chol_s']].values\n",
        "y = df[['disease']].values \n",
        "\n",
        "# Use random_state if you want the same values each time you run for debugging,\n",
        "# but you should select the split randomly when you're ready to actually train\n",
        "# and test on the data.\n",
        "X_train, X_test, y_train, y_test = train_test_split(X, y, test_size=0.25)#, random_state=42)\n",
        "\n",
        "fit = nn.fit(X_train)\n",
        "\n",
        "patientsX = X_test\n",
        "patientsy = y_test\n",
        "# display(patients)\n",
        "\n",
        "# Find the k nearest neighbors\n",
        "distances, indices = fit.kneighbors(patientsX)\n",
        "\n",
        "# Iterate over the patients\n",
        "y_pred = []\n",
        "for i in range(len(patientsX)):\n",
        "  nbrs = df.iloc[indices[i]]\n",
        "  # display(nbrs)\n",
        "\n",
        "  healthy = len(nbrs[nbrs.disease==0])\n",
        "  sick = len(nbrs[nbrs.disease==1])\n",
        "  # print(f'healthy: {healthy}, sick: {sick}')\n",
        "  predict = 0 if healthy > sick else 1\n",
        "  y_pred.append(predict)\n",
        "  # actual = patienty\n",
        "  # success = predict == actual\n",
        "  # success\n",
        "  # display(success)\n",
        "\n",
        "# print(y_pred)\n",
        "# print(patientsy)\n",
        "\n",
        "# precision = tp/(tp+fp) (\"messiness\")\n",
        "# recall = tp/(tp+fn)\n",
        "# support - how many samples are positive\n",
        "(p,r,f,s) = precision_recall_fscore_support(patientsy, y_pred, labels=[1])\n",
        "print(f'precision={p}, recall={r}, f-score={f}, support={s}')\n",
        "\n",
        "# Build the model with the training data and test with the test data\n",
        "\n",
        "# You may also want to use this function to compute the f score. The labels parameter indicates\n",
        "# that label 1 is \"positive\" in the sense of \"true positive\", \"false positive\" etc.\n",
        "# (p,r,f,s) = precision_recall_fscore_support(y_test, y_pred, labels=[1])"
      ],
      "metadata": {
        "colab": {
          "base_uri": "https://localhost:8080/"
        },
        "id": "7fTnRxKBs14K",
        "outputId": "ecf5a4e1-93d3-4ddb-bd1e-b20de1e23152"
      },
      "execution_count": null,
      "outputs": [
        {
          "output_type": "stream",
          "name": "stdout",
          "text": [
            "precision=[0.34482759], recall=[0.33333333], f-score=[0.33898305], support=[30]\n"
          ]
        }
      ]
    },
    {
      "cell_type": "code",
      "source": [
        "k"
      ],
      "metadata": {
        "colab": {
          "base_uri": "https://localhost:8080/"
        },
        "id": "hgWZCeksCMkP",
        "outputId": "922c8934-ea05-47ab-b406-3e4875f0beec"
      },
      "execution_count": null,
      "outputs": [
        {
          "output_type": "execute_result",
          "data": {
            "text/plain": [
              "14"
            ]
          },
          "metadata": {},
          "execution_count": 147
        }
      ]
    },
    {
      "cell_type": "markdown",
      "source": [
        "## Monte Carlo Approach"
      ],
      "metadata": {
        "id": "rgbHuxK7yDzH"
      }
    },
    {
      "cell_type": "code",
      "source": [
        "def monte_carlo_knn(X, y, k):\n",
        "  nn = NearestNeighbors(n_neighbors=k, metric='euclidean', algorithm='auto')\n",
        "  X_train, X_test, y_train, y_test = train_test_split(X, y, test_size=0.25)#, random_state=42)\n",
        "\n",
        "  fit = nn.fit(X_train)\n",
        "\n",
        "  patientsX = X_test\n",
        "  patientsy = y_test\n",
        "  # display(patients)\n",
        "\n",
        "  # Find the k nearest neighbors\n",
        "  distances, indices = fit.kneighbors(patientsX)\n",
        "\n",
        "  # Iterate over the patients\n",
        "  y_pred = []\n",
        "  for i in range(len(patientsX)):\n",
        "    nbrs = df.iloc[indices[i]]\n",
        "    # display(nbrs)\n",
        "\n",
        "    healthy = len(nbrs[nbrs.disease==0])\n",
        "    sick = len(nbrs[nbrs.disease==1])\n",
        "    # print(f'healthy: {healthy}, sick: {sick}')\n",
        "    predict = 0 if healthy > sick else 1\n",
        "    y_pred.append(predict)\n",
        "    # actual = patienty\n",
        "    # success = predict == actual\n",
        "    # success\n",
        "    # display(success)\n",
        "\n",
        "  # print(y_pred)\n",
        "  # print(patientsy)\n",
        "\n",
        "  # precision = tp/(tp+fp) (\"messiness\")\n",
        "  # recall = tp/(tp+fn)\n",
        "  # support - how many samples are positive\n",
        "  (p,r,f,s) = precision_recall_fscore_support(patientsy, y_pred, labels=[1], zero_division = 0)\n",
        "  print(f'precision={p}, recall={r}, f-score={f}, support={s}')\n",
        "  return (p,r,f,s) \n",
        "# Build the model with the training data and test with the test data\n",
        "\n",
        "# You may also want to use this function to compute the f score. The labels parameter indicates\n",
        "# that label 1 is \"positive\" in the sense of \"true positive\", \"false positive\" etc.\n",
        "# (p,r,f,s) = precision_recall_fscore_support(y_test, y_pred, labels=[1])"
      ],
      "metadata": {
        "id": "GKc8G5g-xo3o"
      },
      "execution_count": null,
      "outputs": []
    },
    {
      "cell_type": "markdown",
      "source": [
        "#### **Report all precision/recall/F1 scores as well as the mean F1 score** "
      ],
      "metadata": {
        "id": "Hg0TRB503ZQl"
      }
    },
    {
      "cell_type": "markdown",
      "source": [
        "**Our initial model**"
      ],
      "metadata": {
        "id": "fE61F78dI9Jt"
      }
    },
    {
      "cell_type": "code",
      "source": [
        "# k = 72\n",
        "X = df[['age_s','cp_s', 'trestbps_s', 'chol_s']].values\n",
        "y = df[['disease']].values \n",
        "\n",
        "scorelist = list()\n",
        "fscores = []\n",
        "for i in range(10):\n",
        "  (p,r,f,s) = monte_carlo_knn(X, y, k)\n",
        "  scorelist.append((p,r,f,s))\n",
        "  fscores.append(f[0])\n",
        "\n",
        "# print(fscores)\n",
        "print(f'The mean is {mean(fscores)}')"
      ],
      "metadata": {
        "colab": {
          "base_uri": "https://localhost:8080/"
        },
        "id": "rsGIiAyf0MPm",
        "outputId": "daed4769-a035-4d0a-8e52-5480d050e992"
      },
      "execution_count": null,
      "outputs": [
        {
          "output_type": "stream",
          "name": "stdout",
          "text": [
            "precision=[0.5], recall=[0.5], f-score=[0.5], support=[38]\n",
            "precision=[0.48571429], recall=[0.43589744], f-score=[0.45945946], support=[39]\n",
            "precision=[0.4375], recall=[0.46666667], f-score=[0.4516129], support=[30]\n",
            "precision=[0.27027027], recall=[0.3125], f-score=[0.28985507], support=[32]\n",
            "precision=[0.57692308], recall=[0.42857143], f-score=[0.49180328], support=[35]\n",
            "precision=[0.5862069], recall=[0.47222222], f-score=[0.52307692], support=[36]\n",
            "precision=[0.41935484], recall=[0.40625], f-score=[0.41269841], support=[32]\n",
            "precision=[0.31578947], recall=[0.42857143], f-score=[0.36363636], support=[28]\n",
            "precision=[0.4516129], recall=[0.5], f-score=[0.47457627], support=[28]\n",
            "precision=[0.51612903], recall=[0.44444444], f-score=[0.47761194], support=[36]\n",
            "The mean is 0.44443306247342057\n"
          ]
        }
      ]
    },
    {
      "cell_type": "code",
      "source": [
        "k"
      ],
      "metadata": {
        "id": "I_u595Dt19Rc",
        "colab": {
          "base_uri": "https://localhost:8080/"
        },
        "outputId": "a2d2d037-9e31-4295-fc34-fcadd081f842"
      },
      "execution_count": null,
      "outputs": [
        {
          "output_type": "execute_result",
          "data": {
            "text/plain": [
              "14"
            ]
          },
          "metadata": {},
          "execution_count": 150
        }
      ]
    },
    {
      "cell_type": "markdown",
      "source": [
        "## Testing different lists of attributes"
      ],
      "metadata": {
        "id": "1dnKYJFBKlQy"
      }
    },
    {
      "cell_type": "markdown",
      "source": [
        "**Variable optimization: Try 2 (Adding in fbs_s)**"
      ],
      "metadata": {
        "id": "-lBIasXoVQa3"
      }
    },
    {
      "cell_type": "code",
      "source": [
        "# standardize the data for more variables to be used later on\n",
        "\n",
        "df['fbs_s'] = (df.fbs-df.fbs.mean())/df.fbs.std()\n",
        "df['restecg_s'] = (df.restecg-df.restecg.mean())/df.restecg.std()\n",
        "df['exang_s'] = (df.exang-df.exang.mean())/df.exang.std()"
      ],
      "metadata": {
        "id": "MX0pasX3KuE1"
      },
      "execution_count": null,
      "outputs": []
    },
    {
      "cell_type": "code",
      "source": [
        "kvals = range(2, 100, 2)\n",
        "attrbs = ['age_s','cp_s','fbs_s', 'trestbps_s', 'chol_s']\n",
        "y_attrb = ['disease']\n",
        "scores = [get_scores(k, attrbs, y_attrb, df) for k in kvals]\n",
        "# print(scores)\n",
        "\n",
        "scores = [(p[0], r[0], f[0], s[0]) for (p,r,f,s) in scores]\n",
        "scores = list(zip(*scores))"
      ],
      "metadata": {
        "id": "iiCydMqeKR_u"
      },
      "execution_count": null,
      "outputs": []
    },
    {
      "cell_type": "code",
      "source": [
        "plt.plot(kvals, scores[2])\n",
        "plt.xlabel(\"K Values\")\n",
        "plt.ylabel(\"F-score\")"
      ],
      "metadata": {
        "colab": {
          "base_uri": "https://localhost:8080/",
          "height": 297
        },
        "id": "Vr6LbHIZra6y",
        "outputId": "4c4f5596-5519-41f5-8da2-d4cdd40d6d81"
      },
      "execution_count": null,
      "outputs": [
        {
          "output_type": "execute_result",
          "data": {
            "text/plain": [
              "Text(0, 0.5, 'F-score')"
            ]
          },
          "metadata": {},
          "execution_count": 153
        },
        {
          "output_type": "display_data",
          "data": {
            "image/png": "[encoded data removed]",
            "text/plain": [
              "<Figure size 432x288 with 1 Axes>"
            ]
          },
          "metadata": {
            "needs_background": "light"
          }
        }
      ]
    },
    {
      "cell_type": "code",
      "source": [
        "best_score = 0\n",
        "i = 2\n",
        "k = 0\n",
        "\n",
        "for score in scores[2]:\n",
        "  if score > best_score:\n",
        "    best_score = score\n",
        "    k = i\n",
        "  i += 2\n",
        "\n",
        "#Displaying the best score and the k-value\n",
        "print(f'Score :{best_score}, k: {k}')\n",
        "\n",
        "scorelist1 = list()\n",
        "fscores1 = []\n",
        "X = df[['age_s', 'cp_s', 'fbs_s','trestbps_s', 'chol_s']].values\n",
        "y = df[['disease']].values\n",
        "for i in range(10):\n",
        "  (p,r,f,s) = monte_carlo_knn(X, y, k)\n",
        "  scorelist1.append((p,r,f,s))\n",
        "  fscores1.append(f[0]) #Is it the first one or the second f-score whose value we need to consider? \n",
        "\n",
        "print(f'The mean is {mean(fscores1)}')"
      ],
      "metadata": {
        "colab": {
          "base_uri": "https://localhost:8080/"
        },
        "id": "_WJHizvDLmw3",
        "outputId": "6da2b70a-b946-4937-fc38-f9c520fde9ca"
      },
      "execution_count": null,
      "outputs": [
        {
          "output_type": "stream",
          "name": "stdout",
          "text": [
            "Score :0.7526881720430106, k: 22\n",
            "precision=[0.36], recall=[0.3], f-score=[0.32727273], support=[30]\n",
            "precision=[0.42424242], recall=[0.36842105], f-score=[0.3943662], support=[38]\n",
            "precision=[0.4137931], recall=[0.35294118], f-score=[0.38095238], support=[34]\n",
            "precision=[0.48648649], recall=[0.52941176], f-score=[0.50704225], support=[34]\n",
            "precision=[0.60714286], recall=[0.425], f-score=[0.5], support=[40]\n",
            "precision=[0.33333333], recall=[0.22857143], f-score=[0.27118644], support=[35]\n",
            "precision=[0.5], recall=[0.38095238], f-score=[0.43243243], support=[42]\n",
            "precision=[0.3], recall=[0.16216216], f-score=[0.21052632], support=[37]\n",
            "precision=[0.36363636], recall=[0.30769231], f-score=[0.33333333], support=[39]\n",
            "precision=[0.5], recall=[0.25641026], f-score=[0.33898305], support=[39]\n",
            "The mean is 0.3696095132009997\n"
          ]
        }
      ]
    },
    {
      "cell_type": "markdown",
      "source": [
        "Adding in fbs_s hurt our f-score significantly (dropped f-score by .2)\n"
      ],
      "metadata": {
        "id": "QLsh0ydvGOd_"
      }
    },
    {
      "cell_type": "markdown",
      "source": [
        "**Variable optimization: Try 3 (Adding in restecg_s, exang_s, and fbs_s)**"
      ],
      "metadata": {
        "id": "JuqTF0--S8cO"
      }
    },
    {
      "cell_type": "code",
      "source": [
        "kvals = range(2, 100, 2)\n",
        "attrbs = ['age_s','cp_s','fbs_s', 'trestbps_s', 'chol_s', 'restecg_s','exang_s']\n",
        "y_attrb = ['disease']\n",
        "scores = [get_scores(k, attrbs, y_attrb, df) for k in kvals]\n",
        "# print(scores)\n",
        "\n",
        "scores = [(p[0], r[0], f[0], s[0]) for (p,r,f,s) in scores]\n",
        "scores = list(zip(*scores))\n",
        "\n",
        "plt.plot(kvals, scores[2])\n",
        "\n",
        "best_score = 0\n",
        "i = 2\n",
        "k = 0\n",
        "\n",
        "for score in scores[2]:\n",
        "  if score > best_score:\n",
        "    best_score = score\n",
        "    k = i\n",
        "  i += 2\n",
        "\n",
        "#Displaying the best score and the k-value\n",
        "print(f'Score :{best_score}, k: {k}')\n",
        "\n",
        "scorelist2 = list()\n",
        "fscores2 = []\n",
        "X = df[['age_s', 'cp_s', 'fbs_s','trestbps_s', 'chol_s', 'restecg_s','exang_s']].values\n",
        "y = df[['disease']].values\n",
        "for i in range(10):\n",
        "  (p,r,f,s) = monte_carlo_knn(X, y, k)\n",
        "  scorelist2.append((p,r,f,s))\n",
        "  fscores2.append(f[0]) #Is it the first one or the second f-score whose value we need to consider? \n",
        "\n",
        "print(f'The mean is {mean(fscores2)}')"
      ],
      "metadata": {
        "colab": {
          "base_uri": "https://localhost:8080/",
          "height": 479
        },
        "id": "sGFpKjsYS-bx",
        "outputId": "3ad4f82b-13e2-4017-e81e-72c80fcdf4c5"
      },
      "execution_count": null,
      "outputs": [
        {
          "output_type": "stream",
          "name": "stdout",
          "text": [
            "Score :0.8089887640449439, k: 26\n",
            "precision=[0.30769231], recall=[0.20512821], f-score=[0.24615385], support=[39]\n",
            "precision=[0.56521739], recall=[0.36111111], f-score=[0.44067797], support=[36]\n",
            "precision=[0.44444444], recall=[0.21621622], f-score=[0.29090909], support=[37]\n",
            "precision=[0.31818182], recall=[0.22580645], f-score=[0.26415094], support=[31]\n",
            "precision=[0.48], recall=[0.35294118], f-score=[0.40677966], support=[34]\n",
            "precision=[0.5], recall=[0.40625], f-score=[0.44827586], support=[32]\n",
            "precision=[0.48148148], recall=[0.33333333], f-score=[0.39393939], support=[39]\n",
            "precision=[0.66666667], recall=[0.51428571], f-score=[0.58064516], support=[35]\n",
            "precision=[0.5], recall=[0.21052632], f-score=[0.2962963], support=[38]\n",
            "precision=[0.60869565], recall=[0.4375], f-score=[0.50909091], support=[32]\n",
            "The mean is 0.3876919130263695\n"
          ]
        },
        {
          "output_type": "display_data",
          "data": {
            "image/png": "[encoded data removed]",
            "text/plain": [
              "<Figure size 432x288 with 1 Axes>"
            ]
          },
          "metadata": {
            "needs_background": "light"
          }
        }
      ]
    },
    {
      "cell_type": "markdown",
      "source": [
        "Adding in restecg_s and exang_s alongside our original chosen variables and fbs hurt our f-score even more! (another .1 drop)"
      ],
      "metadata": {
        "id": "rDnF4ol9G39m"
      }
    },
    {
      "cell_type": "markdown",
      "source": [
        "**Variable optimization: Try 4 (Removing cp_s)**"
      ],
      "metadata": {
        "id": "DJ9kmSP5UBCc"
      }
    },
    {
      "cell_type": "code",
      "source": [
        "kvals = range(2, 100, 2)\n",
        "attrbs = ['age_s', 'trestbps_s','chol_s']\n",
        "y_attrb = ['disease']\n",
        "scores = [get_scores(k, attrbs, y_attrb, df) for k in kvals]\n",
        "# print(scores)\n",
        "\n",
        "scores = [(p[0], r[0], f[0], s[0]) for (p,r,f,s) in scores]\n",
        "scores = list(zip(*scores))\n",
        "\n",
        "plt.plot(kvals, scores[2])\n",
        "\n",
        "best_score = 0\n",
        "i = 2\n",
        "k = 0\n",
        "\n",
        "for score in scores[2]:\n",
        "  if score > best_score:\n",
        "    best_score = score\n",
        "    k = i\n",
        "  i += 2\n",
        "\n",
        "  #Displaying the best score and the k-value\n",
        "print(f'Score :{best_score}, k: {k}')\n",
        "\n",
        "scorelist3 = list()\n",
        "fscores3 = []\n",
        "X = df[['age_s', 'trestbps_s','chol_s']].values\n",
        "y = df[['disease']].values\n",
        "for i in range(10):\n",
        "  (p,r,f,s) = monte_carlo_knn(X, y, k)\n",
        "  scorelist3.append((p,r,f,s))\n",
        "  fscores3.append(f[0]) #Is it the first one or the second f-score whose value we need to consider? \n",
        "\n",
        "print(f'The mean is {mean(fscores3)}')"
      ],
      "metadata": {
        "colab": {
          "base_uri": "https://localhost:8080/",
          "height": 479
        },
        "id": "UxhNg880UADp",
        "outputId": "e516dffb-429b-4303-c9fe-1d7454792a7f"
      },
      "execution_count": null,
      "outputs": [
        {
          "output_type": "stream",
          "name": "stdout",
          "text": [
            "Score :0.7142857142857143, k: 82\n",
            "precision=[0.33333333], recall=[0.08823529], f-score=[0.13953488], support=[34]\n",
            "precision=[0.6], recall=[0.08571429], f-score=[0.15], support=[35]\n",
            "precision=[1.], recall=[0.02941176], f-score=[0.05714286], support=[34]\n",
            "precision=[0.38461538], recall=[0.13888889], f-score=[0.20408163], support=[36]\n",
            "precision=[0.52380952], recall=[0.30555556], f-score=[0.38596491], support=[36]\n",
            "precision=[0.], recall=[0.], f-score=[0.], support=[40]\n",
            "precision=[0.], recall=[0.], f-score=[0.], support=[33]\n",
            "precision=[1.], recall=[0.13888889], f-score=[0.24390244], support=[36]\n",
            "precision=[1.], recall=[0.02631579], f-score=[0.05128205], support=[38]\n",
            "precision=[0.55555556], recall=[0.15625], f-score=[0.24390244], support=[32]\n",
            "The mean is 0.14758112151283823\n"
          ]
        },
        {
          "output_type": "display_data",
          "data": {
            "image/png": "[encoded data removed]",
            "text/plain": [
              "<Figure size 432x288 with 1 Axes>"
            ]
          },
          "metadata": {
            "needs_background": "light"
          }
        }
      ]
    },
    {
      "cell_type": "markdown",
      "source": [
        "Removing fbs_s, restecg_s and exang_s helped our model improve over the two before it, cp_s proved quite predictive as our model has a reduced f-score over the initial model. (.14 drop)"
      ],
      "metadata": {
        "id": "tklsKOZZHnjZ"
      }
    },
    {
      "cell_type": "markdown",
      "source": [
        "**Variable optimization: Try 5 (removing chol_sd)**"
      ],
      "metadata": {
        "id": "trKfMox1ogQs"
      }
    },
    {
      "cell_type": "code",
      "source": [
        "df[['cp', 'age', 'trestbps', 'chol']].values\n",
        "\n",
        "# standardize the data\n",
        "df['cp_s'] = (df.cp-df.cp.mean())/df.cp.std()\n",
        "\n",
        "\n",
        "kvals = range(2, 100, 2)\n",
        "attrbs = ['age_s', 'trestbps_s', 'cp_s']\n",
        "y_attrb = ['disease']\n",
        "scores = [get_scores(k, attrbs, y_attrb, df) for k in kvals]\n",
        "# print(scores)\n",
        "\n",
        "scores = [(p[0], r[0], f[0], s[0]) for (p,r,f,s) in scores]\n",
        "scores = list(zip(*scores))\n",
        "\n",
        "plt.plot(kvals, scores[2])\n",
        "\n",
        "best_score = 0\n",
        "i = 2\n",
        "k = 0\n",
        "\n",
        "for score in scores[2]:\n",
        "  if score > best_score:\n",
        "    best_score = score\n",
        "    k = i\n",
        "  i += 2\n",
        "\n",
        "  #Displaying the best score and the k-value\n",
        "print(f'Score :{best_score}, k: {k}')\n",
        "\n",
        "scorelist4 = list()\n",
        "fscores4 = []\n",
        "X = df[['age_s', 'trestbps_s','cp_s']].values\n",
        "y = df[['disease']].values\n",
        "for i in range(10):\n",
        "  (p,r,f,s) = monte_carlo_knn(X, y, k)\n",
        "  scorelist4.append((p,r,f,s))\n",
        "  fscores4.append(f[0]) #Is it the first one or the second f-score whose value we need to consider? \n",
        "\n",
        "print(f'The mean is {mean(fscores4)}')"
      ],
      "metadata": {
        "colab": {
          "base_uri": "https://localhost:8080/",
          "height": 482
        },
        "id": "0CxrcI4xoNfm",
        "outputId": "55f3cab9-42f2-437a-d0b1-169213d9155e"
      },
      "execution_count": null,
      "outputs": [
        {
          "output_type": "stream",
          "name": "stdout",
          "text": [
            "Score :0.7912087912087912, k: 32\n",
            "precision=[0.17857143], recall=[0.16666667], f-score=[0.17241379], support=[30]\n",
            "precision=[0.34615385], recall=[0.23684211], f-score=[0.28125], support=[38]\n",
            "precision=[0.42857143], recall=[0.26470588], f-score=[0.32727273], support=[34]\n",
            "precision=[0.23529412], recall=[0.12121212], f-score=[0.16], support=[33]\n",
            "precision=[0.30769231], recall=[0.11111111], f-score=[0.16326531], support=[36]\n",
            "precision=[0.5], recall=[0.48148148], f-score=[0.49056604], support=[27]\n",
            "precision=[0.11538462], recall=[0.11111111], f-score=[0.11320755], support=[27]\n",
            "precision=[0.34375], recall=[0.40740741], f-score=[0.37288136], support=[27]\n",
            "precision=[0.5], recall=[0.41176471], f-score=[0.4516129], support=[34]\n",
            "precision=[0.33333333], recall=[0.22222222], f-score=[0.26666667], support=[27]\n",
            "The mean is 0.2799136337228961\n"
          ]
        },
        {
          "output_type": "display_data",
          "data": {
            "image/png": "[encoded data removed]",
            "text/plain": [
              "<Figure size 432x288 with 1 Axes>"
            ]
          },
          "metadata": {
            "needs_background": "light"
          }
        }
      ]
    },
    {
      "cell_type": "markdown",
      "source": [
        "Removing chol_s has a similiar effect as to removing cp_s"
      ],
      "metadata": {
        "id": "31qEgmKgJVRn"
      }
    },
    {
      "cell_type": "markdown",
      "source": [
        "**Variable optimization: Try 6 (removing trestbps_s)**"
      ],
      "metadata": {
        "id": "hqo2XkPmJlu1"
      }
    },
    {
      "cell_type": "code",
      "source": [
        "\n",
        "# kvals = range(2, 100, 2)\n",
        "# attrbs = ['age_s', 'chol_s', 'cp_s']\n",
        "# y_attrb = ['disease']\n",
        "# scores = [get_scores(k, attrbs, y_attrb, df) for k in kvals]\n",
        "# # print(scores)\n",
        "\n",
        "# scores = [(p[0], r[0], f[0], s[0]) for (p,r,f,s) in scores]\n",
        "# scores = list(zip(*scores))\n",
        "\n",
        "# plt.plot(kvals, scores[2])\n",
        "\n",
        "# best_score = 0\n",
        "# i = 2\n",
        "# k = 0\n",
        "\n",
        "# for score in scores[2]:\n",
        "#   if score > best_score:\n",
        "#     best_score = score\n",
        "#     k = i\n",
        "#   i += 2\n",
        "\n",
        "#   #Displaying the best score and the k-value\n",
        "# # print(f'Score :{best_score}, k: {k}')\n",
        "\n",
        "# scorelist5 = list()\n",
        "# fscores5 = []\n",
        "# X = df[['age_s', 'chol_s','cp_s']].values\n",
        "# y = df[['disease']].values\n",
        "# for i in range(10):\n",
        "#   (p,r,f,s) = monte_carlo_knn(X, y, k)\n",
        "#   scorelist5.append((p,r,f,s))\n",
        "#   fscores5.append(f[0])\n",
        "\n",
        "# print(f'The mean is {mean(fscores5)}')"
      ],
      "metadata": {
        "id": "23ye_of_7faV"
      },
      "execution_count": null,
      "outputs": []
    },
    {
      "cell_type": "markdown",
      "source": [
        "Similiar effect as the previous two models"
      ],
      "metadata": {
        "id": "lKLlvWchKPmU"
      }
    },
    {
      "cell_type": "markdown",
      "source": [
        "**Variable optimization: Try 7 (removing age_s)**"
      ],
      "metadata": {
        "id": "yYjFVKZVKVzM"
      }
    },
    {
      "cell_type": "code",
      "source": [
        "\n",
        "kvals = range(2, 100, 2)\n",
        "attrbs = ['trestbps_s', 'chol_s', 'cp_s']\n",
        "y_attrb = ['disease']\n",
        "scores = [get_scores(k, attrbs, y_attrb, df) for k in kvals]\n",
        "# print(scores)\n",
        "\n",
        "scores = [(p[0], r[0], f[0], s[0]) for (p,r,f,s) in scores]\n",
        "scores = list(zip(*scores))\n",
        "\n",
        "plt.plot(kvals, scores[2])\n",
        "\n",
        "best_score = 0\n",
        "i = 2\n",
        "k = 0\n",
        "\n",
        "for score in scores[2]:\n",
        "  if score > best_score:\n",
        "    best_score = score\n",
        "    k = i\n",
        "  i += 2\n",
        "\n",
        "  #Displaying the best score and the k-value\n",
        "print(f'Score :{best_score}, k: {k}')\n",
        "\n",
        "scorelist6 = list()\n",
        "fscores6 = []\n",
        "X = df[['trestbps_s', 'chol_s','cp_s']].values\n",
        "y = df[['disease']].values\n",
        "for i in range(10):\n",
        "  (p,r,f,s) = monte_carlo_knn(X, y, k)\n",
        "  scorelist6.append((p,r,f,s))\n",
        "  fscores6.append(f[0]) #Is it the first one or the second f-score whose value we need to consider? \n",
        "\n",
        "print(f'The mean is {mean(fscores6)}')"
      ],
      "metadata": {
        "colab": {
          "base_uri": "https://localhost:8080/",
          "height": 483
        },
        "id": "vks0Io61KcOI",
        "outputId": "1376dd9d-180e-4dbc-92fa-24f991e3cdef"
      },
      "execution_count": null,
      "outputs": [
        {
          "output_type": "stream",
          "name": "stdout",
          "text": [
            "Score :0.8380952380952381, k: 42\n",
            "precision=[0.1875], recall=[0.09090909], f-score=[0.12244898], support=[33]\n",
            "precision=[0.60869565], recall=[0.37837838], f-score=[0.46666667], support=[37]\n",
            "precision=[0.51851852], recall=[0.36842105], f-score=[0.43076923], support=[38]\n",
            "precision=[0.6], recall=[0.3], f-score=[0.4], support=[30]\n",
            "precision=[0.23076923], recall=[0.09090909], f-score=[0.13043478], support=[33]\n",
            "precision=[0.], recall=[0.], f-score=[0.], support=[35]\n",
            "precision=[0.58333333], recall=[0.35897436], f-score=[0.44444444], support=[39]\n",
            "precision=[0.6], recall=[0.41666667], f-score=[0.49180328], support=[36]\n",
            "precision=[0.35294118], recall=[0.15384615], f-score=[0.21428571], support=[39]\n",
            "precision=[0.57142857], recall=[0.27906977], f-score=[0.375], support=[43]\n",
            "The mean is 0.30758530970551134\n"
          ]
        },
        {
          "output_type": "display_data",
          "data": {
            "image/png": "[encoded data removed]",
            "text/plain": [
              "<Figure size 432x288 with 1 Axes>"
            ]
          },
          "metadata": {
            "needs_background": "light"
          }
        }
      ]
    },
    {
      "cell_type": "markdown",
      "source": [
        "Same effect as the previous 3 models. Given that removing any variable harms our f-score, and trying to add 3 different variables lowered our f-score dramatically, our optimal attributes are the ones we started with."
      ],
      "metadata": {
        "id": "sCvNT1Y6K2Gf"
      }
    },
    {
      "cell_type": "markdown",
      "source": [
        "## Part 2: Breast Cancer Data"
      ],
      "metadata": {
        "id": "OA2UxSKEKNxH"
      }
    },
    {
      "cell_type": "code",
      "source": [
        "df2 = pd.read_csv('breast-cancer-wisconsin.data')\n",
        "df2.columns = ['id', 'clump_thickness', 'unif_cell_size', 'unif_cell_shape', 'marg_adhesion', 'single_epith_cell_size', 'bare_nuclei', 'bland_chrom', 'norm_nucleoli', 'mitoses','class']"
      ],
      "metadata": {
        "id": "Ba2CeNwK063b"
      },
      "execution_count": null,
      "outputs": []
    },
    {
      "cell_type": "code",
      "source": [
        "df2.drop(['id'],1, inplace=True)"
      ],
      "metadata": {
        "colab": {
          "base_uri": "https://localhost:8080/"
        },
        "id": "tae2Xx3J86nw",
        "outputId": "dee10443-824c-4225-ccaa-5707ddfbbf0d"
      },
      "execution_count": null,
      "outputs": [
        {
          "output_type": "stream",
          "name": "stderr",
          "text": [
            "/usr/local/lib/python3.7/dist-packages/ipykernel_launcher.py:1: FutureWarning: In a future version of pandas all arguments of DataFrame.drop except for the argument 'labels' will be keyword-only\n",
            "  \"\"\"Entry point for launching an IPython kernel.\n"
          ]
        }
      ]
    },
    {
      "cell_type": "code",
      "source": [
        "df2.replace('?', -99999, inplace= True)"
      ],
      "metadata": {
        "id": "DTA6pDEK9LRW"
      },
      "execution_count": null,
      "outputs": []
    },
    {
      "cell_type": "code",
      "source": [
        "df2.head()"
      ],
      "metadata": {
        "colab": {
          "base_uri": "https://localhost:8080/",
          "height": 206
        },
        "id": "ESydMcWbAd8B",
        "outputId": "6955e24d-a2f3-455e-e51a-eac57826c991"
      },
      "execution_count": null,
      "outputs": [
        {
          "output_type": "execute_result",
          "data": {
            "text/html": [
              "\n",
              "  <div id=\"df-c8145637-1226-4ab0-9ba1-1464fb4f7576\">\n",
              "    <div class=\"colab-df-container\">\n",
              "      <div>\n",
              "<style scoped>\n",
              "    .dataframe tbody tr th:only-of-type {\n",
              "        vertical-align: middle;\n",
              "    }\n",
              "\n",
              "    .dataframe tbody tr th {\n",
              "        vertical-align: top;\n",
              "    }\n",
              "\n",
              "    .dataframe thead th {\n",
              "        text-align: right;\n",
              "    }\n",
              "</style>\n",
              "<table border=\"1\" class=\"dataframe\">\n",
              "  <thead>\n",
              "    <tr style=\"text-align: right;\">\n",
              "      <th></th>\n",
              "      <th>clump_thickness</th>\n",
              "      <th>unif_cell_size</th>\n",
              "      <th>unif_cell_shape</th>\n",
              "      <th>marg_adhesion</th>\n",
              "      <th>single_epith_cell_size</th>\n",
              "      <th>bare_nuclei</th>\n",
              "      <th>bland_chrom</th>\n",
              "      <th>norm_nucleoli</th>\n",
              "      <th>mitoses</th>\n",
              "      <th>class</th>\n",
              "    </tr>\n",
              "  </thead>\n",
              "  <tbody>\n",
              "    <tr>\n",
              "      <th>0</th>\n",
              "      <td>5</td>\n",
              "      <td>4</td>\n",
              "      <td>4</td>\n",
              "      <td>5</td>\n",
              "      <td>7</td>\n",
              "      <td>10</td>\n",
              "      <td>3</td>\n",
              "      <td>2</td>\n",
              "      <td>1</td>\n",
              "      <td>2</td>\n",
              "    </tr>\n",
              "    <tr>\n",
              "      <th>1</th>\n",
              "      <td>3</td>\n",
              "      <td>1</td>\n",
              "      <td>1</td>\n",
              "      <td>1</td>\n",
              "      <td>2</td>\n",
              "      <td>2</td>\n",
              "      <td>3</td>\n",
              "      <td>1</td>\n",
              "      <td>1</td>\n",
              "      <td>2</td>\n",
              "    </tr>\n",
              "    <tr>\n",
              "      <th>2</th>\n",
              "      <td>6</td>\n",
              "      <td>8</td>\n",
              "      <td>8</td>\n",
              "      <td>1</td>\n",
              "      <td>3</td>\n",
              "      <td>4</td>\n",
              "      <td>3</td>\n",
              "      <td>7</td>\n",
              "      <td>1</td>\n",
              "      <td>2</td>\n",
              "    </tr>\n",
              "    <tr>\n",
              "      <th>3</th>\n",
              "      <td>4</td>\n",
              "      <td>1</td>\n",
              "      <td>1</td>\n",
              "      <td>3</td>\n",
              "      <td>2</td>\n",
              "      <td>1</td>\n",
              "      <td>3</td>\n",
              "      <td>1</td>\n",
              "      <td>1</td>\n",
              "      <td>2</td>\n",
              "    </tr>\n",
              "    <tr>\n",
              "      <th>4</th>\n",
              "      <td>8</td>\n",
              "      <td>10</td>\n",
              "      <td>10</td>\n",
              "      <td>8</td>\n",
              "      <td>7</td>\n",
              "      <td>10</td>\n",
              "      <td>9</td>\n",
              "      <td>7</td>\n",
              "      <td>1</td>\n",
              "      <td>4</td>\n",
              "    </tr>\n",
              "  </tbody>\n",
              "</table>\n",
              "</div>\n",
              "      <button class=\"colab-df-convert\" onclick=\"convertToInteractive('df-c8145637-1226-4ab0-9ba1-1464fb4f7576')\"\n",
              "              title=\"Convert this dataframe to an interactive table.\"\n",
              "              style=\"display:none;\">\n",
              "        \n",
              "  <svg xmlns=\"http://www.w3.org/2000/svg\" height=\"24px\"viewBox=\"0 0 24 24\"\n",
              "       width=\"24px\">\n",
              "    <path d=\"M0 0h24v24H0V0z\" fill=\"none\"/>\n",
              "    <path d=\"M18.56 5.44l.94 2.06.94-2.06 2.06-.94-2.06-.94-.94-2.06-.94 2.06-2.06.94zm-11 1L8.5 8.5l.94-2.06 2.06-.94-2.06-.94L8.5 2.5l-.94 2.06-2.06.94zm10 10l.94 2.06.94-2.06 2.06-.94-2.06-.94-.94-2.06-.94 2.06-2.06.94z\"/><path d=\"M17.41 7.96l-1.37-1.37c-.4-.4-.92-.59-1.43-.59-.52 0-1.04.2-1.43.59L10.3 9.45l-7.72 7.72c-.78.78-.78 2.05 0 2.83L4 21.41c.39.39.9.59 1.41.59.51 0 1.02-.2 1.41-.59l7.78-7.78 2.81-2.81c.8-.78.8-2.07 0-2.86zM5.41 20L4 18.59l7.72-7.72 1.47 1.35L5.41 20z\"/>\n",
              "  </svg>\n",
              "      </button>\n",
              "      \n",
              "  <style>\n",
              "    .colab-df-container {\n",
              "      display:flex;\n",
              "      flex-wrap:wrap;\n",
              "      gap: 12px;\n",
              "    }\n",
              "\n",
              "    .colab-df-convert {\n",
              "      background-color: #E8F0FE;\n",
              "      border: none;\n",
              "      border-radius: 50%;\n",
              "      cursor: pointer;\n",
              "      display: none;\n",
              "      fill: #1967D2;\n",
              "      height: 32px;\n",
              "      padding: 0 0 0 0;\n",
              "      width: 32px;\n",
              "    }\n",
              "\n",
              "    .colab-df-convert:hover {\n",
              "      background-color: #E2EBFA;\n",
              "      box-shadow: 0px 1px 2px rgba(60, 64, 67, 0.3), 0px 1px 3px 1px rgba(60, 64, 67, 0.15);\n",
              "      fill: #174EA6;\n",
              "    }\n",
              "\n",
              "    [theme=dark] .colab-df-convert {\n",
              "      background-color: #3B4455;\n",
              "      fill: #D2E3FC;\n",
              "    }\n",
              "\n",
              "    [theme=dark] .colab-df-convert:hover {\n",
              "      background-color: #434B5C;\n",
              "      box-shadow: 0px 1px 3px 1px rgba(0, 0, 0, 0.15);\n",
              "      filter: drop-shadow(0px 1px 2px rgba(0, 0, 0, 0.3));\n",
              "      fill: #FFFFFF;\n",
              "    }\n",
              "  </style>\n",
              "\n",
              "      <script>\n",
              "        const buttonEl =\n",
              "          document.querySelector('#df-c8145637-1226-4ab0-9ba1-1464fb4f7576 button.colab-df-convert');\n",
              "        buttonEl.style.display =\n",
              "          google.colab.kernel.accessAllowed ? 'block' : 'none';\n",
              "\n",
              "        async function convertToInteractive(key) {\n",
              "          const element = document.querySelector('#df-c8145637-1226-4ab0-9ba1-1464fb4f7576');\n",
              "          const dataTable =\n",
              "            await google.colab.kernel.invokeFunction('convertToInteractive',\n",
              "                                                     [key], {});\n",
              "          if (!dataTable) return;\n",
              "\n",
              "          const docLinkHtml = 'Like what you see? Visit the ' +\n",
              "            '<a target=\"_blank\" href=https://colab.research.google.com/notebooks/data_table.ipynb>data table notebook</a>'\n",
              "            + ' to learn more about interactive tables.';\n",
              "          element.innerHTML = '';\n",
              "          dataTable['output_type'] = 'display_data';\n",
              "          await google.colab.output.renderOutput(dataTable, element);\n",
              "          const docLink = document.createElement('div');\n",
              "          docLink.innerHTML = docLinkHtml;\n",
              "          element.appendChild(docLink);\n",
              "        }\n",
              "      </script>\n",
              "    </div>\n",
              "  </div>\n",
              "  "
            ],
            "text/plain": [
              "   clump_thickness  unif_cell_size  ...  mitoses  class\n",
              "0                5               4  ...        1      2\n",
              "1                3               1  ...        1      2\n",
              "2                6               8  ...        1      2\n",
              "3                4               1  ...        1      2\n",
              "4                8              10  ...        1      4\n",
              "\n",
              "[5 rows x 10 columns]"
            ]
          },
          "metadata": {},
          "execution_count": 163
        }
      ]
    },
    {
      "cell_type": "code",
      "source": [
        "# df2[['clump_thickness', 'unif_cell_size', 'unif_cell_shape', 'marg_adhesion', 'single_epith_cell_size', 'bare_nuclei', 'bland_chrom', 'norm_nucleoli', 'mitoses']].values\n",
        "\n",
        "# standardize the data\n",
        "df2['clump_thickness_s'] = (df2.clump_thickness-df2.clump_thickness.mean())/df2.clump_thickness.std()\n",
        "df2['unif_cell_size_s'] = (df2.unif_cell_size-df2.unif_cell_size.mean())/df2.unif_cell_size.std()\n",
        "df2['unif_cell_shape_s'] = (df2.unif_cell_shape-df2.unif_cell_shape.mean())/df2.unif_cell_shape.std()\n",
        "df2['marg_adhesion_s'] = (df2.marg_adhesion-df2.marg_adhesion.mean())/df2.marg_adhesion.std()\n",
        "df2['single_epith_cell_size_s'] = (df2.single_epith_cell_size-df2.single_epith_cell_size.mean())/df2.single_epith_cell_size.std()\n",
        "# df2['bare_nuclei_s'] = (df2.bare_nuclei-df2.bare_nuclei.mean())/df2.bare_nuclei.std()\n",
        "df2['bland_chrom_s'] = (df2.bland_chrom-df2.bland_chrom.mean())/df2.bland_chrom.std()\n",
        "df2['norm_nucleoli_s'] = (df2.norm_nucleoli-df2.norm_nucleoli.mean())/df2.norm_nucleoli.std()\n",
        "df2['mitoses_s'] = (df2.mitoses-df2.mitoses.mean())/df2.mitoses.std()\n",
        "\n"
      ],
      "metadata": {
        "id": "JvLHK1uLh8jJ"
      },
      "execution_count": null,
      "outputs": []
    },
    {
      "cell_type": "code",
      "source": [
        "def get_scores2(k, attrbs, y_attrb, df):\n",
        "  # Use knn on age. First create a nearest neighbors object.\n",
        "  nn = NearestNeighbors(n_neighbors=k, metric='euclidean', algorithm='auto')\n",
        "\n",
        "  # This builds an index data structure under the hood for query performance\n",
        "  X = df[attrbs].values\n",
        "  fit = nn.fit(X)\n",
        "\n",
        "  # Get random patients to test on\n",
        "  n = 100\n",
        "  patients = df.sample(n)\n",
        "  patientsX = patients[attrbs].values\n",
        "  patientsy = patients[y_attrb].values\n",
        "  # display(patients)\n",
        "\n",
        "  # Find the k nearest neighbors to the patient.\n",
        "  distances, indices = fit.kneighbors(patientsX)\n",
        "  # print('indices of k-nearest neighbors for each patient:')\n",
        "  # display(indices)\n",
        "\n",
        "  y_pred = []\n",
        "  for i in range(n):\n",
        "      # print('nearest neighbors to patient: {}:'.format(patientsX[i]))\n",
        "      nbrs = df.iloc[indices[i]]\n",
        "      # Drop the patient of interest\n",
        "      nbrs = nbrs.drop(patients.index[i], errors='ignore')\n",
        "      # display(nbrs)\n",
        "\n",
        "      healthy = nbrs[nbrs['class'] == 2].count()['class']\n",
        "      sick = nbrs[nbrs['class'] == 4].count()['class']\n",
        "      predict = 2 if (healthy > sick) else 4\n",
        "      # print(f'healthy: {healthy}, sick: {sick}, predicted: {predict}, actual: {patientsy[i][0]}')\n",
        "      y_pred.append(predict)\n",
        "\n",
        "  # This is where we would compile how many patients are predicted\n",
        "  # correctly. Remember:\n",
        "  #    precision = tp/(tp+fp)  (\"sloppiness\")\n",
        "  #    recall    = tp/(tp+fn)  (\"What percentage did we find?\")\n",
        "  #    f-score - a balance between precision and recall\n",
        "  #    support - number of positive labels\n",
        "  # print(y_pred)\n",
        "  return precision_recall_fscore_support(patientsy, y_pred, labels=[4], zero_division = 0)"
      ],
      "metadata": {
        "id": "94td0n_CB3J7"
      },
      "execution_count": null,
      "outputs": []
    },
    {
      "cell_type": "code",
      "source": [
        "len(patientsy)"
      ],
      "metadata": {
        "colab": {
          "base_uri": "https://localhost:8080/"
        },
        "id": "l6Ehtitn8OdJ",
        "outputId": "7cd90e28-d931-4409-db18-6ca5ff5e9633"
      },
      "execution_count": null,
      "outputs": [
        {
          "output_type": "execute_result",
          "data": {
            "text/plain": [
              "76"
            ]
          },
          "metadata": {},
          "execution_count": 166
        }
      ]
    },
    {
      "cell_type": "code",
      "source": [
        "X = np.array (df2.drop (['class'],1) )\n",
        "y = np.array(df2['class'])\n",
        "\n",
        "attrbs = ['clump_thickness_s', 'unif_cell_size_s', 'unif_cell_shape_s', 'marg_adhesion_s',\n",
        "       'single_epith_cell_size_s', 'bland_chrom_s', 'norm_nucleoli_s',\n",
        "       'mitoses_s']\n",
        "y_attrb2 = ['class']\n",
        "\n",
        "kvals = range(2, 100, 2)\n",
        "scores = [get_scores2(k, attrbs, y_attrb2, df2) for k in kvals]\n",
        "# print(scores)\n",
        "\n",
        "scores = [(p[0], r[0], f[0], s[0]) for (p,r,f,s) in scores]\n",
        "scores = list(zip(*scores))\n",
        "\n",
        "plt.plot(kvals, scores[2])"
      ],
      "metadata": {
        "colab": {
          "base_uri": "https://localhost:8080/",
          "height": 338
        },
        "id": "ZFp7RUWM9W99",
        "outputId": "a36745d6-b4c9-48dc-96b4-a3901c516a62"
      },
      "execution_count": null,
      "outputs": [
        {
          "output_type": "stream",
          "name": "stderr",
          "text": [
            "/usr/local/lib/python3.7/dist-packages/ipykernel_launcher.py:1: FutureWarning: In a future version of pandas all arguments of DataFrame.drop except for the argument 'labels' will be keyword-only\n",
            "  \"\"\"Entry point for launching an IPython kernel.\n"
          ]
        },
        {
          "output_type": "execute_result",
          "data": {
            "text/plain": [
              "[<matplotlib.lines.Line2D at 0x7f84cc9a5d50>]"
            ]
          },
          "metadata": {},
          "execution_count": 167
        },
        {
          "output_type": "display_data",
          "data": {
            "image/png": "[encoded data removed]",
            "text/plain": [
              "<Figure size 432x288 with 1 Axes>"
            ]
          },
          "metadata": {
            "needs_background": "light"
          }
        }
      ]
    },
    {
      "cell_type": "code",
      "source": [
        "df2.columns"
      ],
      "metadata": {
        "colab": {
          "base_uri": "https://localhost:8080/"
        },
        "id": "2KqkK0GB-I2Q",
        "outputId": "4d56d8c9-a1fd-44d7-fd76-b5c2f7d76d53"
      },
      "execution_count": null,
      "outputs": [
        {
          "output_type": "execute_result",
          "data": {
            "text/plain": [
              "Index(['clump_thickness', 'unif_cell_size', 'unif_cell_shape', 'marg_adhesion',\n",
              "       'single_epith_cell_size', 'bare_nuclei', 'bland_chrom', 'norm_nucleoli',\n",
              "       'mitoses', 'class', 'clump_thickness_s', 'unif_cell_size_s',\n",
              "       'unif_cell_shape_s', 'marg_adhesion_s', 'single_epith_cell_size_s',\n",
              "       'bland_chrom_s', 'norm_nucleoli_s', 'mitoses_s'],\n",
              "      dtype='object')"
            ]
          },
          "metadata": {},
          "execution_count": 168
        }
      ]
    },
    {
      "cell_type": "code",
      "source": [
        "df2['class'].unique()"
      ],
      "metadata": {
        "colab": {
          "base_uri": "https://localhost:8080/"
        },
        "id": "T11WIF62EO5t",
        "outputId": "36d2bdb3-55cb-471e-b2f2-b9b7f4a1825f"
      },
      "execution_count": null,
      "outputs": [
        {
          "output_type": "execute_result",
          "data": {
            "text/plain": [
              "array([2, 4])"
            ]
          },
          "metadata": {},
          "execution_count": 169
        }
      ]
    },
    {
      "cell_type": "code",
      "source": [
        "df2.hist(figsize=(10,10))\n",
        "plt.show()"
      ],
      "metadata": {
        "colab": {
          "base_uri": "https://localhost:8080/",
          "height": 607
        },
        "id": "h8nfENpkZCw3",
        "outputId": "29656ab0-b04f-443e-f164-3b7978557c16"
      },
      "execution_count": null,
      "outputs": [
        {
          "output_type": "display_data",
          "data": {
            "image/png": "[encoded data removed]",
            "text/plain": [
              "<Figure size 720x720 with 20 Axes>"
            ]
          },
          "metadata": {
            "needs_background": "light"
          }
        }
      ]
    },
    {
      "cell_type": "code",
      "source": [
        "# Use random_state if you want the same values each time you run for debugging,\n",
        "# but you should select the split randomly when you're ready to actually train\n",
        "# and test on the data.\n",
        "def monte_carlo_knn_heart(X, y, k):\n",
        "  nn = NearestNeighbors(n_neighbors=k, metric='euclidean', algorithm='auto')\n",
        "  X_train, X_test, y_train, y_test = train_test_split(X, y, test_size=0.25)#, random_state=42)\n",
        "\n",
        "  fit = nn.fit(X_train)\n",
        "\n",
        "  patientsX = X_test\n",
        "  patientsy = y_test\n",
        "  # display(patients)\n",
        "  # Find the k nearest neighbors\n",
        "  distances, indices = fit.kneighbors(patientsX)\n",
        "  #print(f'indices {indices}')\n",
        "  #print(len(indices))\n",
        "  #print(range(len(patientsX)))\n",
        "  # Iterate over the patients\n",
        "  y_pred = []\n",
        "  for i in range(len(patientsX)):\n",
        "    nbrs = df2.iloc[indices[i]]\n",
        "\n",
        "    # display(nbrs)\n",
        "\n",
        "    healthy = len(nbrs[nbrs['class']==2])\n",
        "    sick = len(nbrs[nbrs['class']==4])\n",
        "    # print(f'healthy: {healthy}, sick: {sick}')\n",
        "    predict = 2 if healthy > sick else 4\n",
        "    y_pred.append(predict)\n",
        "    # actual = patienty\n",
        "    # success = predict == actual\n",
        "    # success\n",
        "    # display(success)\n",
        "\n",
        "  # print(y_pred)\n",
        "  # print(patientsy)\n",
        "\n",
        "  # precision = tp/(tp+fp) (\"messiness\")\n",
        "  # recall = tp/(tp+fn)\n",
        "  # support - how many samples are positive\n",
        "  (p,r,f,s) = precision_recall_fscore_support(patientsy, y_pred, labels=[4])\n",
        "  print(f'precision={p}, recall={r}, f-score={f}, support={s}')\n",
        "  return (p,r,f,s) \n",
        "# Build the model with the training data and test with the test data\n",
        "\n",
        "# You may also want to use this function to compute the f score. The labels parameter indicates\n",
        "# that label 1 is \"positive\" in the sense of \"true positive\", \"false positive\" etc.\n",
        "# (p,r,f,s) = precision_recall_fscore_support(y_test, y_pred, labels=[1])"
      ],
      "metadata": {
        "id": "qiRjtBpFb6SC"
      },
      "execution_count": null,
      "outputs": []
    },
    {
      "cell_type": "code",
      "source": [
        "kvals = range(2, 100, 2)\n",
        "attrbs = ['clump_thickness_s', 'unif_cell_size_s', 'unif_cell_shape_s', 'marg_adhesion_s',\n",
        "       'single_epith_cell_size_s', 'bland_chrom_s', 'norm_nucleoli_s',\n",
        "       'mitoses_s']\n",
        "y_attrb = ['class']\n",
        "\n",
        "scores = [get_scores2(k, attrbs, y_attrb, df2) for k in kvals]\n",
        "# print(scores)\n",
        "\n",
        "scores = [(p[0], r[0], f[0], s[0]) for (p,r,f,s) in scores]\n",
        "scores = list(zip(*scores))\n",
        "\n",
        "plt.plot(kvals, scores[2])\n",
        "\n",
        "best_score = 0\n",
        "i = 2\n",
        "k = 0\n",
        "\n",
        "for score in scores[2]:\n",
        "  if score > best_score:\n",
        "    best_score = score\n",
        "    k = i\n",
        "  i += 2\n",
        "\n",
        "#   #Displaying the best score and the k-value\n",
        "# print(f'Score :{best_score}, k: {k}')\n",
        "\n",
        "heartscorelist1 = list()\n",
        "heartfscores1 = []\n",
        "X = df2[['clump_thickness_s', 'unif_cell_size_s', 'unif_cell_shape_s', 'marg_adhesion_s',\n",
        "       'single_epith_cell_size_s', 'bland_chrom_s', 'norm_nucleoli_s',\n",
        "       'mitoses_s']].values\n",
        "y = df2[['class']].values\n",
        "for i in range(10):\n",
        "  (p,r,f,s) = monte_carlo_knn_heart(X, y, k)\n",
        "  heartscorelist1.append((p,r,f,s))\n",
        "  heartfscores1.append(f[0]) \n",
        "\n",
        "print(f'The mean is {mean(heartfscores1)}')"
      ],
      "metadata": {
        "colab": {
          "base_uri": "https://localhost:8080/",
          "height": 461
        },
        "id": "BDXRUj7PYmDO",
        "outputId": "21fdf23e-adc6-40a3-e857-8226d3357158"
      },
      "execution_count": null,
      "outputs": [
        {
          "output_type": "stream",
          "name": "stdout",
          "text": [
            "precision=[0.20754717], recall=[0.19642857], f-score=[0.20183486], support=[56]\n",
            "precision=[0.53846154], recall=[0.328125], f-score=[0.40776699], support=[64]\n",
            "precision=[0.30882353], recall=[0.33870968], f-score=[0.32307692], support=[62]\n",
            "precision=[0.2], recall=[0.14814815], f-score=[0.17021277], support=[54]\n",
            "precision=[0.44117647], recall=[0.21428571], f-score=[0.28846154], support=[70]\n",
            "precision=[0.27272727], recall=[0.29032258], f-score=[0.28125], support=[62]\n",
            "precision=[0.23636364], recall=[0.26], f-score=[0.24761905], support=[50]\n",
            "precision=[0.2625], recall=[0.328125], f-score=[0.29166667], support=[64]\n",
            "precision=[0.26666667], recall=[0.25806452], f-score=[0.26229508], support=[62]\n",
            "precision=[0.54411765], recall=[0.60655738], f-score=[0.57364341], support=[61]\n",
            "The mean is 0.3047827287278132\n"
          ]
        },
        {
          "output_type": "display_data",
          "data": {
            "image/png": "[encoded data removed]",
            "text/plain": [
              "<Figure size 432x288 with 1 Axes>"
            ]
          },
          "metadata": {
            "needs_background": "light"
          }
        }
      ]
    },
    {
      "cell_type": "markdown",
      "source": [
        "### Variable selection"
      ],
      "metadata": {
        "id": "QxPh50lRf6Ly"
      }
    },
    {
      "cell_type": "code",
      "source": [
        "kvals = range(2, 100, 2)\n",
        "attrbs = ['clump_thickness_s', 'unif_cell_size_s', 'norm_nucleoli_s', 'mitoses_s']\n",
        "y_attrb = ['class']\n",
        "\n",
        "scores = [get_scores2(k, attrbs, y_attrb, df2) for k in kvals]\n",
        "# print(scores)\n",
        "\n",
        "scores = [(p[0], r[0], f[0], s[0]) for (p,r,f,s) in scores]\n",
        "scores = list(zip(*scores))\n",
        "\n",
        "plt.plot(kvals, scores[2])\n",
        "\n",
        "best_score = 0\n",
        "i = 2\n",
        "k = 0\n",
        "\n",
        "for score in scores[2]:\n",
        "  if score > best_score:\n",
        "    best_score = score\n",
        "    k = i\n",
        "  i += 2\n",
        "\n",
        "  #Displaying the best score and the k-value\n",
        "# print(f'Score :{best_score}, k: {k}')\n",
        "\n",
        "heartscorelist2 = list()\n",
        "heartfscores2 = []\n",
        "X = df2[['clump_thickness_s', 'unif_cell_size_s', 'norm_nucleoli_s', 'mitoses_s']].values\n",
        "y = df2[['class']].values\n",
        "for i in range(10):\n",
        "  (p,r,f,s) = monte_carlo_knn_heart(X, y, k)\n",
        "  heartscorelist2.append((p,r,f,s))\n",
        "  heartfscores2.append(f[0]) \n",
        "\n",
        "print(f'The mean is {mean(heartfscores2)}')"
      ],
      "metadata": {
        "colab": {
          "base_uri": "https://localhost:8080/",
          "height": 461
        },
        "id": "yp2_MfTGgcvd",
        "outputId": "ed972332-e6b6-421a-ad6d-1962275c5ed6"
      },
      "execution_count": null,
      "outputs": [
        {
          "output_type": "stream",
          "name": "stdout",
          "text": [
            "precision=[0.25714286], recall=[0.16363636], f-score=[0.2], support=[55]\n",
            "precision=[0.23809524], recall=[0.09615385], f-score=[0.1369863], support=[52]\n",
            "precision=[0.13513514], recall=[0.07246377], f-score=[0.09433962], support=[69]\n",
            "precision=[0.04761905], recall=[0.01694915], f-score=[0.025], support=[59]\n",
            "precision=[0.34615385], recall=[0.13432836], f-score=[0.19354839], support=[67]\n",
            "precision=[0.33333333], recall=[0.11290323], f-score=[0.1686747], support=[62]\n",
            "precision=[0.15625], recall=[0.078125], f-score=[0.10416667], support=[64]\n",
            "precision=[0.], recall=[0.], f-score=[0.], support=[71]\n",
            "precision=[0.125], recall=[0.08333333], f-score=[0.1], support=[60]\n",
            "precision=[0.25], recall=[0.06349206], f-score=[0.10126582], support=[63]\n",
            "The mean is 0.11239814993548042\n"
          ]
        },
        {
          "output_type": "display_data",
          "data": {
            "image/png": "[encoded data removed]",
            "text/plain": [
              "<Figure size 432x288 with 1 Axes>"
            ]
          },
          "metadata": {
            "needs_background": "light"
          }
        }
      ]
    },
    {
      "cell_type": "markdown",
      "source": [
        "Variable Selection(Attempt 3)"
      ],
      "metadata": {
        "id": "DggEPvujltok"
      }
    },
    {
      "cell_type": "code",
      "source": [
        "kvals = range(2, 100, 2)\n",
        "attrbs = ['clump_thickness_s', 'unif_cell_size_s', 'mitoses_s']\n",
        "y_attrb = ['class']\n",
        "\n",
        "scores = [get_scores2(k, attrbs, y_attrb, df2) for k in kvals]\n",
        "# print(scores)\n",
        "\n",
        "scores = [(p[0], r[0], f[0], s[0]) for (p,r,f,s) in scores]\n",
        "scores = list(zip(*scores))\n",
        "\n",
        "plt.plot(kvals, scores[2])\n",
        "\n",
        "best_score = 0\n",
        "i = 2\n",
        "k = 0\n",
        "\n",
        "for score in scores[2]:\n",
        "  if score > best_score:\n",
        "    best_score = score\n",
        "    k = i\n",
        "  i += 2\n",
        "\n",
        "#   #Displaying the best score and the k-value\n",
        "# print(f'Score :{best_score}, k: {k}')\n",
        "\n",
        "heartscorelist3 = list()\n",
        "heartfscores3 = []\n",
        "X = df2[['clump_thickness_s', 'unif_cell_size_s', 'mitoses_s']].values\n",
        "y = df2[['class']].values\n",
        "for i in range(10):\n",
        "  (p,r,f,s) = monte_carlo_knn_heart(X, y, k)\n",
        "  heartscorelist3.append((p,r,f,s))\n",
        "  heartfscores3.append(f[0]) \n",
        "\n",
        "print(f'The mean is {mean(heartfscores3)}')"
      ],
      "metadata": {
        "colab": {
          "base_uri": "https://localhost:8080/",
          "height": 465
        },
        "id": "mNuAdjgvgdUi",
        "outputId": "a1b1ca15-3dda-47ae-9612-ce52e0892826"
      },
      "execution_count": null,
      "outputs": [
        {
          "output_type": "stream",
          "name": "stdout",
          "text": [
            "precision=[0.22033898], recall=[0.1884058], f-score=[0.203125], support=[69]\n",
            "precision=[0.16176471], recall=[0.16666667], f-score=[0.1641791], support=[66]\n",
            "precision=[0.15625], recall=[0.24193548], f-score=[0.18987342], support=[62]\n",
            "precision=[0.18604651], recall=[0.14035088], f-score=[0.16], support=[57]\n",
            "precision=[0.21621622], recall=[0.13333333], f-score=[0.16494845], support=[60]\n",
            "precision=[0.30434783], recall=[0.12727273], f-score=[0.17948718], support=[55]\n",
            "precision=[0.52727273], recall=[0.42028986], f-score=[0.46774194], support=[69]\n",
            "precision=[0.1969697], recall=[0.23214286], f-score=[0.21311475], support=[56]\n",
            "precision=[0.69230769], recall=[0.14754098], f-score=[0.24324324], support=[61]\n",
            "precision=[0.3030303], recall=[0.32786885], f-score=[0.31496063], support=[61]\n",
            "The mean is 0.23006737180412926\n"
          ]
        },
        {
          "output_type": "display_data",
          "data": {
            "image/png": "[encoded data removed]",
            "text/plain": [
              "<Figure size 432x288 with 1 Axes>"
            ]
          },
          "metadata": {
            "needs_background": "light"
          }
        }
      ]
    },
    {
      "cell_type": "markdown",
      "source": [
        "F value dropped a lot, dropping 'norm_nucleoli_s' value was a mistake. "
      ],
      "metadata": {
        "id": "F_hYJBEjmOAI"
      }
    },
    {
      "cell_type": "markdown",
      "source": [
        "Variable Selection (Attempt 4):"
      ],
      "metadata": {
        "id": "9dyqBrqxmSBG"
      }
    },
    {
      "cell_type": "code",
      "source": [
        "# kvals = range(2, 100, 2)\n",
        "# attrbs = ['clump_thickness_s', 'unif_cell_size_s', 'unif_cell_shape_s', 'marg_adhesion_s', 'norm_nucleoli_s', 'mitoses_s']\n",
        "# y_attrb = ['class']\n",
        "\n",
        "# scores = [get_scores2(k, attrbs, y_attrb, df2) for k in kvals]\n",
        "# # print(scores)\n",
        "\n",
        "# scores = [(p[0], r[0], f[0], s[0]) for (p,r,f,s) in scores]\n",
        "# scores = list(zip(*scores))\n",
        "\n",
        "# plt.plot(kvals, scores[2])\n",
        "\n",
        "# best_score = 0\n",
        "# i = 2\n",
        "# k = 0\n",
        "\n",
        "# for score in scores[2]:\n",
        "#   if score > best_score:\n",
        "#     best_score = score\n",
        "#     k = i\n",
        "#   i += 2\n",
        "\n",
        "#   #Displaying the best score and the k-value\n",
        "# # print(f'Score :{best_score}, k: {k}')\n",
        "\n",
        "# heartscorelist4 = list()\n",
        "# heartfscores4 = []\n",
        "# X = df2[['clump_thickness_s', 'unif_cell_size_s', 'unif_cell_shape_s', 'marg_adhesion_s',\n",
        "#        'single_epith_cell_size_s', 'bland_chrom_s', 'norm_nucleoli_s',\n",
        "#        'mitoses_s']].values\n",
        "# y = df2[['class']].values\n",
        "# for i in range(10):\n",
        "#   (p,r,f,s) = monte_carlo_knn_heart(X, y, k)\n",
        "#   heartscorelist4.append((p,r,f,s))\n",
        "#   heartfscores4.append(f[0]) \n",
        "\n",
        "# print(f'The mean is {mean(heartfscores4)}')"
      ],
      "metadata": {
        "id": "3PYcuedSmVcw"
      },
      "execution_count": null,
      "outputs": []
    },
    {
      "cell_type": "markdown",
      "source": [
        "Apparently having a lot of variables doesn't do the trick. "
      ],
      "metadata": {
        "id": "Y4V3SKAzmxfh"
      }
    },
    {
      "cell_type": "markdown",
      "source": [
        "Variable Selection (Part 5)"
      ],
      "metadata": {
        "id": "n3pFUS4vnETi"
      }
    },
    {
      "cell_type": "code",
      "source": [
        "kvals = range(2, 100, 2)\n",
        "attrbs = ['clump_thickness_s', 'unif_cell_size_s', 'norm_nucleoli_s', 'mitoses_s', 'single_epith_cell_size_s']\n",
        "y_attrb = ['class']\n",
        "\n",
        "scores = [get_scores2(k, attrbs, y_attrb, df2) for k in kvals]\n",
        "# print(scores)\n",
        "\n",
        "scores = [(p[0], r[0], f[0], s[0]) for (p,r,f,s) in scores]\n",
        "scores = list(zip(*scores))\n",
        "\n",
        "plt.plot(kvals, scores[2])\n",
        "\n",
        "best_score = 0\n",
        "i = 2\n",
        "k = 0\n",
        "\n",
        "for score in scores[2]:\n",
        "  if score > best_score:\n",
        "    best_score = score\n",
        "    k = i\n",
        "  i += 2\n",
        "\n",
        "  #Displaying the best score and the k-value\n",
        "# print(f'Score :{best_score}, k: {k}')\n",
        "\n",
        "heartscorelist5 = list()\n",
        "heartfscores5 = []\n",
        "X = df2[['clump_thickness_s', 'unif_cell_size_s', 'norm_nucleoli_s', 'mitoses_s', 'single_epith_cell_size_s']].values\n",
        "y = df2[['class']].values\n",
        "for i in range(10):\n",
        "  (p,r,f,s) = monte_carlo_knn_heart(X, y, k)\n",
        "  heartscorelist5.append((p,r,f,s))\n",
        "  heartfscores5.append(f[0]) \n",
        "\n",
        "print(f'The mean is {mean(heartfscores5)}')"
      ],
      "metadata": {
        "colab": {
          "base_uri": "https://localhost:8080/",
          "height": 461
        },
        "id": "4fN-sgvWm1Do",
        "outputId": "cd3042d3-0a81-4339-f04f-2a8ebe57ce6a"
      },
      "execution_count": null,
      "outputs": [
        {
          "output_type": "stream",
          "name": "stdout",
          "text": [
            "precision=[0.77777778], recall=[0.1147541], f-score=[0.2], support=[61]\n",
            "precision=[0.32258065], recall=[0.15873016], f-score=[0.21276596], support=[63]\n",
            "precision=[0.38461538], recall=[0.08064516], f-score=[0.13333333], support=[62]\n",
            "precision=[0.52173913], recall=[0.20338983], f-score=[0.29268293], support=[59]\n",
            "precision=[0.11363636], recall=[0.08474576], f-score=[0.09708738], support=[59]\n",
            "precision=[0.36170213], recall=[0.28813559], f-score=[0.32075472], support=[59]\n",
            "precision=[0.28571429], recall=[0.12121212], f-score=[0.17021277], support=[66]\n",
            "precision=[0.52941176], recall=[0.13846154], f-score=[0.2195122], support=[65]\n",
            "precision=[0.22222222], recall=[0.11320755], f-score=[0.15], support=[53]\n",
            "precision=[0.44285714], recall=[0.51666667], f-score=[0.47692308], support=[60]\n",
            "The mean is 0.22732723512337938\n"
          ]
        },
        {
          "output_type": "display_data",
          "data": {
            "image/png": "[encoded data removed]",
            "text/plain": [
              "<Figure size 432x288 with 1 Axes>"
            ]
          },
          "metadata": {
            "needs_background": "light"
          }
        }
      ]
    },
    {
      "cell_type": "markdown",
      "source": [
        "**Variable Selection Part 6 (The highest score!)**"
      ],
      "metadata": {
        "id": "H9rosc-hnh5u"
      }
    },
    {
      "cell_type": "code",
      "source": [
        "kvals = range(2, 100, 2)\n",
        "attrbs = ['unif_cell_size_s', 'norm_nucleoli_s']\n",
        "y_attrb = ['class']\n",
        "\n",
        "scores = [get_scores2(k, attrbs, y_attrb, df2) for k in kvals]\n",
        "# print(scores)\n",
        "\n",
        "scores = [(p[0], r[0], f[0], s[0]) for (p,r,f,s) in scores]\n",
        "scores = list(zip(*scores))\n",
        "\n",
        "plt.plot(kvals, scores[2])\n",
        "\n",
        "best_score = 0\n",
        "i = 2\n",
        "k = 0\n",
        "\n",
        "for score in scores[2]:\n",
        "  if score > best_score:\n",
        "    best_score = score\n",
        "    k = i\n",
        "  i += 2\n",
        "\n",
        "  #Displaying the best score and the k-value\n",
        "# print(f'Score :{best_score}, k: {k}')\n",
        "\n",
        "heartscorelist6 = list()\n",
        "heartfscores6 = []\n",
        "X = df2[['unif_cell_size_s', 'norm_nucleoli_s']].values\n",
        "y = df2[['class']].values\n",
        "for i in range(10):\n",
        "  (p,r,f,s) = monte_carlo_knn_heart(X, y, k)\n",
        "  heartscorelist6.append((p,r,f,s))\n",
        "  heartfscores6.append(f[0]) \n",
        "\n",
        "print(f'The mean is {mean(heartfscores6)}')"
      ],
      "metadata": {
        "colab": {
          "base_uri": "https://localhost:8080/",
          "height": 464
        },
        "id": "f7NHyCcBnkKE",
        "outputId": "aec568da-008a-4c5d-ddee-7f748f4e2a18"
      },
      "execution_count": null,
      "outputs": [
        {
          "output_type": "stream",
          "name": "stdout",
          "text": [
            "precision=[0.95833333], recall=[0.38983051], f-score=[0.55421687], support=[59]\n",
            "precision=[0.9047619], recall=[0.33928571], f-score=[0.49350649], support=[56]\n",
            "precision=[0.76470588], recall=[0.39393939], f-score=[0.52], support=[66]\n",
            "precision=[0.25], recall=[0.11666667], f-score=[0.15909091], support=[60]\n",
            "precision=[0.10377358], recall=[0.2], f-score=[0.13664596], support=[55]\n",
            "precision=[0.375], recall=[0.09375], f-score=[0.15], support=[64]\n",
            "precision=[0.96428571], recall=[0.45], f-score=[0.61363636], support=[60]\n",
            "precision=[0.83333333], recall=[0.30769231], f-score=[0.4494382], support=[65]\n",
            "precision=[0.81818182], recall=[0.27272727], f-score=[0.40909091], support=[66]\n",
            "precision=[0.10309278], recall=[0.16129032], f-score=[0.12578616], support=[62]\n",
            "The mean is 0.3611411871296678\n"
          ]
        },
        {
          "output_type": "display_data",
          "data": {
            "image/png": "[encoded data removed]",
            "text/plain": [
              "<Figure size 432x288 with 1 Axes>"
            ]
          },
          "metadata": {
            "needs_background": "light"
          }
        }
      ]
    },
    {
      "cell_type": "markdown",
      "source": [
        "Variable Selection Part 7"
      ],
      "metadata": {
        "id": "HiyHAPFroQ6G"
      }
    },
    {
      "cell_type": "code",
      "source": [
        "# kvals = range(2, 100, 2)\n",
        "# attrbs = ['norm_nucleoli_s']\n",
        "# y_attrb = ['class']\n",
        "\n",
        "# scores = [get_scores2(k, attrbs, y_attrb, df2) for k in kvals]\n",
        "# # print(scores)\n",
        "\n",
        "# scores = [(p[0], r[0], f[0], s[0]) for (p,r,f,s) in scores]\n",
        "# scores = list(zip(*scores))\n",
        "\n",
        "# plt.plot(kvals, scores[2])\n",
        "\n",
        "# best_score = 0\n",
        "# i = 2\n",
        "# k = 0\n",
        "\n",
        "# for score in scores[2]:\n",
        "#   if score > best_score:\n",
        "#     best_score = score\n",
        "#     k = i\n",
        "#   i += 2\n",
        "\n",
        "#   #Displaying the best score and the k-value\n",
        "# # print(f'Score :{best_score}, k: {k}')\n",
        "\n",
        "# heartscorelist7 = list()\n",
        "# heartfscores7 = []\n",
        "# X = df2[['norm_nucleoli_s']].values\n",
        "# y = df2[['class']].values\n",
        "# for i in range(10):\n",
        "#   (p,r,f,s) = monte_carlo_knn_heart(X, y, k)\n",
        "#   heartscorelist7.append((p,r,f,s))\n",
        "#   heartfscores7.append(f[0]) \n",
        "\n",
        "# print(f'The mean is {mean(heartfscores7)}')"
      ],
      "metadata": {
        "id": "GkeiL61PnhEc"
      },
      "execution_count": null,
      "outputs": []
    },
    {
      "cell_type": "markdown",
      "source": [
        "Variable Selection Part 8"
      ],
      "metadata": {
        "id": "nY-C4N-DommU"
      }
    },
    {
      "cell_type": "code",
      "source": [
        "kvals = range(2, 100, 2)\n",
        "attrbs = ['unif_cell_size_s']\n",
        "y_attrb = ['class']\n",
        "\n",
        "scores = [get_scores2(k, attrbs, y_attrb, df2) for k in kvals]\n",
        "# print(scores)\n",
        "\n",
        "scores = [(p[0], r[0], f[0], s[0]) for (p,r,f,s) in scores]\n",
        "scores = list(zip(*scores))\n",
        "\n",
        "plt.plot(kvals, scores[2])\n",
        "\n",
        "best_score = 0\n",
        "i = 2\n",
        "k = 0\n",
        "\n",
        "for score in scores[2]:\n",
        "  if score > best_score:\n",
        "    best_score = score\n",
        "    k = i\n",
        "  i += 2\n",
        "\n",
        "  #Displaying the best score and the k-value\n",
        "# print(f'Score :{best_score}, k: {k}')\n",
        "\n",
        "heartscorelist8 = list()\n",
        "heartfscores8 = []\n",
        "X = df2[['unif_cell_size_s']].values\n",
        "y = df2[['class']].values\n",
        "for i in range(10):\n",
        "  (p,r,f,s) = monte_carlo_knn_heart(X, y, k)\n",
        "  heartscorelist8.append((p,r,f,s))\n",
        "  heartfscores8.append(f[0]) \n",
        "\n",
        "print(f'The mean is {mean(heartfscores8)}')"
      ],
      "metadata": {
        "colab": {
          "base_uri": "https://localhost:8080/",
          "height": 517
        },
        "id": "f3LBlJcDol3Y",
        "outputId": "48e34b1b-e85b-4ca2-c42e-3817597dc7a4"
      },
      "execution_count": null,
      "outputs": [
        {
          "output_type": "stream",
          "name": "stderr",
          "text": [
            "/usr/local/lib/python3.7/dist-packages/sklearn/metrics/_classification.py:1318: UndefinedMetricWarning: Precision and F-score are ill-defined and being set to 0.0 due to no predicted samples. Use `zero_division` parameter to control this behavior.\n",
            "  _warn_prf(average, modifier, msg_start, len(result))\n"
          ]
        },
        {
          "output_type": "stream",
          "name": "stdout",
          "text": [
            "precision=[0.], recall=[0.], f-score=[0.], support=[68]\n",
            "precision=[0.76923077], recall=[0.33898305], f-score=[0.47058824], support=[59]\n",
            "precision=[0.07142857], recall=[0.109375], f-score=[0.08641975], support=[64]\n",
            "precision=[0.09433962], recall=[0.17857143], f-score=[0.12345679], support=[56]\n",
            "precision=[0.52941176], recall=[0.13043478], f-score=[0.20930233], support=[69]\n",
            "precision=[0.375], recall=[0.10169492], f-score=[0.16], support=[59]\n",
            "precision=[0.15702479], recall=[0.33333333], f-score=[0.21348315], support=[57]\n",
            "precision=[0.21804511], recall=[0.46774194], f-score=[0.2974359], support=[62]\n",
            "precision=[0.06306306], recall=[0.125], f-score=[0.08383234], support=[56]\n",
            "precision=[0.52941176], recall=[0.13846154], f-score=[0.2195122], support=[65]\n",
            "The mean is 0.18640306780399954\n"
          ]
        },
        {
          "output_type": "display_data",
          "data": {
            "image/png": "[encoded data removed]",
            "text/plain": [
              "<Figure size 432x288 with 1 Axes>"
            ]
          },
          "metadata": {
            "needs_background": "light"
          }
        }
      ]
    },
    {
      "cell_type": "code",
      "source": [
        "df2"
      ],
      "metadata": {
        "colab": {
          "base_uri": "https://localhost:8080/",
          "height": 487
        },
        "id": "bEPrfOKAsA9w",
        "outputId": "0acb7a47-008a-436c-fc49-2ecc5ebeb5e3"
      },
      "execution_count": null,
      "outputs": [
        {
          "output_type": "execute_result",
          "data": {
            "text/html": [
              "\n",
              "  <div id=\"df-2c8c7ad6-40ea-4d6a-b7ba-d4329c9c64b2\">\n",
              "    <div class=\"colab-df-container\">\n",
              "      <div>\n",
              "<style scoped>\n",
              "    .dataframe tbody tr th:only-of-type {\n",
              "        vertical-align: middle;\n",
              "    }\n",
              "\n",
              "    .dataframe tbody tr th {\n",
              "        vertical-align: top;\n",
              "    }\n",
              "\n",
              "    .dataframe thead th {\n",
              "        text-align: right;\n",
              "    }\n",
              "</style>\n",
              "<table border=\"1\" class=\"dataframe\">\n",
              "  <thead>\n",
              "    <tr style=\"text-align: right;\">\n",
              "      <th></th>\n",
              "      <th>clump_thickness</th>\n",
              "      <th>unif_cell_size</th>\n",
              "      <th>unif_cell_shape</th>\n",
              "      <th>marg_adhesion</th>\n",
              "      <th>single_epith_cell_size</th>\n",
              "      <th>bare_nuclei</th>\n",
              "      <th>bland_chrom</th>\n",
              "      <th>norm_nucleoli</th>\n",
              "      <th>mitoses</th>\n",
              "      <th>class</th>\n",
              "      <th>clump_thickness_s</th>\n",
              "      <th>unif_cell_size_s</th>\n",
              "      <th>unif_cell_shape_s</th>\n",
              "      <th>marg_adhesion_s</th>\n",
              "      <th>single_epith_cell_size_s</th>\n",
              "      <th>bland_chrom_s</th>\n",
              "      <th>norm_nucleoli_s</th>\n",
              "      <th>mitoses_s</th>\n",
              "    </tr>\n",
              "  </thead>\n",
              "  <tbody>\n",
              "    <tr>\n",
              "      <th>0</th>\n",
              "      <td>5</td>\n",
              "      <td>4</td>\n",
              "      <td>4</td>\n",
              "      <td>5</td>\n",
              "      <td>7</td>\n",
              "      <td>10</td>\n",
              "      <td>3</td>\n",
              "      <td>2</td>\n",
              "      <td>1</td>\n",
              "      <td>2</td>\n",
              "      <td>0.206942</td>\n",
              "      <td>0.282537</td>\n",
              "      <td>0.265534</td>\n",
              "      <td>0.766835</td>\n",
              "      <td>1.707241</td>\n",
              "      <td>-0.179666</td>\n",
              "      <td>-0.284657</td>\n",
              "      <td>-0.343941</td>\n",
              "    </tr>\n",
              "    <tr>\n",
              "      <th>1</th>\n",
              "      <td>3</td>\n",
              "      <td>1</td>\n",
              "      <td>1</td>\n",
              "      <td>1</td>\n",
              "      <td>2</td>\n",
              "      <td>2</td>\n",
              "      <td>3</td>\n",
              "      <td>1</td>\n",
              "      <td>1</td>\n",
              "      <td>2</td>\n",
              "      <td>-0.502864</td>\n",
              "      <td>-0.700240</td>\n",
              "      <td>-0.743593</td>\n",
              "      <td>-0.633428</td>\n",
              "      <td>-0.549680</td>\n",
              "      <td>-0.179666</td>\n",
              "      <td>-0.611989</td>\n",
              "      <td>-0.343941</td>\n",
              "    </tr>\n",
              "    <tr>\n",
              "      <th>2</th>\n",
              "      <td>6</td>\n",
              "      <td>8</td>\n",
              "      <td>8</td>\n",
              "      <td>1</td>\n",
              "      <td>3</td>\n",
              "      <td>4</td>\n",
              "      <td>3</td>\n",
              "      <td>7</td>\n",
              "      <td>1</td>\n",
              "      <td>2</td>\n",
              "      <td>0.561845</td>\n",
              "      <td>1.592906</td>\n",
              "      <td>1.611037</td>\n",
              "      <td>-0.633428</td>\n",
              "      <td>-0.098296</td>\n",
              "      <td>-0.179666</td>\n",
              "      <td>1.352002</td>\n",
              "      <td>-0.343941</td>\n",
              "    </tr>\n",
              "    <tr>\n",
              "      <th>3</th>\n",
              "      <td>4</td>\n",
              "      <td>1</td>\n",
              "      <td>1</td>\n",
              "      <td>3</td>\n",
              "      <td>2</td>\n",
              "      <td>1</td>\n",
              "      <td>3</td>\n",
              "      <td>1</td>\n",
              "      <td>1</td>\n",
              "      <td>2</td>\n",
              "      <td>-0.147961</td>\n",
              "      <td>-0.700240</td>\n",
              "      <td>-0.743593</td>\n",
              "      <td>0.066703</td>\n",
              "      <td>-0.549680</td>\n",
              "      <td>-0.179666</td>\n",
              "      <td>-0.611989</td>\n",
              "      <td>-0.343941</td>\n",
              "    </tr>\n",
              "    <tr>\n",
              "      <th>4</th>\n",
              "      <td>8</td>\n",
              "      <td>10</td>\n",
              "      <td>10</td>\n",
              "      <td>8</td>\n",
              "      <td>7</td>\n",
              "      <td>10</td>\n",
              "      <td>9</td>\n",
              "      <td>7</td>\n",
              "      <td>1</td>\n",
              "      <td>4</td>\n",
              "      <td>1.271650</td>\n",
              "      <td>2.248090</td>\n",
              "      <td>2.283788</td>\n",
              "      <td>1.817032</td>\n",
              "      <td>1.707241</td>\n",
              "      <td>2.279293</td>\n",
              "      <td>1.352002</td>\n",
              "      <td>-0.343941</td>\n",
              "    </tr>\n",
              "    <tr>\n",
              "      <th>...</th>\n",
              "      <td>...</td>\n",
              "      <td>...</td>\n",
              "      <td>...</td>\n",
              "      <td>...</td>\n",
              "      <td>...</td>\n",
              "      <td>...</td>\n",
              "      <td>...</td>\n",
              "      <td>...</td>\n",
              "      <td>...</td>\n",
              "      <td>...</td>\n",
              "      <td>...</td>\n",
              "      <td>...</td>\n",
              "      <td>...</td>\n",
              "      <td>...</td>\n",
              "      <td>...</td>\n",
              "      <td>...</td>\n",
              "      <td>...</td>\n",
              "      <td>...</td>\n",
              "    </tr>\n",
              "    <tr>\n",
              "      <th>693</th>\n",
              "      <td>3</td>\n",
              "      <td>1</td>\n",
              "      <td>1</td>\n",
              "      <td>1</td>\n",
              "      <td>3</td>\n",
              "      <td>2</td>\n",
              "      <td>1</td>\n",
              "      <td>1</td>\n",
              "      <td>1</td>\n",
              "      <td>2</td>\n",
              "      <td>-0.502864</td>\n",
              "      <td>-0.700240</td>\n",
              "      <td>-0.743593</td>\n",
              "      <td>-0.633428</td>\n",
              "      <td>-0.098296</td>\n",
              "      <td>-0.999319</td>\n",
              "      <td>-0.611989</td>\n",
              "      <td>-0.343941</td>\n",
              "    </tr>\n",
              "    <tr>\n",
              "      <th>694</th>\n",
              "      <td>2</td>\n",
              "      <td>1</td>\n",
              "      <td>1</td>\n",
              "      <td>1</td>\n",
              "      <td>2</td>\n",
              "      <td>1</td>\n",
              "      <td>1</td>\n",
              "      <td>1</td>\n",
              "      <td>1</td>\n",
              "      <td>2</td>\n",
              "      <td>-0.857766</td>\n",
              "      <td>-0.700240</td>\n",
              "      <td>-0.743593</td>\n",
              "      <td>-0.633428</td>\n",
              "      <td>-0.549680</td>\n",
              "      <td>-0.999319</td>\n",
              "      <td>-0.611989</td>\n",
              "      <td>-0.343941</td>\n",
              "    </tr>\n",
              "    <tr>\n",
              "      <th>695</th>\n",
              "      <td>5</td>\n",
              "      <td>10</td>\n",
              "      <td>10</td>\n",
              "      <td>3</td>\n",
              "      <td>7</td>\n",
              "      <td>3</td>\n",
              "      <td>8</td>\n",
              "      <td>10</td>\n",
              "      <td>2</td>\n",
              "      <td>4</td>\n",
              "      <td>0.206942</td>\n",
              "      <td>2.248090</td>\n",
              "      <td>2.283788</td>\n",
              "      <td>0.066703</td>\n",
              "      <td>1.707241</td>\n",
              "      <td>1.869467</td>\n",
              "      <td>2.333998</td>\n",
              "      <td>0.238755</td>\n",
              "    </tr>\n",
              "    <tr>\n",
              "      <th>696</th>\n",
              "      <td>4</td>\n",
              "      <td>8</td>\n",
              "      <td>6</td>\n",
              "      <td>4</td>\n",
              "      <td>3</td>\n",
              "      <td>4</td>\n",
              "      <td>10</td>\n",
              "      <td>6</td>\n",
              "      <td>1</td>\n",
              "      <td>4</td>\n",
              "      <td>-0.147961</td>\n",
              "      <td>1.592906</td>\n",
              "      <td>0.938286</td>\n",
              "      <td>0.416769</td>\n",
              "      <td>-0.098296</td>\n",
              "      <td>2.689120</td>\n",
              "      <td>1.024670</td>\n",
              "      <td>-0.343941</td>\n",
              "    </tr>\n",
              "    <tr>\n",
              "      <th>697</th>\n",
              "      <td>4</td>\n",
              "      <td>8</td>\n",
              "      <td>8</td>\n",
              "      <td>5</td>\n",
              "      <td>4</td>\n",
              "      <td>5</td>\n",
              "      <td>10</td>\n",
              "      <td>4</td>\n",
              "      <td>1</td>\n",
              "      <td>4</td>\n",
              "      <td>-0.147961</td>\n",
              "      <td>1.592906</td>\n",
              "      <td>1.611037</td>\n",
              "      <td>0.766835</td>\n",
              "      <td>0.353088</td>\n",
              "      <td>2.689120</td>\n",
              "      <td>0.370007</td>\n",
              "      <td>-0.343941</td>\n",
              "    </tr>\n",
              "  </tbody>\n",
              "</table>\n",
              "<p>698 rows × 18 columns</p>\n",
              "</div>\n",
              "      <button class=\"colab-df-convert\" onclick=\"convertToInteractive('df-2c8c7ad6-40ea-4d6a-b7ba-d4329c9c64b2')\"\n",
              "              title=\"Convert this dataframe to an interactive table.\"\n",
              "              style=\"display:none;\">\n",
              "        \n",
              "  <svg xmlns=\"http://www.w3.org/2000/svg\" height=\"24px\"viewBox=\"0 0 24 24\"\n",
              "       width=\"24px\">\n",
              "    <path d=\"M0 0h24v24H0V0z\" fill=\"none\"/>\n",
              "    <path d=\"M18.56 5.44l.94 2.06.94-2.06 2.06-.94-2.06-.94-.94-2.06-.94 2.06-2.06.94zm-11 1L8.5 8.5l.94-2.06 2.06-.94-2.06-.94L8.5 2.5l-.94 2.06-2.06.94zm10 10l.94 2.06.94-2.06 2.06-.94-2.06-.94-.94-2.06-.94 2.06-2.06.94z\"/><path d=\"M17.41 7.96l-1.37-1.37c-.4-.4-.92-.59-1.43-.59-.52 0-1.04.2-1.43.59L10.3 9.45l-7.72 7.72c-.78.78-.78 2.05 0 2.83L4 21.41c.39.39.9.59 1.41.59.51 0 1.02-.2 1.41-.59l7.78-7.78 2.81-2.81c.8-.78.8-2.07 0-2.86zM5.41 20L4 18.59l7.72-7.72 1.47 1.35L5.41 20z\"/>\n",
              "  </svg>\n",
              "      </button>\n",
              "      \n",
              "  <style>\n",
              "    .colab-df-container {\n",
              "      display:flex;\n",
              "      flex-wrap:wrap;\n",
              "      gap: 12px;\n",
              "    }\n",
              "\n",
              "    .colab-df-convert {\n",
              "      background-color: #E8F0FE;\n",
              "      border: none;\n",
              "      border-radius: 50%;\n",
              "      cursor: pointer;\n",
              "      display: none;\n",
              "      fill: #1967D2;\n",
              "      height: 32px;\n",
              "      padding: 0 0 0 0;\n",
              "      width: 32px;\n",
              "    }\n",
              "\n",
              "    .colab-df-convert:hover {\n",
              "      background-color: #E2EBFA;\n",
              "      box-shadow: 0px 1px 2px rgba(60, 64, 67, 0.3), 0px 1px 3px 1px rgba(60, 64, 67, 0.15);\n",
              "      fill: #174EA6;\n",
              "    }\n",
              "\n",
              "    [theme=dark] .colab-df-convert {\n",
              "      background-color: #3B4455;\n",
              "      fill: #D2E3FC;\n",
              "    }\n",
              "\n",
              "    [theme=dark] .colab-df-convert:hover {\n",
              "      background-color: #434B5C;\n",
              "      box-shadow: 0px 1px 3px 1px rgba(0, 0, 0, 0.15);\n",
              "      filter: drop-shadow(0px 1px 2px rgba(0, 0, 0, 0.3));\n",
              "      fill: #FFFFFF;\n",
              "    }\n",
              "  </style>\n",
              "\n",
              "      <script>\n",
              "        const buttonEl =\n",
              "          document.querySelector('#df-2c8c7ad6-40ea-4d6a-b7ba-d4329c9c64b2 button.colab-df-convert');\n",
              "        buttonEl.style.display =\n",
              "          google.colab.kernel.accessAllowed ? 'block' : 'none';\n",
              "\n",
              "        async function convertToInteractive(key) {\n",
              "          const element = document.querySelector('#df-2c8c7ad6-40ea-4d6a-b7ba-d4329c9c64b2');\n",
              "          const dataTable =\n",
              "            await google.colab.kernel.invokeFunction('convertToInteractive',\n",
              "                                                     [key], {});\n",
              "          if (!dataTable) return;\n",
              "\n",
              "          const docLinkHtml = 'Like what you see? Visit the ' +\n",
              "            '<a target=\"_blank\" href=https://colab.research.google.com/notebooks/data_table.ipynb>data table notebook</a>'\n",
              "            + ' to learn more about interactive tables.';\n",
              "          element.innerHTML = '';\n",
              "          dataTable['output_type'] = 'display_data';\n",
              "          await google.colab.output.renderOutput(dataTable, element);\n",
              "          const docLink = document.createElement('div');\n",
              "          docLink.innerHTML = docLinkHtml;\n",
              "          element.appendChild(docLink);\n",
              "        }\n",
              "      </script>\n",
              "    </div>\n",
              "  </div>\n",
              "  "
            ],
            "text/plain": [
              "     clump_thickness  unif_cell_size  ...  norm_nucleoli_s  mitoses_s\n",
              "0                  5               4  ...        -0.284657  -0.343941\n",
              "1                  3               1  ...        -0.611989  -0.343941\n",
              "2                  6               8  ...         1.352002  -0.343941\n",
              "3                  4               1  ...        -0.611989  -0.343941\n",
              "4                  8              10  ...         1.352002  -0.343941\n",
              "..               ...             ...  ...              ...        ...\n",
              "693                3               1  ...        -0.611989  -0.343941\n",
              "694                2               1  ...        -0.611989  -0.343941\n",
              "695                5              10  ...         2.333998   0.238755\n",
              "696                4               8  ...         1.024670  -0.343941\n",
              "697                4               8  ...         0.370007  -0.343941\n",
              "\n",
              "[698 rows x 18 columns]"
            ]
          },
          "metadata": {},
          "execution_count": 180
        }
      ]
    }
  ]
}