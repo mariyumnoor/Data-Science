{
  "cells": [
    {
      "cell_type": "code",
      "execution_count": null,
      "metadata": {
        "id": "1TMawGVYwrxx"
      },
      "outputs": [],
      "source": [
        "import pandas as pd\n",
        "import numpy as np\n",
        "import random\n",
        "import matplotlib.pyplot as plt\n",
        "from scipy import stats\n",
        "import seaborn as sns\n",
        "\n",
        "from sklearn.neighbors import NearestNeighbors\n",
        "from sklearn.metrics import precision_recall_fscore_support\n",
        "from sklearn.model_selection import train_test_split"
      ]
    },
    {
      "cell_type": "code",
      "execution_count": null,
      "metadata": {
        "id": "B5zrzK5fwpbg"
      },
      "outputs": [],
      "source": [
        "# from google.colab import drive\n",
        "# drive.mount('/content/drive')"
      ]
    },
    {
      "cell_type": "code",
      "execution_count": null,
      "metadata": {
        "colab": {
          "base_uri": "https://localhost:8080/"
        },
        "id": "6JF8sRGqyhDR",
        "outputId": "24dcb03f-4b18-40f2-d90a-138f39ab8ecd"
      },
      "outputs": [
        {
          "output_type": "stream",
          "name": "stdout",
          "text": [
            "Mounted at /content/drive\n",
            "/content/drive/MyDrive/Project5\n"
          ]
        }
      ],
      "source": [
        "# #for Mariyum\n",
        "from google.colab import drive\n",
        "drive.mount('/content/drive')\n",
        "% cd \"/content/drive/MyDrive/Project5\""
      ]
    },
    {
      "cell_type": "code",
      "execution_count": null,
      "metadata": {
        "colab": {
          "base_uri": "https://localhost:8080/",
          "height": 423
        },
        "id": "glZRyVZN443F",
        "outputId": "e700f769-a3b6-4176-aafb-8acbd5c24087"
      },
      "outputs": [
        {
          "output_type": "execute_result",
          "data": {
            "text/plain": [
              "      Unnamed: 0 label                                               text  \\\n",
              "0            605   ham  Subject: enron methanol ; meter # : 988291\\r\\n...   \n",
              "1           2349   ham  Subject: hpl nom for january 9 , 2001\\r\\n( see...   \n",
              "2           3624   ham  Subject: neon retreat\\r\\nho ho ho , we ' re ar...   \n",
              "3           4685  spam  Subject: photoshop , windows , office . cheap ...   \n",
              "4           2030   ham  Subject: re : indian springs\\r\\nthis deal is t...   \n",
              "...          ...   ...                                                ...   \n",
              "5166        1518   ham  Subject: put the 10 on the ft\\r\\nthe transport...   \n",
              "5167         404   ham  Subject: 3 / 4 / 2000 and following noms\\r\\nhp...   \n",
              "5168        2933   ham  Subject: calpine daily gas nomination\\r\\n>\\r\\n...   \n",
              "5169        1409   ham  Subject: industrial worksheets for august 2000...   \n",
              "5170        4807  spam  Subject: important online banking alert\\r\\ndea...   \n",
              "\n",
              "      label_num  \n",
              "0             0  \n",
              "1             0  \n",
              "2             0  \n",
              "3             1  \n",
              "4             0  \n",
              "...         ...  \n",
              "5166          0  \n",
              "5167          0  \n",
              "5168          0  \n",
              "5169          0  \n",
              "5170          1  \n",
              "\n",
              "[5171 rows x 4 columns]"
            ],
            "text/html": [
              "\n",
              "  <div id=\"df-49df7b24-6c18-4826-b000-5aef5753ecb7\">\n",
              "    <div class=\"colab-df-container\">\n",
              "      <div>\n",
              "<style scoped>\n",
              "    .dataframe tbody tr th:only-of-type {\n",
              "        vertical-align: middle;\n",
              "    }\n",
              "\n",
              "    .dataframe tbody tr th {\n",
              "        vertical-align: top;\n",
              "    }\n",
              "\n",
              "    .dataframe thead th {\n",
              "        text-align: right;\n",
              "    }\n",
              "</style>\n",
              "<table border=\"1\" class=\"dataframe\">\n",
              "  <thead>\n",
              "    <tr style=\"text-align: right;\">\n",
              "      <th></th>\n",
              "      <th>Unnamed: 0</th>\n",
              "      <th>label</th>\n",
              "      <th>text</th>\n",
              "      <th>label_num</th>\n",
              "    </tr>\n",
              "  </thead>\n",
              "  <tbody>\n",
              "    <tr>\n",
              "      <th>0</th>\n",
              "      <td>605</td>\n",
              "      <td>ham</td>\n",
              "      <td>Subject: enron methanol ; meter # : 988291\\r\\n...</td>\n",
              "      <td>0</td>\n",
              "    </tr>\n",
              "    <tr>\n",
              "      <th>1</th>\n",
              "      <td>2349</td>\n",
              "      <td>ham</td>\n",
              "      <td>Subject: hpl nom for january 9 , 2001\\r\\n( see...</td>\n",
              "      <td>0</td>\n",
              "    </tr>\n",
              "    <tr>\n",
              "      <th>2</th>\n",
              "      <td>3624</td>\n",
              "      <td>ham</td>\n",
              "      <td>Subject: neon retreat\\r\\nho ho ho , we ' re ar...</td>\n",
              "      <td>0</td>\n",
              "    </tr>\n",
              "    <tr>\n",
              "      <th>3</th>\n",
              "      <td>4685</td>\n",
              "      <td>spam</td>\n",
              "      <td>Subject: photoshop , windows , office . cheap ...</td>\n",
              "      <td>1</td>\n",
              "    </tr>\n",
              "    <tr>\n",
              "      <th>4</th>\n",
              "      <td>2030</td>\n",
              "      <td>ham</td>\n",
              "      <td>Subject: re : indian springs\\r\\nthis deal is t...</td>\n",
              "      <td>0</td>\n",
              "    </tr>\n",
              "    <tr>\n",
              "      <th>...</th>\n",
              "      <td>...</td>\n",
              "      <td>...</td>\n",
              "      <td>...</td>\n",
              "      <td>...</td>\n",
              "    </tr>\n",
              "    <tr>\n",
              "      <th>5166</th>\n",
              "      <td>1518</td>\n",
              "      <td>ham</td>\n",
              "      <td>Subject: put the 10 on the ft\\r\\nthe transport...</td>\n",
              "      <td>0</td>\n",
              "    </tr>\n",
              "    <tr>\n",
              "      <th>5167</th>\n",
              "      <td>404</td>\n",
              "      <td>ham</td>\n",
              "      <td>Subject: 3 / 4 / 2000 and following noms\\r\\nhp...</td>\n",
              "      <td>0</td>\n",
              "    </tr>\n",
              "    <tr>\n",
              "      <th>5168</th>\n",
              "      <td>2933</td>\n",
              "      <td>ham</td>\n",
              "      <td>Subject: calpine daily gas nomination\\r\\n&gt;\\r\\n...</td>\n",
              "      <td>0</td>\n",
              "    </tr>\n",
              "    <tr>\n",
              "      <th>5169</th>\n",
              "      <td>1409</td>\n",
              "      <td>ham</td>\n",
              "      <td>Subject: industrial worksheets for august 2000...</td>\n",
              "      <td>0</td>\n",
              "    </tr>\n",
              "    <tr>\n",
              "      <th>5170</th>\n",
              "      <td>4807</td>\n",
              "      <td>spam</td>\n",
              "      <td>Subject: important online banking alert\\r\\ndea...</td>\n",
              "      <td>1</td>\n",
              "    </tr>\n",
              "  </tbody>\n",
              "</table>\n",
              "<p>5171 rows × 4 columns</p>\n",
              "</div>\n",
              "      <button class=\"colab-df-convert\" onclick=\"convertToInteractive('df-49df7b24-6c18-4826-b000-5aef5753ecb7')\"\n",
              "              title=\"Convert this dataframe to an interactive table.\"\n",
              "              style=\"display:none;\">\n",
              "        \n",
              "  <svg xmlns=\"http://www.w3.org/2000/svg\" height=\"24px\"viewBox=\"0 0 24 24\"\n",
              "       width=\"24px\">\n",
              "    <path d=\"M0 0h24v24H0V0z\" fill=\"none\"/>\n",
              "    <path d=\"M18.56 5.44l.94 2.06.94-2.06 2.06-.94-2.06-.94-.94-2.06-.94 2.06-2.06.94zm-11 1L8.5 8.5l.94-2.06 2.06-.94-2.06-.94L8.5 2.5l-.94 2.06-2.06.94zm10 10l.94 2.06.94-2.06 2.06-.94-2.06-.94-.94-2.06-.94 2.06-2.06.94z\"/><path d=\"M17.41 7.96l-1.37-1.37c-.4-.4-.92-.59-1.43-.59-.52 0-1.04.2-1.43.59L10.3 9.45l-7.72 7.72c-.78.78-.78 2.05 0 2.83L4 21.41c.39.39.9.59 1.41.59.51 0 1.02-.2 1.41-.59l7.78-7.78 2.81-2.81c.8-.78.8-2.07 0-2.86zM5.41 20L4 18.59l7.72-7.72 1.47 1.35L5.41 20z\"/>\n",
              "  </svg>\n",
              "      </button>\n",
              "      \n",
              "  <style>\n",
              "    .colab-df-container {\n",
              "      display:flex;\n",
              "      flex-wrap:wrap;\n",
              "      gap: 12px;\n",
              "    }\n",
              "\n",
              "    .colab-df-convert {\n",
              "      background-color: #E8F0FE;\n",
              "      border: none;\n",
              "      border-radius: 50%;\n",
              "      cursor: pointer;\n",
              "      display: none;\n",
              "      fill: #1967D2;\n",
              "      height: 32px;\n",
              "      padding: 0 0 0 0;\n",
              "      width: 32px;\n",
              "    }\n",
              "\n",
              "    .colab-df-convert:hover {\n",
              "      background-color: #E2EBFA;\n",
              "      box-shadow: 0px 1px 2px rgba(60, 64, 67, 0.3), 0px 1px 3px 1px rgba(60, 64, 67, 0.15);\n",
              "      fill: #174EA6;\n",
              "    }\n",
              "\n",
              "    [theme=dark] .colab-df-convert {\n",
              "      background-color: #3B4455;\n",
              "      fill: #D2E3FC;\n",
              "    }\n",
              "\n",
              "    [theme=dark] .colab-df-convert:hover {\n",
              "      background-color: #434B5C;\n",
              "      box-shadow: 0px 1px 3px 1px rgba(0, 0, 0, 0.15);\n",
              "      filter: drop-shadow(0px 1px 2px rgba(0, 0, 0, 0.3));\n",
              "      fill: #FFFFFF;\n",
              "    }\n",
              "  </style>\n",
              "\n",
              "      <script>\n",
              "        const buttonEl =\n",
              "          document.querySelector('#df-49df7b24-6c18-4826-b000-5aef5753ecb7 button.colab-df-convert');\n",
              "        buttonEl.style.display =\n",
              "          google.colab.kernel.accessAllowed ? 'block' : 'none';\n",
              "\n",
              "        async function convertToInteractive(key) {\n",
              "          const element = document.querySelector('#df-49df7b24-6c18-4826-b000-5aef5753ecb7');\n",
              "          const dataTable =\n",
              "            await google.colab.kernel.invokeFunction('convertToInteractive',\n",
              "                                                     [key], {});\n",
              "          if (!dataTable) return;\n",
              "\n",
              "          const docLinkHtml = 'Like what you see? Visit the ' +\n",
              "            '<a target=\"_blank\" href=https://colab.research.google.com/notebooks/data_table.ipynb>data table notebook</a>'\n",
              "            + ' to learn more about interactive tables.';\n",
              "          element.innerHTML = '';\n",
              "          dataTable['output_type'] = 'display_data';\n",
              "          await google.colab.output.renderOutput(dataTable, element);\n",
              "          const docLink = document.createElement('div');\n",
              "          docLink.innerHTML = docLinkHtml;\n",
              "          element.appendChild(docLink);\n",
              "        }\n",
              "      </script>\n",
              "    </div>\n",
              "  </div>\n",
              "  "
            ]
          },
          "metadata": {},
          "execution_count": 5
        }
      ],
      "source": [
        "import pandas as pd\n",
        "df_all = pd.read_csv('spam_ham_dataset.csv') #https://www.kaggle.com/venky73/spam-mails-dataset\n",
        "df_all"
      ]
    },
    {
      "cell_type": "code",
      "execution_count": null,
      "metadata": {
        "id": "CkqW44ft7TDY"
      },
      "outputs": [],
      "source": [
        "# df_all['label'].hist()"
      ]
    },
    {
      "cell_type": "code",
      "source": [
        "df_all['label'].value_counts()"
      ],
      "metadata": {
        "colab": {
          "base_uri": "https://localhost:8080/"
        },
        "id": "36sJ8cagp8Fz",
        "outputId": "67b97882-4b12-4f82-ba69-b2aabef95640"
      },
      "execution_count": null,
      "outputs": [
        {
          "output_type": "execute_result",
          "data": {
            "text/plain": [
              "ham     3672\n",
              "spam    1499\n",
              "Name: label, dtype: int64"
            ]
          },
          "metadata": {},
          "execution_count": 7
        }
      ]
    },
    {
      "cell_type": "code",
      "source": [
        "sns.countplot(df_all['label'])"
      ],
      "metadata": {
        "colab": {
          "base_uri": "https://localhost:8080/",
          "height": 352
        },
        "id": "c7LBZHntpkGh",
        "outputId": "f86ff1ff-9eee-4cf0-804d-6c43599f9285"
      },
      "execution_count": null,
      "outputs": [
        {
          "output_type": "stream",
          "name": "stderr",
          "text": [
            "/usr/local/lib/python3.7/dist-packages/seaborn/_decorators.py:43: FutureWarning: Pass the following variable as a keyword arg: x. From version 0.12, the only valid positional argument will be `data`, and passing other arguments without an explicit keyword will result in an error or misinterpretation.\n",
            "  FutureWarning\n"
          ]
        },
        {
          "output_type": "execute_result",
          "data": {
            "text/plain": [
              "<matplotlib.axes._subplots.AxesSubplot at 0x7fcc36aed7d0>"
            ]
          },
          "metadata": {},
          "execution_count": 8
        },
        {
          "output_type": "display_data",
          "data": {
            "text/plain": [
              "<Figure size 432x288 with 1 Axes>"
            ],
            "image/png": "[encoded data removed]"
          },
          "metadata": {
            "needs_background": "light"
          }
        }
      ]
    },
    {
      "cell_type": "code",
      "execution_count": null,
      "metadata": {
        "colab": {
          "base_uri": "https://localhost:8080/"
        },
        "id": "2nyQ5M16aQnp",
        "outputId": "1daf1d8d-2d14-408c-902c-d32ee3f6c8f1"
      },
      "outputs": [
        {
          "output_type": "stream",
          "name": "stdout",
          "text": [
            "The percentage of spam is:  28.98859021465867 %\n"
          ]
        }
      ],
      "source": [
        "# what percentage of the data is spam?\n",
        "print(\"The percentage of spam is: \",df_all['label'].value_counts()['spam']/len(df_all) *100, \"%\")"
      ]
    },
    {
      "cell_type": "markdown",
      "metadata": {
        "id": "oKOQ9XsKaQnp"
      },
      "source": [
        "## Clean up the text"
      ]
    },
    {
      "cell_type": "code",
      "execution_count": null,
      "metadata": {
        "colab": {
          "base_uri": "https://localhost:8080/"
        },
        "id": "-bKUWMZ7aQnq",
        "outputId": "df8e2d28-8ac3-4009-cfbc-852e7712efd4"
      },
      "outputs": [
        {
          "output_type": "stream",
          "name": "stderr",
          "text": [
            "/usr/local/lib/python3.7/dist-packages/ipykernel_launcher.py:10: FutureWarning: The default value of regex will change from True to False in a future version. In addition, single character regular expressions will *not* be treated as literal strings when regex=True.\n",
            "  # Remove the CWD from sys.path while we load stuff.\n",
            "/usr/local/lib/python3.7/dist-packages/ipykernel_launcher.py:16: FutureWarning: The default value of regex will change from True to False in a future version. In addition, single character regular expressions will *not* be treated as literal strings when regex=True.\n",
            "  app.launch_new_instance()\n",
            "/usr/local/lib/python3.7/dist-packages/ipykernel_launcher.py:18: FutureWarning: The default value of regex will change from True to False in a future version. In addition, single character regular expressions will *not* be treated as literal strings when regex=True.\n",
            "/usr/local/lib/python3.7/dist-packages/ipykernel_launcher.py:38: FutureWarning: The default value of regex will change from True to False in a future version. In addition, single character regular expressions will *not* be treated as literal strings when regex=True.\n",
            "/usr/local/lib/python3.7/dist-packages/ipykernel_launcher.py:40: FutureWarning: The default value of regex will change from True to False in a future version. In addition, single character regular expressions will *not* be treated as literal strings when regex=True.\n",
            "/usr/local/lib/python3.7/dist-packages/ipykernel_launcher.py:42: FutureWarning: The default value of regex will change from True to False in a future version. In addition, single character regular expressions will *not* be treated as literal strings when regex=True.\n",
            "/usr/local/lib/python3.7/dist-packages/ipykernel_launcher.py:43: FutureWarning: The default value of regex will change from True to False in a future version. In addition, single character regular expressions will *not* be treated as literal strings when regex=True.\n",
            "/usr/local/lib/python3.7/dist-packages/ipykernel_launcher.py:44: FutureWarning: The default value of regex will change from True to False in a future version. In addition, single character regular expressions will *not* be treated as literal strings when regex=True.\n",
            "/usr/local/lib/python3.7/dist-packages/ipykernel_launcher.py:48: FutureWarning: The default value of regex will change from True to False in a future version. In addition, single character regular expressions will *not* be treated as literal strings when regex=True.\n",
            "/usr/local/lib/python3.7/dist-packages/ipykernel_launcher.py:49: FutureWarning: The default value of regex will change from True to False in a future version. In addition, single character regular expressions will *not* be treated as literal strings when regex=True.\n",
            "/usr/local/lib/python3.7/dist-packages/ipykernel_launcher.py:50: FutureWarning: The default value of regex will change from True to False in a future version. In addition, single character regular expressions will *not* be treated as literal strings when regex=True.\n",
            "/usr/local/lib/python3.7/dist-packages/ipykernel_launcher.py:51: FutureWarning: The default value of regex will change from True to False in a future version. In addition, single character regular expressions will *not* be treated as literal strings when regex=True.\n",
            "/usr/local/lib/python3.7/dist-packages/ipykernel_launcher.py:52: FutureWarning: The default value of regex will change from True to False in a future version. In addition, single character regular expressions will *not* be treated as literal strings when regex=True.\n",
            "/usr/local/lib/python3.7/dist-packages/ipykernel_launcher.py:53: FutureWarning: The default value of regex will change from True to False in a future version. In addition, single character regular expressions will *not* be treated as literal strings when regex=True.\n",
            "/usr/local/lib/python3.7/dist-packages/ipykernel_launcher.py:54: FutureWarning: The default value of regex will change from True to False in a future version. In addition, single character regular expressions will *not* be treated as literal strings when regex=True.\n",
            "/usr/local/lib/python3.7/dist-packages/ipykernel_launcher.py:62: FutureWarning: The default value of regex will change from True to False in a future version. In addition, single character regular expressions will *not* be treated as literal strings when regex=True.\n",
            "/usr/local/lib/python3.7/dist-packages/ipykernel_launcher.py:63: FutureWarning: The default value of regex will change from True to False in a future version. In addition, single character regular expressions will *not* be treated as literal strings when regex=True.\n"
          ]
        }
      ],
      "source": [
        "# remove \"Subject:\", \"\\n\", \"\\r\", \n",
        "df_all['text'] = df_all['text'].str.replace('Subject:', '')\n",
        "df_all['text'] = df_all['text'].str.replace('\\n', ' ')\n",
        "df_all['text'] = df_all['text'].str.replace('\\r', ' ')\n",
        "df_all['text'] = df_all['text'].str.replace('\\t', ' ')\n",
        "df_all['text'] = df_all['text'].str.replace(':', ' ')\n",
        "df_all['text'] = df_all['text'].str.replace(';', ' ')\n",
        "df_all['text'] = df_all['text'].str.replace('/', ' ')\n",
        "df_all['text'] = df_all['text'].str.replace('=', ' ')\n",
        "df_all['text'] = df_all['text'].str.replace('?', ' ')\n",
        "\n",
        "# remove all punctuation\n",
        "df_all['text'] = df_all['text'].str.replace('!', ' ')\n",
        "df_all['text'] = df_all['text'].str.replace('@', ' ')\n",
        "df_all['text'] = df_all['text'].str.replace('#', ' ')\n",
        "df_all['text'] = df_all['text'].str.replace('$', ' ')\n",
        "df_all['text'] = df_all['text'].str.replace('%', ' ')\n",
        "df_all['text'] = df_all['text'].str.replace('^', ' ')\n",
        "\n",
        "# remove all numbers\n",
        "df_all['text'] = df_all['text'].str.replace('1', ' ')\n",
        "df_all['text'] = df_all['text'].str.replace('2', ' ')\n",
        "df_all['text'] = df_all['text'].str.replace('3', ' ')\n",
        "df_all['text'] = df_all['text'].str.replace('4', ' ')\n",
        "df_all['text'] = df_all['text'].str.replace('5', ' ')\n",
        "df_all['text'] = df_all['text'].str.replace('6', ' ')\n",
        "df_all['text'] = df_all['text'].str.replace('7', ' ')\n",
        "df_all['text'] = df_all['text'].str.replace('8', ' ')\n",
        "df_all['text'] = df_all['text'].str.replace('9', ' ')\n",
        "df_all['text'] = df_all['text'].str.replace('0', ' ')\n",
        "\n",
        "# remove all special characters\n",
        "df_all['text'] = df_all['text'].str.replace('`', ' ')\n",
        "df_all['text'] = df_all['text'].str.replace('~', ' ')\n",
        "df_all['text'] = df_all['text'].str.replace('!', ' ')\n",
        "df_all['text'] = df_all['text'].str.replace('@', ' ')\n",
        "df_all['text'] = df_all['text'].str.replace('#', ' ')\n",
        "df_all['text'] = df_all['text'].str.replace('$', ' ')\n",
        "df_all['text'] = df_all['text'].str.replace('%', ' ')\n",
        "df_all['text'] = df_all['text'].str.replace('^', ' ')\n",
        "df_all['text'] = df_all['text'].str.replace('&', ' ')\n",
        "df_all['text'] = df_all['text'].str.replace('*', ' ')\n",
        "df_all['text'] = df_all['text'].str.replace('(', ' ')\n",
        "df_all['text'] = df_all['text'].str.replace(')', ' ')\n",
        "df_all['text'] = df_all['text'].str.replace('-', ' ')\n",
        "df_all['text'] = df_all['text'].str.replace('_', ' ')\n",
        "df_all['text'] = df_all['text'].str.replace('=', ' ')\n",
        "df_all['text'] = df_all['text'].str.replace('+', ' ')\n",
        "df_all['text'] = df_all['text'].str.replace('[', ' ')\n",
        "df_all['text'] = df_all['text'].str.replace(']', ' ')\n",
        "df_all['text'] = df_all['text'].str.replace('{', ' ')\n",
        "df_all['text'] = df_all['text'].str.replace('}', ' ')\n",
        "df_all['text'] = df_all['text'].str.replace('|', ' ')\n",
        "df_all['text'] = df_all['text'].str.replace('\\\\', ' ')\n",
        "df_all['text'] = df_all['text'].str.replace(';', ' ')\n",
        "df_all['text'] = df_all['text'].str.replace(':', ' ')\n",
        "df_all['text'] = df_all['text'].str.replace('\"', ' ')\n",
        "df_all['text'] = df_all['text'].str.replace('\\'', ' ')\n",
        "df_all['text'] = df_all['text'].str.replace('<', ' ')\n",
        "df_all['text'] = df_all['text'].str.replace('>', ' ')\n",
        "df_all['text'] = df_all['text'].str.replace('/', ' ')\n",
        "df_all['text'] = df_all['text'].str.replace('?', ' ')\n",
        "df_all['text'] = df_all['text'].str.replace('.', ' ')\n",
        "df_all['text'] = df_all['text'].str.replace(',', ' ' )\n",
        "df_all['text'] = df_all['text'].str.replace(';', ' ')"
      ]
    },
    {
      "cell_type": "code",
      "execution_count": null,
      "metadata": {
        "colab": {
          "base_uri": "https://localhost:8080/",
          "height": 71
        },
        "id": "b141dYAr-ovJ",
        "outputId": "f0b15a0a-edca-47f3-934b-072509632ead"
      },
      "outputs": [
        {
          "output_type": "execute_result",
          "data": {
            "text/plain": [
              "' enron methanol   meter             this is a follow up to the note i gave you on monday                preliminary  flow data provided by daren      please override pop   s daily volume   presently zero   to reflect daily  activity you can obtain from gas control    this change is needed asap for economics purposes  '"
            ],
            "application/vnd.google.colaboratory.intrinsic+json": {
              "type": "string"
            }
          },
          "metadata": {},
          "execution_count": 11
        }
      ],
      "source": [
        "spam_df = df_all.groupby('label').get_group('ham')\n",
        "spam_df['text'].head(1).item()"
      ]
    },
    {
      "cell_type": "code",
      "source": [
        "spam_df['text']"
      ],
      "metadata": {
        "colab": {
          "base_uri": "https://localhost:8080/"
        },
        "id": "wBWx8JLZfJPX",
        "outputId": "bf0a9a2b-232a-4e74-aa1a-083ae9853e58"
      },
      "execution_count": null,
      "outputs": [
        {
          "output_type": "execute_result",
          "data": {
            "text/plain": [
              "0        enron methanol   meter             this is a ...\n",
              "1        hpl nom for january             see attached ...\n",
              "2        neon retreat  ho ho ho   we   re around to th...\n",
              "4        re   indian springs  this deal is to book the...\n",
              "5        ehronline web address change  this message is...\n",
              "                              ...                        \n",
              "5165     fw   crosstex energy   driscoll ranch        ...\n",
              "5166     put the    on the ft  the transport volumes d...\n",
              "5167                  and following noms  hpl can   t ...\n",
              "5168     calpine daily gas nomination        julie   a...\n",
              "5169     industrial worksheets for august      activit...\n",
              "Name: text, Length: 3672, dtype: object"
            ]
          },
          "metadata": {},
          "execution_count": 12
        }
      ]
    },
    {
      "cell_type": "code",
      "execution_count": null,
      "metadata": {
        "id": "1zHu1T-27vQJ"
      },
      "outputs": [],
      "source": [
        "spam_df = df_all.groupby('label').get_group('spam')\n",
        "ham_df = df_all.groupby('label').get_group('ham')"
      ]
    },
    {
      "cell_type": "code",
      "execution_count": null,
      "metadata": {
        "id": "xKKclfoEaQns"
      },
      "outputs": [],
      "source": [
        "def count_words(df):\n",
        "    # get all lower case words\n",
        "    df['text'] = df['text'].str.lower()\n",
        "    word_count = {}\n",
        "    for row in df['text']:\n",
        "        for word in row.split():\n",
        "            if word not in word_count:\n",
        "                word_count[word] = 1\n",
        "            else:\n",
        "                word_count[word] += 1\n",
        "    return word_count"
      ]
    },
    {
      "cell_type": "code",
      "execution_count": null,
      "metadata": {
        "colab": {
          "base_uri": "https://localhost:8080/"
        },
        "id": "v0qXKwTLaQns",
        "outputId": "fe1f7f98-50e2-41d3-8287-d5c1171bab03"
      },
      "outputs": [
        {
          "output_type": "stream",
          "name": "stderr",
          "text": [
            "/usr/local/lib/python3.7/dist-packages/ipykernel_launcher.py:3: SettingWithCopyWarning: \n",
            "A value is trying to be set on a copy of a slice from a DataFrame.\n",
            "Try using .loc[row_indexer,col_indexer] = value instead\n",
            "\n",
            "See the caveats in the documentation: https://pandas.pydata.org/pandas-docs/stable/user_guide/indexing.html#returning-a-view-versus-a-copy\n",
            "  This is separate from the ipykernel package so we can avoid doing imports until\n"
          ]
        }
      ],
      "source": [
        "spam_wards = count_words(spam_df)\n",
        "ham_wards = count_words(ham_df)"
      ]
    },
    {
      "cell_type": "code",
      "execution_count": null,
      "metadata": {
        "id": "fnVpIdKSaQns"
      },
      "outputs": [],
      "source": [
        "# find common words\n",
        "common_words = set(ham_wards.keys()) & set(spam_wards.keys())\n",
        "common_words\n",
        "\n",
        "# remove common words from spam_wards\n",
        "spam_wards = {k:v for k, v in spam_wards.items() if k not in common_words}\n",
        "\n",
        "# get the top 10 words\n",
        "just_spam_words = sorted(spam_wards.items(), key=lambda x: x[1], reverse=True)"
      ]
    },
    {
      "cell_type": "code",
      "execution_count": null,
      "metadata": {
        "colab": {
          "base_uri": "https://localhost:8080/",
          "height": 606
        },
        "id": "4KXbzr-9aQns",
        "outputId": "46a53293-1fa3-45c7-99ad-2938a5ed5bb1"
      },
      "outputs": [
        {
          "output_type": "display_data",
          "data": {
            "text/plain": [
              "<Figure size 1440x720 with 1 Axes>"
            ],
            "image/png": "[encoded data removed]"
          },
          "metadata": {
            "needs_background": "light"
          }
        }
      ],
      "source": [
        "\n",
        "# plot a histogram of the top 100 words\n",
        "n =50\n",
        "plt.figure(figsize=(20,10))\n",
        "\n",
        "# horizonal bar plot\n",
        "plt.barh(range(len(just_spam_words[:n])), [i[1] for i in just_spam_words[:n]], align='center')\n",
        "plt.yticks(range(len(just_spam_words[:n])), [i[0] for i in just_spam_words[:n]])\n",
        "plt.xlabel('Count')\n",
        "\n",
        "plt.show()"
      ]
    },
    {
      "cell_type": "code",
      "execution_count": null,
      "metadata": {
        "id": "HpOZCX6NaQns"
      },
      "outputs": [],
      "source": [
        "# open words files and read them into a list # https://github.com/dwyl/english-words/blob/master/words.txt\n",
        "all_words = []\n",
        "with open('words.txt', 'r') as f:\n",
        "    for line in f:\n",
        "        all_words.append(line.strip())"
      ]
    },
    {
      "cell_type": "code",
      "execution_count": null,
      "metadata": {
        "id": "7KCawYPTaQnt"
      },
      "outputs": [],
      "source": [
        "# check if the words are in the dictionary\n",
        "\n",
        "just_real_spam_words = []\n",
        "for word in just_spam_words:\n",
        "    # print(word[0])\n",
        "    if word[0] in all_words:\n",
        "        just_real_spam_words.append(word)"
      ]
    },
    {
      "cell_type": "code",
      "execution_count": null,
      "metadata": {
        "id": "J04ssgPHaQnt",
        "colab": {
          "base_uri": "https://localhost:8080/",
          "height": 606
        },
        "outputId": "6af6754d-b63e-4a0d-e601-404545ac6c94"
      },
      "outputs": [
        {
          "output_type": "display_data",
          "data": {
            "text/plain": [
              "<Figure size 1440x720 with 1 Axes>"
            ],
            "image/png": "[encoded data removed]"
          },
          "metadata": {
            "needs_background": "light"
          }
        }
      ],
      "source": [
        "# plot a histogram of the top 100 words\n",
        "n =50\n",
        "plt.figure(figsize=(20,10))\n",
        "\n",
        "# horizonal bar plot\n",
        "plt.barh(range(len(just_real_spam_words[:n])), [i[1] for i in just_real_spam_words[:n]], align='center')\n",
        "plt.yticks(range(len(just_real_spam_words[:n])), [i[0] for i in just_real_spam_words[:n]])\n",
        "plt.xlabel('Count')\n",
        "\n",
        "plt.show()"
      ]
    },
    {
      "cell_type": "code",
      "execution_count": null,
      "metadata": {
        "id": "QpL7-rcPaQnt",
        "colab": {
          "base_uri": "https://localhost:8080/",
          "height": 206
        },
        "outputId": "c6a8f1da-07a3-49dc-e5a2-84e16fa0af0b"
      },
      "outputs": [
        {
          "output_type": "execute_result",
          "data": {
            "text/plain": [
              "   label                                               text\n",
              "0      0   enron methanol   meter             this is a ...\n",
              "1      0   hpl nom for january             see attached ...\n",
              "2      0   neon retreat  ho ho ho   we   re around to th...\n",
              "3      1   photoshop   windows   office   cheap   main t...\n",
              "4      0   re   indian springs  this deal is to book the..."
            ],
            "text/html": [
              "\n",
              "  <div id=\"df-3d340090-5698-4daf-8a62-7cd5ebeebab7\">\n",
              "    <div class=\"colab-df-container\">\n",
              "      <div>\n",
              "<style scoped>\n",
              "    .dataframe tbody tr th:only-of-type {\n",
              "        vertical-align: middle;\n",
              "    }\n",
              "\n",
              "    .dataframe tbody tr th {\n",
              "        vertical-align: top;\n",
              "    }\n",
              "\n",
              "    .dataframe thead th {\n",
              "        text-align: right;\n",
              "    }\n",
              "</style>\n",
              "<table border=\"1\" class=\"dataframe\">\n",
              "  <thead>\n",
              "    <tr style=\"text-align: right;\">\n",
              "      <th></th>\n",
              "      <th>label</th>\n",
              "      <th>text</th>\n",
              "    </tr>\n",
              "  </thead>\n",
              "  <tbody>\n",
              "    <tr>\n",
              "      <th>0</th>\n",
              "      <td>0</td>\n",
              "      <td>enron methanol   meter             this is a ...</td>\n",
              "    </tr>\n",
              "    <tr>\n",
              "      <th>1</th>\n",
              "      <td>0</td>\n",
              "      <td>hpl nom for january             see attached ...</td>\n",
              "    </tr>\n",
              "    <tr>\n",
              "      <th>2</th>\n",
              "      <td>0</td>\n",
              "      <td>neon retreat  ho ho ho   we   re around to th...</td>\n",
              "    </tr>\n",
              "    <tr>\n",
              "      <th>3</th>\n",
              "      <td>1</td>\n",
              "      <td>photoshop   windows   office   cheap   main t...</td>\n",
              "    </tr>\n",
              "    <tr>\n",
              "      <th>4</th>\n",
              "      <td>0</td>\n",
              "      <td>re   indian springs  this deal is to book the...</td>\n",
              "    </tr>\n",
              "  </tbody>\n",
              "</table>\n",
              "</div>\n",
              "      <button class=\"colab-df-convert\" onclick=\"convertToInteractive('df-3d340090-5698-4daf-8a62-7cd5ebeebab7')\"\n",
              "              title=\"Convert this dataframe to an interactive table.\"\n",
              "              style=\"display:none;\">\n",
              "        \n",
              "  <svg xmlns=\"http://www.w3.org/2000/svg\" height=\"24px\"viewBox=\"0 0 24 24\"\n",
              "       width=\"24px\">\n",
              "    <path d=\"M0 0h24v24H0V0z\" fill=\"none\"/>\n",
              "    <path d=\"M18.56 5.44l.94 2.06.94-2.06 2.06-.94-2.06-.94-.94-2.06-.94 2.06-2.06.94zm-11 1L8.5 8.5l.94-2.06 2.06-.94-2.06-.94L8.5 2.5l-.94 2.06-2.06.94zm10 10l.94 2.06.94-2.06 2.06-.94-2.06-.94-.94-2.06-.94 2.06-2.06.94z\"/><path d=\"M17.41 7.96l-1.37-1.37c-.4-.4-.92-.59-1.43-.59-.52 0-1.04.2-1.43.59L10.3 9.45l-7.72 7.72c-.78.78-.78 2.05 0 2.83L4 21.41c.39.39.9.59 1.41.59.51 0 1.02-.2 1.41-.59l7.78-7.78 2.81-2.81c.8-.78.8-2.07 0-2.86zM5.41 20L4 18.59l7.72-7.72 1.47 1.35L5.41 20z\"/>\n",
              "  </svg>\n",
              "      </button>\n",
              "      \n",
              "  <style>\n",
              "    .colab-df-container {\n",
              "      display:flex;\n",
              "      flex-wrap:wrap;\n",
              "      gap: 12px;\n",
              "    }\n",
              "\n",
              "    .colab-df-convert {\n",
              "      background-color: #E8F0FE;\n",
              "      border: none;\n",
              "      border-radius: 50%;\n",
              "      cursor: pointer;\n",
              "      display: none;\n",
              "      fill: #1967D2;\n",
              "      height: 32px;\n",
              "      padding: 0 0 0 0;\n",
              "      width: 32px;\n",
              "    }\n",
              "\n",
              "    .colab-df-convert:hover {\n",
              "      background-color: #E2EBFA;\n",
              "      box-shadow: 0px 1px 2px rgba(60, 64, 67, 0.3), 0px 1px 3px 1px rgba(60, 64, 67, 0.15);\n",
              "      fill: #174EA6;\n",
              "    }\n",
              "\n",
              "    [theme=dark] .colab-df-convert {\n",
              "      background-color: #3B4455;\n",
              "      fill: #D2E3FC;\n",
              "    }\n",
              "\n",
              "    [theme=dark] .colab-df-convert:hover {\n",
              "      background-color: #434B5C;\n",
              "      box-shadow: 0px 1px 3px 1px rgba(0, 0, 0, 0.15);\n",
              "      filter: drop-shadow(0px 1px 2px rgba(0, 0, 0, 0.3));\n",
              "      fill: #FFFFFF;\n",
              "    }\n",
              "  </style>\n",
              "\n",
              "      <script>\n",
              "        const buttonEl =\n",
              "          document.querySelector('#df-3d340090-5698-4daf-8a62-7cd5ebeebab7 button.colab-df-convert');\n",
              "        buttonEl.style.display =\n",
              "          google.colab.kernel.accessAllowed ? 'block' : 'none';\n",
              "\n",
              "        async function convertToInteractive(key) {\n",
              "          const element = document.querySelector('#df-3d340090-5698-4daf-8a62-7cd5ebeebab7');\n",
              "          const dataTable =\n",
              "            await google.colab.kernel.invokeFunction('convertToInteractive',\n",
              "                                                     [key], {});\n",
              "          if (!dataTable) return;\n",
              "\n",
              "          const docLinkHtml = 'Like what you see? Visit the ' +\n",
              "            '<a target=\"_blank\" href=https://colab.research.google.com/notebooks/data_table.ipynb>data table notebook</a>'\n",
              "            + ' to learn more about interactive tables.';\n",
              "          element.innerHTML = '';\n",
              "          dataTable['output_type'] = 'display_data';\n",
              "          await google.colab.output.renderOutput(dataTable, element);\n",
              "          const docLink = document.createElement('div');\n",
              "          docLink.innerHTML = docLinkHtml;\n",
              "          element.appendChild(docLink);\n",
              "        }\n",
              "      </script>\n",
              "    </div>\n",
              "  </div>\n",
              "  "
            ]
          },
          "metadata": {},
          "execution_count": 21
        }
      ],
      "source": [
        "# df_all convert label to 0 and 1\n",
        "clean_df_all = pd.DataFrame()\n",
        "clean_df_all['label'] = df_all['label'].map({'spam': 1, 'ham': 0})\n",
        "clean_df_all['text'] = df_all['text']\n",
        "\n",
        "clean_df_all.head()"
      ]
    },
    {
      "cell_type": "code",
      "execution_count": null,
      "metadata": {
        "id": "kobnU7tZaQnt",
        "colab": {
          "base_uri": "https://localhost:8080/"
        },
        "outputId": "0552c419-3697-4aff-9245-0996fc0b1216"
      },
      "outputs": [
        {
          "output_type": "execute_result",
          "data": {
            "text/plain": [
              "True"
            ]
          },
          "metadata": {},
          "execution_count": 22
        }
      ],
      "source": [
        "total_spam = clean_df_all.groupby('label').get_group(1)['label'].count()\n",
        "total_ham = clean_df_all.groupby('label').get_group(0)['label'].count()\n",
        "total_spam + total_ham == len(clean_df_all)"
      ]
    },
    {
      "cell_type": "code",
      "execution_count": null,
      "metadata": {
        "id": "zKtO3C5naQnt",
        "colab": {
          "base_uri": "https://localhost:8080/"
        },
        "outputId": "99d53a29-9fa6-445b-caa3-9faa8f520369"
      },
      "outputs": [
        {
          "output_type": "stream",
          "name": "stdout",
          "text": [
            "The Spam Accuracy is:  0.5517011340893929\n",
            "The Ham (aka.. not spam) Accuracy is:  0.8592047930283224\n",
            "The total Accuracy is:  0.7700638174434346\n"
          ]
        }
      ],
      "source": [
        "# if one of the top 10 just_real_spam_words is in the text, then it is spam\n",
        "# test the model\n",
        "n = 20\n",
        "spam_classified = 0\n",
        "ham_classified = 0\n",
        "for index, row in clean_df_all.iterrows():\n",
        "    for word in just_real_spam_words[:n]:\n",
        "        if word[0] in row['text']:\n",
        "            if row['label'] == 1:\n",
        "                spam_classified += 1\n",
        "            break\n",
        "    else:\n",
        "        if row['label'] == 0:\n",
        "            ham_classified += 1\n",
        "\n",
        "print('The Spam Accuracy is: ', spam_classified/total_spam)\n",
        "print('The Ham (aka.. not spam) Accuracy is: ', ham_classified/total_ham)\n",
        "print('The total Accuracy is: ', (spam_classified+ham_classified)/len(clean_df_all))"
      ]
    },
    {
      "cell_type": "markdown",
      "metadata": {
        "id": "W7QHLcJfaQnt"
      },
      "source": [
        "# Gaussian Naive Bayes Classifier"
      ]
    },
    {
      "cell_type": "code",
      "execution_count": null,
      "metadata": {
        "id": "6zzk_x8jaQnt"
      },
      "outputs": [],
      "source": [
        "from sklearn.model_selection import train_test_split\n",
        "from sklearn.naive_bayes import GaussianNB\n",
        "from sklearn.feature_extraction.text import CountVectorizer\n",
        "\n",
        "vectorizer = CountVectorizer()\n",
        "X = vectorizer.fit_transform(clean_df_all['text']).toarray()\n",
        "\n",
        "# help from https://www.kaggle.com/mukulkirti/naive-bayes-theorem\n",
        "X_train, X_test, y_train, y_test = train_test_split(X, clean_df_all['label'], test_size=0.3, random_state=55)\n",
        "gnb = GaussianNB()\n",
        "y_pred = gnb.fit(X_train, y_train).predict(X_test)"
      ]
    },
    {
      "cell_type": "code",
      "source": [
        "# X[3]"
      ],
      "metadata": {
        "id": "tbMW8JwEiyQO"
      },
      "execution_count": null,
      "outputs": []
    },
    {
      "cell_type": "code",
      "source": [
        "# clean_df_all['text'][3]"
      ],
      "metadata": {
        "colab": {
          "base_uri": "https://localhost:8080/",
          "height": 71
        },
        "id": "quzGxGBSi6dN",
        "outputId": "0833eca5-98d9-4e2a-fc96-49b8dd038f1d"
      },
      "execution_count": null,
      "outputs": [
        {
          "output_type": "execute_result",
          "data": {
            "text/plain": [
              "' photoshop   windows   office   cheap   main trending  abasements darer prudently fortuitous undergone  lighthearted charm orinoco taster  railroad affluent pornographic cuvier  irvin parkhouse blameworthy chlorophyll  robed diagrammatic fogarty clears bayda  inconveniencing managing represented smartness hashish  academies shareholders unload badness  danielson pure caffein  spaniard chargeable levin  '"
            ],
            "application/vnd.google.colaboratory.intrinsic+json": {
              "type": "string"
            }
          },
          "metadata": {},
          "execution_count": 26
        }
      ]
    },
    {
      "cell_type": "code",
      "execution_count": null,
      "metadata": {
        "colab": {
          "base_uri": "https://localhost:8080/"
        },
        "id": "l2IjB7ALaQnu",
        "outputId": "e7cf227e-f08a-4d9b-cecf-1eca95804961"
      },
      "outputs": [
        {
          "output_type": "stream",
          "name": "stdout",
          "text": [
            "precision:  [0.95843936 0.96782842] \n",
            "recall:  [0.98949212 0.8804878 ] \n",
            "fscore:  [0.97371822 0.92209451] \n",
            "support:  [1142  410]\n"
          ]
        }
      ],
      "source": [
        "from sklearn.metrics import precision_recall_fscore_support\n",
        "p,r,f,s = precision_recall_fscore_support(y_test, y_pred)\n",
        "print('precision: ', p, '\\nrecall: ', r, '\\nfscore: ', f, '\\nsupport: ', s)"
      ]
    },
    {
      "cell_type": "markdown",
      "source": [
        "# Multinomial Naive Bayes Classifier"
      ],
      "metadata": {
        "id": "2Fx0I2wdz2xL"
      }
    },
    {
      "cell_type": "code",
      "execution_count": null,
      "metadata": {
        "id": "24AYFum-aQnu"
      },
      "outputs": [],
      "source": [
        "from sklearn.naive_bayes import MultinomialNB\n",
        "\n",
        "clf = MultinomialNB()\n",
        "clf.fit(X_train, y_train).predict(X_test)\n",
        "y_pred = clf.predict(X_test)\n"
      ]
    },
    {
      "cell_type": "code",
      "execution_count": null,
      "metadata": {
        "colab": {
          "base_uri": "https://localhost:8080/"
        },
        "id": "HybS2SUPaQnu",
        "outputId": "ca3ea451-fb76-40aa-af92-161459d44d4a"
      },
      "outputs": [
        {
          "output_type": "stream",
          "name": "stdout",
          "text": [
            "precision:  [0.97922078 0.97229219] \n",
            "recall:  [0.99036778 0.94146341] \n",
            "fscore:  [0.98476273 0.95662949] \n",
            "support:  [1142  410]\n"
          ]
        }
      ],
      "source": [
        "from sklearn.metrics import precision_recall_fscore_support\n",
        "p,r,f,s = precision_recall_fscore_support(y_test, y_pred)\n",
        "print('precision: ', p, '\\nrecall: ', r, '\\nfscore: ', f, '\\nsupport: ', s)"
      ]
    }
  ],
  "metadata": {
    "colab": {
      "collapsed_sections": [],
      "name": "project5.ipynb",
      "provenance": []
    },
    "kernelspec": {
      "display_name": "Python 3",
      "name": "python3"
    },
    "language_info": {
      "codemirror_mode": {
        "name": "ipython",
        "version": 3
      },
      "file_extension": ".py",
      "mimetype": "text/x-python",
      "name": "python",
      "nbconvert_exporter": "python",
      "pygments_lexer": "ipython3",
      "version": "3.9.7"
    }
  },
  "nbformat": 4,
  "nbformat_minor": 0
}